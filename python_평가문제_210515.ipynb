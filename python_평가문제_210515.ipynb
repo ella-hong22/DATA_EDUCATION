{
  "nbformat": 4,
  "nbformat_minor": 0,
  "metadata": {
    "colab": {
      "name": "python_평가문제.ipynb의 사본2",
      "provenance": [],
      "include_colab_link": true
    },
    "kernelspec": {
      "name": "python3",
      "display_name": "Python 3"
    },
    "language_info": {
      "name": "python"
    }
  },
  "cells": [
    {
      "cell_type": "markdown",
      "metadata": {
        "id": "view-in-github",
        "colab_type": "text"
      },
      "source": [
        "<a href=\"https://colab.research.google.com/github/ella-hong22/DATA_EDUCATION/blob/main/python_%ED%8F%89%EA%B0%80%EB%AC%B8%EC%A0%9C_210515.ipynb\" target=\"_parent\"><img src=\"https://colab.research.google.com/assets/colab-badge.svg\" alt=\"Open In Colab\"/></a>"
      ]
    },
    {
      "cell_type": "markdown",
      "metadata": {
        "id": "rLG2cS-u5uqc"
      },
      "source": [
        "# Python 과정 평가문제"
      ]
    },
    {
      "cell_type": "markdown",
      "metadata": {
        "id": "DNBbUj21FqJM"
      },
      "source": [
        "# 제출자 이름 : XXXX\n",
        "\n",
        "위 XXXX를 제출자 이름으로 변경해 주세요.\n",
        "\n",
        "<br>\n",
        "\n",
        "문제에 대한 풀이 코드를 작성하고 실행된 결과를 포함된 ipynb파일을 메일로 제출해 주세요.\n",
        "\n",
        "dh-rim@hanmail.net으로 다음 제목으로 보내주세요.\n",
        "```\n",
        "python 과정 평가 - 제출자이름\n",
        "```\n"
      ]
    },
    {
      "cell_type": "code",
      "metadata": {
        "id": "6A8VwJUZFx8I"
      },
      "source": [
        ""
      ],
      "execution_count": null,
      "outputs": []
    },
    {
      "cell_type": "code",
      "metadata": {
        "id": "rkpK5zfNFx4C"
      },
      "source": [
        ""
      ],
      "execution_count": null,
      "outputs": []
    },
    {
      "cell_type": "code",
      "metadata": {
        "id": "YXwlXiXmFxzR"
      },
      "source": [
        ""
      ],
      "execution_count": null,
      "outputs": []
    },
    {
      "cell_type": "markdown",
      "metadata": {
        "id": "lvkWqdnd5yAb"
      },
      "source": [
        "# Quiz.1\n",
        "사용자 입력을 자연수로 받아 그 숫자 만큼의 줄수로 다음과 같은 삼각형을 출력.\n",
        "print()문을 1개만 사용한다.\n",
        "\n",
        "```\n",
        "줄수 : 5\n",
        "1\n",
        "21\n",
        "321\n",
        "4321\n",
        "54321\n",
        "```"
      ]
    },
    {
      "cell_type": "code",
      "metadata": {
        "id": "xRgr_05NF9n6",
        "colab": {
          "base_uri": "https://localhost:8080/"
        },
        "outputId": "db58a28d-c1c4-4637-a34e-4270671d44cd"
      },
      "source": [
        "num = input(\"줄수 : \")\n",
        "num = int(num)\n",
        "\n",
        "l = []\n",
        "for i in range(1, num+1):\n",
        "     \n",
        "    for j in range(i,0,-1):\n",
        "         j = str(j)\n",
        "         l += j #문자열을 만들면 된다. \"1\\n21\\n321\\n\"\n",
        "    l += \"\\n\"\n",
        "\n",
        "\n",
        "last = \"\".join(l)\n",
        "print(last)\n",
        " \n"
      ],
      "execution_count": 115,
      "outputs": [
        {
          "output_type": "stream",
          "text": [
            "줄수 : 5\n",
            "1\n",
            "21\n",
            "321\n",
            "4321\n",
            "54321\n",
            "\n"
          ],
          "name": "stdout"
        }
      ]
    },
    {
      "cell_type": "code",
      "metadata": {
        "id": "0_vGClvIF9eW"
      },
      "source": [
        ""
      ],
      "execution_count": null,
      "outputs": []
    },
    {
      "cell_type": "code",
      "metadata": {
        "id": "00z30EjQ5n20"
      },
      "source": [
        ""
      ],
      "execution_count": null,
      "outputs": []
    },
    {
      "cell_type": "markdown",
      "metadata": {
        "id": "QUrmSh0B7Xc8"
      },
      "source": [
        "# Quiz.2\n",
        "다음과 같은 사용자 입력을 받아 계산하고 그 결과를 출력.\n",
        "\n",
        "```\n",
        "사용자 입력 : 1+2\n",
        "```\n",
        "출력\n",
        "```\n",
        "1+2=3\n",
        "```\n",
        "\n",
        "사용자 입력은 숫자와 '+' 혹은 '-' 그리고 숫자로 구성된다.\n",
        "\n",
        "숫자의 길이는 5글자를 넘지 않는다. \n",
        "\n",
        "사용자 입력에 숫자와 '.', '+', '-'를 제외한 다른 문자는 포함되지 않는다.\n",
        "\n",
        "다음은 입력 가능한 예 들이다.\n",
        "\n",
        "```\n",
        "1+2\n",
        "123+1.23\n",
        "3.21-2.34\n",
        "12345+1.234\n",
        "```\n",
        "\n",
        "\n"
      ]
    },
    {
      "cell_type": "code",
      "metadata": {
        "id": "vuGMEmL4F-z1",
        "colab": {
          "base_uri": "https://localhost:8080/"
        },
        "outputId": "b4c95cf2-4644-4030-f4e6-598e8a08bc13"
      },
      "source": [
        "i= input(\"수입력: \")\n",
        "put = list(i)\n",
        "\n",
        "if ('+' in put) == True: \n",
        "    sign ='+'\n",
        "    x,y = i.split(sign,1)\n",
        "    sum = (float(x) + float(y))\n",
        "\n",
        "    print(\"{}{}{} = {}\".format(x, sign, y, sum))\n",
        "\n",
        "if ('-' in put) == True: \n",
        "    sign ='-'\n",
        "    x,y = i.split(sign,1)\n",
        "    sub = round(float(x) - float(y), 10)\n",
        "\n",
        "    print(\"{}{}{} = {}\".format(x, sign, y, sub))\n",
        "    "
      ],
      "execution_count": 116,
      "outputs": [
        {
          "output_type": "stream",
          "text": [
            "수입력: 123+1.23\n",
            "123+1.23 = 124.23\n"
          ],
          "name": "stdout"
        }
      ]
    },
    {
      "cell_type": "code",
      "metadata": {
        "id": "PMU1irMCF-sQ"
      },
      "source": [
        ""
      ],
      "execution_count": null,
      "outputs": []
    },
    {
      "cell_type": "code",
      "metadata": {
        "id": "ys2zL-s27Z5i"
      },
      "source": [
        ""
      ],
      "execution_count": null,
      "outputs": []
    },
    {
      "cell_type": "markdown",
      "metadata": {
        "id": "1VaU9tRF811V"
      },
      "source": [
        "# Quiz.3\n",
        "\n",
        "raw_data는 다음과 같다.\n",
        "\n",
        "```\n",
        "0,170,강서구,23,B\n",
        "1,165,서초구,22,A\n",
        "2,177,,25,O\n",
        "3,172,강서구,,B\n",
        "4,166,마포구,26,AB\n",
        "```\n",
        "\n",
        "데이터가 5개 있고, 각 컬럼은 데이터 인덱스, 키, 거주지, 나이, 혈액형 이다.\n",
        "\n",
        "나이의 경우 값이 없는 경우도 있다.\n",
        "\n",
        "위의 데이터에 대한 키의 평균과 나이의 평균을 출력한다.\n",
        "\n",
        "```\n",
        "나이 평균 = xxx.xxx\n",
        "키 평균 = xxx.xxx\n",
        "```\n",
        "키의 값이 없는 경우 평균 계산에서 제외한다.\n",
        "\n",
        "<br>\n",
        "\n",
        "그리고 사는 거주지 전체의 리스트를 출력한다.\n",
        "\n",
        "위 데이터의 경우 다음과 같다. 리스트 값들의 순서는 무시한다. 값이 없는 경우는 무시한다.\n",
        "```\n",
        "[ '서초구', '마포구', '강서구' ]\n",
        "```\n",
        "\n"
      ]
    },
    {
      "cell_type": "code",
      "metadata": {
        "id": "BGm7CM877bAQ"
      },
      "source": [
        "raw_data=\"\"\"0,170,강서구,23,B\n",
        "1,165,서초구,22,A\n",
        "2,177,,25,O\n",
        "3,172,강서구,,B\n",
        "4,166,마포구,26,AB\"\"\""
      ],
      "execution_count": 68,
      "outputs": []
    },
    {
      "cell_type": "code",
      "metadata": {
        "colab": {
          "base_uri": "https://localhost:8080/"
        },
        "id": "c1gwNRgDZeJL",
        "outputId": "453cbb2f-0e34-45f0-ad5d-30e325f4bf2f"
      },
      "source": [
        "import pandas as pd\n",
        "import numpy as np\n",
        "\n",
        "#raw_data를 데이터 프레임으로 만들기 위한 전처리 \n",
        "df = raw_data.split(\"\\n\")\n",
        "\n",
        "list_df = []\n",
        "for i in range(len(df)):\n",
        "    df_split = df[i].split(\",\")\n",
        "    list_df.append(df_split)\n",
        "\n",
        "#dataframe으로 바꿔주기 \n",
        "columns = ['번호', '키','주소','나이','혈액형']\n",
        "df_pd = pd.DataFrame(list_df, columns= columns)\n",
        "\n",
        "#str를 int로 타입 변환 \n",
        "df_pd[['번호','키','나이']] =df_pd[['번호','키','나이']].apply(pd.to_numeric)\n",
        "print(df_pd)\n",
        "print()\n",
        "\n",
        "\n",
        "# '' 결측치로 바꿔주기 \n",
        "df_pd = df_pd.replace('', np.nan)\n",
        "\n",
        "# print(df_pd)\n",
        "age_df = df_pd['나이'].mean()\n",
        "tall_df = df_pd['키'].mean()\n",
        "\n",
        "#나이, 키 평균 출력 \n",
        "print(\"나이 평균 : {} \\n키 평균: {}\".format(age_df,tall_df))\n",
        "print()\n",
        "\n",
        "#중복값 제거한 주소 출력  \n",
        "list_address = list(df_pd['주소'][df_pd['주소'].notnull()].drop_duplicates())\n",
        "print(list_address)\n"
      ],
      "execution_count": 72,
      "outputs": [
        {
          "output_type": "stream",
          "text": [
            "   번호    키   주소    나이 혈액형\n",
            "0   0  170  강서구  23.0   B\n",
            "1   1  165  서초구  22.0   A\n",
            "2   2  177       25.0   O\n",
            "3   3  172  강서구   NaN   B\n",
            "4   4  166  마포구  26.0  AB\n",
            "\n",
            "나이 평균 : 24.0 \n",
            "키 평균: 170.0\n",
            "\n",
            "['강서구', '서초구', '마포구']\n"
          ],
          "name": "stdout"
        }
      ]
    },
    {
      "cell_type": "markdown",
      "metadata": {
        "id": "pY-eaE0dBGg-"
      },
      "source": [
        "# Quiz.4\n",
        "\n",
        "이름과 나이가 dict에 담겨 있다.\n",
        "```\n",
        "d = { \"tom\":32, \"jerry\":25, \"철수\":26, \"영희\":27 }\n",
        "```\n",
        "나이 가 적은 순으로다음을 출력한다.\n",
        "```\n",
        "25살 jerry\n",
        "26살 철수\n",
        "27살 영희\n",
        "32살 tom\n",
        "```\n",
        "\n",
        "Hint. 주어딘 d는 이름이 키이고 나이가 값이다. 나이가 키이고 이름이 값인 dict을 만들어서 이를 가지고 어떻게 할지 고민해 보자.\n"
      ]
    },
    {
      "cell_type": "code",
      "metadata": {
        "id": "RYyryuN37a3O",
        "colab": {
          "base_uri": "https://localhost:8080/"
        },
        "outputId": "0a5eab8b-5bfa-4324-d2e6-4a352d8df784"
      },
      "source": [
        "d = { \"tom\":32, \"jerry\":25, \"철수\":26, \"영희\":27 }\n",
        "\n",
        "#value 순서대로 정렬 \n",
        "d_reverce = dict(sorted(d.items(), key=lambda x : x[1]))\n",
        "d_reverce\n",
        "\n",
        "for k,v in d_reverce.items():\n",
        "    print(\"{}살 {}\".format(v, k))"
      ],
      "execution_count": 110,
      "outputs": [
        {
          "output_type": "stream",
          "text": [
            "25살 jerry\n",
            "26살 철수\n",
            "27살 영희\n",
            "32살 tom\n"
          ],
          "name": "stdout"
        }
      ]
    },
    {
      "cell_type": "code",
      "metadata": {
        "id": "DYZnwXWyGBX1",
        "colab": {
          "base_uri": "https://localhost:8080/"
        },
        "outputId": "64fc1735-f070-4029-fe7a-c003847817d3"
      },
      "source": [
        "#두번째 방법 \n",
        "d = { \"tom\":32, \"jerry\":25, \"철수\":26, \"영희\":27 }\n",
        "\n",
        "d_rever = {}\n",
        "for k,v in d.items():\n",
        "    d_rever[v] = k\n",
        "\n",
        "sdict= dict(sorted(d_rever.items(), reverse=False))\n",
        "\n",
        "for k,v in sdict.items():\n",
        "    print(\"{}살 {}\".format(k, v))"
      ],
      "execution_count": 111,
      "outputs": [
        {
          "output_type": "stream",
          "text": [
            "25살 jerry\n",
            "26살 철수\n",
            "27살 영희\n",
            "32살 tom\n"
          ],
          "name": "stdout"
        }
      ]
    },
    {
      "cell_type": "code",
      "metadata": {
        "id": "YF00h4BOGBSl"
      },
      "source": [
        ""
      ],
      "execution_count": null,
      "outputs": []
    },
    {
      "cell_type": "markdown",
      "metadata": {
        "id": "X-9PRumpCeqo"
      },
      "source": [
        "# Quiz.5\n",
        "\n",
        "다음의 코드를 정리해서\n",
        "```\n",
        "print(\"length=5, symbol=* : *****\")\n",
        "print(\"length=3, symbol=+ : +++\")\n",
        "print(\"length=6, symbol=$ : $$$$$$\")\n",
        "print(\"length=2, symbol=# : ##\")\n",
        "```\n",
        "다음의 코드로 정리하고 싶다.\n",
        "```\n",
        "# symbol과 length를 받아서 length길이의 symbol로 구성된 문자열을 반환한다.\n",
        "# build_symbol_of_length(\"*\", 3)으로 호출하면 \"***\" 반환\n",
        "# build_symbol_of_length(\"$\", 7)으로 호출하면 \"$$$$$$$\" 반환\n",
        "# build_symbol_of_length(\"!\", 5)으로 호출하면 \"!!!!!\" 반환\n",
        "def build_symbol_of_length(symbol, length):\n",
        "  ...\n",
        "\n",
        "# symbol과 length를 받아서 특정 포멧의 1줄을 출력.\n",
        "# draw_symbol_of_length(\"*\", 3)으로 호출하면 'length=3, symbol=* : ***'을 출력\n",
        "# draw_symbol_of_length(\"$\", 7)으로 호출하면 'length=7, symbol=$ : $$$$$$$'을 출력\n",
        "# draw_symbol_of_length(\"!\", 5)으로 호출하면 'length=5, symbol=! : !!!!!'을 출력\n",
        "def draw_symbol_of_length(symbol, length):\n",
        "  ...\n",
        "\n",
        "symbol_length_dic = { \"*\":5, \"+\":3, \"$\":6, \"#\":2 }\n",
        "\n",
        "for symbol, length in symbol_length_dic.items():\n",
        "  draw_symbol_of_length(symbol, length)\n",
        "```\n",
        "함수 xxx를 채워 넣는다."
      ]
    },
    {
      "cell_type": "code",
      "metadata": {
        "colab": {
          "base_uri": "https://localhost:8080/"
        },
        "id": "5Gsvg-PD7azo",
        "outputId": "849b572f-625b-410b-bf98-0ed68ea89d54"
      },
      "source": [
        "print(\"length=5, symbol=* : *****\")\n",
        "print(\"length=3, symbol=+ : +++\")\n",
        "print(\"length=6, symbol=$ : $$$$$$\")\n",
        "print(\"length=2, symbol=# : ##\")"
      ],
      "execution_count": null,
      "outputs": [
        {
          "output_type": "stream",
          "text": [
            "length=5, symbol=* : *****\n",
            "length=3, symbol=+ : +++\n",
            "length=6, symbol=$ : $$$$$$\n",
            "length=2, symbol=# : ##\n"
          ],
          "name": "stdout"
        }
      ]
    },
    {
      "cell_type": "code",
      "metadata": {
        "id": "CTeUPEi3Dg3P"
      },
      "source": [
        "# symbol과 length를 받아서 length길이의 symbol로 구성된 문자열을 반환한다.\n",
        "# build_symbol_of_length(\"*\", 3)으로 호출하면 \"***\" 반환\n",
        "# build_symbol_of_length(\"$\", 7)으로 호출하면 \"$$$$$$$\" 반환\n",
        "# build_symbol_of_length(\"!\", 5)으로 호출하면 \"!!!!!\" 반환\n",
        "def build_symbol_of_length(symbol, length):\n",
        "  ...\n",
        " \n",
        "# symbol과 length를 받아서 특정 포멧의 1줄을 출력.\n",
        "# draw_symbol_of_length(\"*\", 3)으로 호출하면 'length=3, symbol=* : ***'을 출력\n",
        "# draw_symbol_of_length(\"$\", 7)으로 호출하면 'length=7, symbol=$ : $$$$$$$'을 출력\n",
        "# draw_symbol_of_length(\"!\", 5)으로 호출하면 'length=5, symbol=! : !!!!!'을 출력\n",
        "def draw_symbol_of_length(symbol, length):\n",
        "  ...\n",
        " \n",
        "symbol_length_dic = { \"*\":5, \"+\":3, \"$\":6, \"#\":2 }\n",
        " \n",
        "for symbol, length in symbol_length_dic.items():\n",
        "  draw_symbol_of_length(symbol, length)"
      ],
      "execution_count": null,
      "outputs": []
    },
    {
      "cell_type": "code",
      "metadata": {
        "id": "aJOIw09-uRTd"
      },
      "source": [
        ""
      ],
      "execution_count": null,
      "outputs": []
    },
    {
      "cell_type": "code",
      "metadata": {
        "id": "PGgB4AXIuRPF"
      },
      "source": [
        ""
      ],
      "execution_count": null,
      "outputs": []
    },
    {
      "cell_type": "code",
      "metadata": {
        "id": "jd8QU1beuRKr"
      },
      "source": [
        ""
      ],
      "execution_count": null,
      "outputs": []
    },
    {
      "cell_type": "markdown",
      "metadata": {
        "id": "_ZfEIrYuuT0I"
      },
      "source": [
        "# Quiz. 6\n",
        "\n",
        "다음 코드는 2의배수만 추려서 절대값을 구하고 2배하고 이를 소팅한 코드이다.\n",
        "\n",
        "리스트 표현식을 사용하여 for 구문 없이 같은 출력을 내도록 한다."
      ]
    },
    {
      "cell_type": "code",
      "metadata": {
        "id": "mD5GukHOudt5",
        "colab": {
          "base_uri": "https://localhost:8080/"
        },
        "outputId": "f0375cf6-9277-42ba-9e95-1034270fedf9"
      },
      "source": [
        "l = [4, -2, -3, 6, 4, -8, 9, 10]\n",
        "\n",
        "l2 = []\n",
        "for i in l:\n",
        "  if i%2==0:\n",
        "    l2.append(abs(i)*2)\n",
        "l2.sort()\n",
        "print(l2)\n",
        "    "
      ],
      "execution_count": null,
      "outputs": [
        {
          "output_type": "stream",
          "text": [
            "[4, 8, 8, 12, 16, 20]\n"
          ],
          "name": "stdout"
        }
      ]
    },
    {
      "cell_type": "code",
      "metadata": {
        "id": "hFwS05LLvQKD",
        "colab": {
          "base_uri": "https://localhost:8080/"
        },
        "outputId": "160919e9-d0df-4cb3-d69f-f5fd88bcbd6c"
      },
      "source": [
        "l = [4, -2, -3, 6, 4, -8, 9, 10]\n",
        "\n",
        "l2 = [abs(i)*2 for i in l if i%2 ==0] \n",
        "\n",
        "l2.sort()\n",
        "print(l2)"
      ],
      "execution_count": 114,
      "outputs": [
        {
          "output_type": "stream",
          "text": [
            "[4, 8, 8, 12, 16, 20]\n"
          ],
          "name": "stdout"
        }
      ]
    },
    {
      "cell_type": "code",
      "metadata": {
        "id": "NCMND0BivQB9"
      },
      "source": [
        ""
      ],
      "execution_count": null,
      "outputs": []
    },
    {
      "cell_type": "code",
      "metadata": {
        "id": "OIJslExYvP47"
      },
      "source": [
        ""
      ],
      "execution_count": null,
      "outputs": []
    }
  ]
}