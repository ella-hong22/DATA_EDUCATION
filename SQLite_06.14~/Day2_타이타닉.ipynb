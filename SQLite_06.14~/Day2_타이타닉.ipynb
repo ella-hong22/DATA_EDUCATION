{
 "cells": [
  {
   "cell_type": "code",
   "execution_count": 4,
   "id": "badcee3d",
   "metadata": {},
   "outputs": [
    {
     "name": "stdout",
     "output_type": "stream",
     "text": [
      "SELECT *  FROM customers  where vip_rank = 2 \n",
      "[(1, 'Luís', 'Gonçalves', 'Embraer - Empresa Brasileira de Aeronáutica S.A.', 'Av. Brigadeiro Faria Lima, 2170', 'São José dos Campos', 'SP', 'Brazil', '12227-000', '+55 (12) 3923-5555', '+55 (12) 3923-5566', 'luisg@embraer.com.br', 3, 2), (3, 'François', 'Tremblay', None, '1498 rue Bélanger', 'Montréal', 'QC', 'Canada', 'H2G 1A7', '+1 (514) 721-4711', None, 'ftremblay@gmail.com', 3, 2), (4, 'Bjørn', 'Hansen', None, 'Ullevålsveien 14', 'Oslo', None, 'Norway', '0171', '+47 22 44 22 22', None, 'bjorn.hansen@yahoo.no', 4, 2), (5, 'František', 'Wichterlová', 'JetBrains s.r.o.', 'Klanova 9/506', 'Prague', None, 'Czech Republic', '14700', '+420 2 4172 5555', '+420 2 4172 5555', 'frantisekw@jetbrains.com', 4, 2), (7, 'Astrid', 'Gruber', None, 'Rotenturmstraße 4, 1010 Innere Stadt', 'Vienne', None, 'Austria', '1010', '+43 01 5134505', None, 'astrid.gruber@apple.at', 5, 2), (17, 'Jack', 'Smith', 'Microsoft Corporation', '1 Microsoft Way', 'Redmond', 'WA', 'USA', '98052-8300', '+1 (425) 882-8080', '+1 (425) 882-8081', 'jacksmith@microsoft.com', 5, 2), (20, 'Dan', 'Miller', None, '541 Del Medio Avenue', 'Mountain View', 'CA', 'USA', '94040-111', '+1 (650) 644-3358', None, 'dmiller@comcast.com', 4, 2), (22, 'Heather', 'Leacock', None, '120 S Orange Ave', 'Orlando', 'FL', 'USA', '32801', '+1 (407) 999-7788', None, 'hleacock@gmail.com', 4, 2), (24, 'Frank', 'Ralston', None, '162 E Superior Street', 'Chicago', 'IL', 'USA', '60611', '+1 (312) 332-3232', None, 'fralston@gmail.com', 3, 2), (25, 'Victor', 'Stevens', None, '319 N. Frances Street', 'Madison', 'WI', 'USA', '53703', '+1 (608) 257-0597', None, 'vstevens@yahoo.com', 5, 2), (28, 'Julia', 'Barnett', None, '302 S 700 E', 'Salt Lake City', 'UT', 'USA', '84102', '+1 (801) 531-7272', None, 'jubarnett@gmail.com', 5, 2), (34, 'João', 'Fernandes', None, 'Rua da Assunção 53', 'Lisbon', None, 'Portugal', None, '+351 (213) 466-111', None, 'jfernandes@yahoo.pt', 4, 2), (37, 'Fynn', 'Zimmermann', None, 'Berger Straße 10', 'Frankfurt', None, 'Germany', '60316', '+49 069 40598889', None, 'fzimmermann@yahoo.de', 3, 2), (42, 'Wyatt', 'Girard', None, '9, Place Louis Barthou', 'Bordeaux', None, 'France', '33000', '+33 05 56 96 96 96', None, 'wyatt.girard@yahoo.fr', 3, 2), (43, 'Isabelle', 'Mercier', None, '68, Rue Jouvence', 'Dijon', None, 'France', '21000', '+33 03 80 73 66 99', None, 'isabelle_mercier@apple.fr', 3, 2), (44, 'Terhi', 'Hämäläinen', None, 'Porthaninkatu 9', 'Helsinki', None, 'Finland', '00530', '+358 09 870 2000', None, 'terhi.hamalainen@apple.fi', 3, 2), (48, 'Johannes', 'Van der Berg', None, 'Lijnbaansgracht 120bg', 'Amsterdam', 'VV', 'Netherlands', '1016', '+31 020 6223130', None, 'johavanderberg@yahoo.nl', 5, 2)]\n"
     ]
    }
   ],
   "source": [
    "import sqlite3\n",
    "\n",
    "conn = sqlite3.connect('chinook.db')\n",
    "cur = conn.cursor()\n",
    "\n",
    "strSQL = \"SELECT *  FROM customers \"\n",
    "strSQL = strSQL + \" where vip_rank = 2 \"\n",
    "\n",
    "print(strSQL)\n",
    "\n",
    "cur.execute(strSQL)\n",
    "results = cur.fetchall()\n",
    "print(results)\n",
    "\n",
    "\n",
    "# for row in results:\n",
    "#     print(row)\n",
    "    \n",
    "conn.close()"
   ]
  },
  {
   "cell_type": "markdown",
   "id": "86357806",
   "metadata": {},
   "source": [
    "SELECT CustomerId\n",
    "FROM \t(SELECT  CustomerId, sum(Total) as GrandTotal FROM invoices GROUP BY CustomerId  )\n",
    "WHERE GrandTotal  < ( SELECT avg(GrandTotal)*0.5+max(GrandTotal)*0.5 as top25 \n",
    "                                                 FROM (SELECT  CustomerId, sum(Total) as GrandTotal FROM invoices GROUP BY CustomerId) )\n",
    "\t  AND GrandTotal  >= ( SELECT avg(GrandTotal)  \n",
    "      FROM (SELECT  CustomerId, sum(Total) as GrandTotal FROM invoices GROUP BY CustomerId))"
   ]
  },
  {
   "cell_type": "code",
   "execution_count": 22,
   "id": "d798b2d7",
   "metadata": {},
   "outputs": [
    {
     "name": "stdout",
     "output_type": "stream",
     "text": [
      " SELECT CustomerId   FROM \t(SELECT  CustomerId, sum(Total) as GrandTotal FROM invoices GROUP BY CustomerId  )  WHERE GrandTotal  > ( SELECT avg(GrandTotal)*0.5+max(GrandTotal)*0.5    FROM (SELECT  CustomerId, sum(Total) as GrandTotal FROM invoices GROUP BY CustomerId) )  \n",
      "[(6,), (26,), (45,), (46,), (57,)]\n"
     ]
    }
   ],
   "source": [
    "import sqlite3\n",
    "\n",
    "conn = sqlite3.connect('chinook.db')\n",
    "cur = conn.cursor()\n",
    "\n",
    "\n",
    "strSQL = \" SELECT CustomerId  \"\n",
    "strSQL = strSQL + \" FROM \t(SELECT  CustomerId, sum(Total) as GrandTotal FROM invoices GROUP BY CustomerId  ) \"\n",
    "strSQL = strSQL + \" WHERE GrandTotal  > ( SELECT avg(GrandTotal)*0.5+max(GrandTotal)*0.5   \"\n",
    "strSQL = strSQL + \" FROM (SELECT  CustomerId, sum(Total) as GrandTotal FROM invoices GROUP BY CustomerId) )  \"\n",
    "\n",
    "print(strSQL)\n",
    "\n",
    "cur.execute(strSQL)\n",
    "results = cur.fetchall()\n",
    "print(results)\n",
    "\n",
    "\n",
    "    \n",
    "conn.close()"
   ]
  },
  {
   "cell_type": "code",
   "execution_count": 25,
   "id": "b6054787",
   "metadata": {},
   "outputs": [
    {
     "name": "stdout",
     "output_type": "stream",
     "text": [
      "6\n"
     ]
    }
   ],
   "source": [
    "print(results[0][0])"
   ]
  },
  {
   "cell_type": "markdown",
   "id": "789ab793",
   "metadata": {},
   "source": [
    "- Update 할때 for문으로 간단하게 sql 작성하기 "
   ]
  },
  {
   "cell_type": "code",
   "execution_count": 35,
   "id": "21178cad",
   "metadata": {},
   "outputs": [],
   "source": [
    "\n",
    "for i in range(len(results)):\n",
    "    CustId = results[i][0]\n",
    "#     print(CustId)\n",
    "    conn = sqlite3.connect('chinook.db')\n",
    "    cur = conn.cursor()\n",
    "    \n",
    "    strSQL = \" Update customers set vip_rank= 10 \"\n",
    "    strSQL = strSQL + \" where customerid =  \" + str(CustId) \n",
    "    \n",
    "    cur.execute(strSQL)\n",
    "conn.commit()\n",
    "\n",
    "conn.close()"
   ]
  },
  {
   "cell_type": "code",
   "execution_count": null,
   "id": "d3b32c9e",
   "metadata": {},
   "outputs": [],
   "source": [
    "import sqlite3\n",
    "\n",
    "conn = sqlite3.connect('chinook.db')\n",
    "cur = conn.cursor()\n",
    "\n",
    "\n",
    "strSQL = \" SELECT CustomerId  \"\n",
    "strSQL = strSQL + \" FROM \t(SELECT  CustomerId, sum(Total) as GrandTotal FROM invoices GROUP BY CustomerId  ) \"\n",
    "strSQL = strSQL + \" WHERE GrandTotal  > ( SELECT avg(GrandTotal)*0.5+max(GrandTotal)*0.5   \"\n",
    "strSQL = strSQL + \" FROM (SELECT  CustomerId, sum(Total) as GrandTotal FROM invoices GROUP BY CustomerId) )  \"\n",
    "\n",
    "print(strSQL)\n",
    "\n",
    "cur.execute(strSQL)\n",
    "results = cur.fetchall()\n",
    "print(results)\n",
    "\n",
    "if len(results) < 1:\n",
    "    print('Table is empty.')\n",
    "    \n",
    "else :\n",
    "    for i in range(len(results)):\n",
    "        CustId = results[i][0]\n",
    "        #print(CustId)\n",
    "\n",
    "        strSQL = \" Update customers set vip_rank= 10 \"\n",
    "        strSQL = strSQL + \" where customerid =  \" + str(CustId) \n",
    "\n",
    "        cur.execute(strSQL)\n",
    "    conn.commit()\n",
    "    \n",
    "conn.close()    "
   ]
  },
  {
   "cell_type": "markdown",
   "id": "fa9ba91e",
   "metadata": {},
   "source": [
    "### 위 코드 함수화"
   ]
  },
  {
   "cell_type": "code",
   "execution_count": 41,
   "id": "98145251",
   "metadata": {},
   "outputs": [
    {
     "name": "stdout",
     "output_type": "stream",
     "text": [
      " Update customers set vip_rank =  1000 where customerid =  6\n",
      " Update customers set vip_rank =  1000 where customerid =  26\n",
      " Update customers set vip_rank =  1000 where customerid =  45\n",
      " Update customers set vip_rank =  1000 where customerid =  46\n",
      " Update customers set vip_rank =  1000 where customerid =  57\n",
      "성공\n"
     ]
    }
   ],
   "source": [
    "import sqlite3\n",
    "\n",
    "\n",
    "def getPlatinumList(db_cursor):\n",
    "\n",
    "    strSQL = \" SELECT CustomerId  \"\n",
    "    strSQL = strSQL + \" FROM \t(SELECT  CustomerId, sum(Total) as GrandTotal FROM invoices GROUP BY CustomerId  ) \"\n",
    "    strSQL = strSQL + \" WHERE GrandTotal  > ( SELECT avg(GrandTotal)*0.5+max(GrandTotal)*0.5   \"\n",
    "    strSQL = strSQL + \" FROM (SELECT  CustomerId, sum(Total) as GrandTotal FROM invoices GROUP BY CustomerId) )  \"\n",
    "    \n",
    "    db_cursor.execute(strSQL)\n",
    "    custList = db_cursor.fetchall()\n",
    "    \n",
    "    return custList\n",
    "\n",
    "def setVIPRank(db_cursor, customer_list, customer_rank):\n",
    "    \n",
    "    numOfCustomers = len(customer_list)\n",
    "    for i in range(numOfCustomers):\n",
    "        CustId = customer_list[i][0]\n",
    "        #print(CustId)\n",
    "\n",
    "        strSQL = \" Update customers set vip_rank =  \" + str(customer_rank) \n",
    "        strSQL =  strSQL + \" where customerid =  \" + str(CustId) \n",
    "        print(strSQL)\n",
    "        db_cursor.execute(strSQL)\n",
    "        \n",
    "def setVIPRank2(db_cursor, customer_list, customer_rank):\n",
    "    \n",
    "    numOfCustomers = len(customer_list)\n",
    "    try:\n",
    "        for i in range(numOfCustomers):\n",
    "            CustId = customer_list[i][0]\n",
    "            #print(CustId)\n",
    "\n",
    "            strSQL = \" Update customers set vip_rank =  \" + str(customer_rank) \n",
    "            strSQL =  strSQL + \" where customerid =  \" + str(CustId) \n",
    "            print(strSQL)\n",
    "            db_cursor.execute(strSQL)\n",
    "            \n",
    "        Is_OK =True\n",
    "    except:\n",
    "        Is_OK =False\n",
    "        \n",
    "    return Is_OK\n",
    "    \n",
    "#main function ---------------------------------------------------------------------------------------------------\n",
    "\n",
    "conn = sqlite3.connect('chinook.db')\n",
    "cur = conn.cursor()\n",
    "\n",
    "#함수 호출 \n",
    "custList = getPlatinumList(cur)\n",
    "\n",
    "if len(custList) <1:\n",
    "    print('No VIP')\n",
    "else: \n",
    "    if setVIPRank2(cur, custList, 1000): #setVIPRank2가 True 이면 이란 의미 \n",
    "        \n",
    "        conn.commit()\n",
    "        print('성공')\n",
    "    else:\n",
    "        conn.rollback()\n",
    "        print('실패')\n",
    "    \n",
    "conn.close()\n",
    "\n",
    "\n"
   ]
  },
  {
   "cell_type": "markdown",
   "id": "3266ebae",
   "metadata": {},
   "source": [
    "### 타이타닉 \n",
    "- 데이터 한번에 넣기 to_sql\n"
   ]
  },
  {
   "cell_type": "code",
   "execution_count": 55,
   "id": "ddc29bba",
   "metadata": {},
   "outputs": [
    {
     "ename": "TypeError",
     "evalue": "read_csv() got an unexpected keyword argument 'inplace'",
     "output_type": "error",
     "traceback": [
      "\u001b[1;31m---------------------------------------------------------------------------\u001b[0m",
      "\u001b[1;31mTypeError\u001b[0m                                 Traceback (most recent call last)",
      "\u001b[1;32m<ipython-input-55-4474b02e72aa>\u001b[0m in \u001b[0;36m<module>\u001b[1;34m\u001b[0m\n\u001b[0;32m      2\u001b[0m \u001b[1;32mimport\u001b[0m \u001b[0msqlite3\u001b[0m\u001b[1;33m\u001b[0m\u001b[1;33m\u001b[0m\u001b[0m\n\u001b[0;32m      3\u001b[0m \u001b[1;33m\u001b[0m\u001b[0m\n\u001b[1;32m----> 4\u001b[1;33m \u001b[0mtitanic_data\u001b[0m \u001b[1;33m=\u001b[0m \u001b[0mpd\u001b[0m\u001b[1;33m.\u001b[0m\u001b[0mread_csv\u001b[0m\u001b[1;33m(\u001b[0m\u001b[1;34m\"./titanic.csv\"\u001b[0m \u001b[1;33m,\u001b[0m\u001b[0minplace\u001b[0m\u001b[1;33m=\u001b[0m\u001b[1;32mFalse\u001b[0m\u001b[1;33m)\u001b[0m \u001b[1;31m#상대경로\u001b[0m\u001b[1;33m\u001b[0m\u001b[1;33m\u001b[0m\u001b[0m\n\u001b[0m\u001b[0;32m      5\u001b[0m \u001b[1;33m\u001b[0m\u001b[0m\n\u001b[0;32m      6\u001b[0m \u001b[0mconn\u001b[0m \u001b[1;33m=\u001b[0m \u001b[0msqlite3\u001b[0m\u001b[1;33m.\u001b[0m\u001b[0mconnect\u001b[0m\u001b[1;33m(\u001b[0m\u001b[1;34m'chinook.db'\u001b[0m\u001b[1;33m)\u001b[0m\u001b[1;33m\u001b[0m\u001b[1;33m\u001b[0m\u001b[0m\n",
      "\u001b[1;31mTypeError\u001b[0m: read_csv() got an unexpected keyword argument 'inplace'"
     ]
    }
   ],
   "source": [
    "import pandas as pd\n",
    "import sqlite3\n",
    "\n",
    "titanic_data = pd.read_csv(\"./titanic.csv\" ) #상대경로 \n",
    "\n",
    "conn = sqlite3.connect('chinook.db')\n",
    "titanic_data.to_sql('titanic', conn)\n",
    "\n",
    "\n",
    "conn.close()"
   ]
  },
  {
   "cell_type": "code",
   "execution_count": 47,
   "id": "cc990ab8",
   "metadata": {},
   "outputs": [
    {
     "name": "stdout",
     "output_type": "stream",
     "text": [
      "<class 'list'>\n",
      "<class 'pandas.core.frame.DataFrame'>\n"
     ]
    }
   ],
   "source": [
    "import pandas as pd\n",
    "import sqlite3\n",
    "\n",
    "conn = sqlite3.connect('chinook.db')\n",
    "cur = conn.cursor()\n",
    "\n",
    "# Method 1\n",
    "strSQL = \"SELECT * FROM titanic\"\n",
    "cur.execute(strSQL)\n",
    "titanic_list = cur.fetchall()\n",
    "print(type(titanic_list))\n",
    "\n",
    "# if len(titanic_list) < 1:\n",
    "#     print('Table is empty.')\n",
    "# else:\n",
    "#     for result in titanic_list:\n",
    "#         print(result)\n",
    "\n",
    "# Method 2\n",
    "strSQL = \"SELECT * FROM titanic\"\n",
    "titanic_dataframe = pd.read_sql(strSQL, conn)\n",
    "print(type(titanic_dataframe))\n",
    "\n",
    "conn.close()\n"
   ]
  },
  {
   "cell_type": "code",
   "execution_count": 54,
   "id": "ada21465",
   "metadata": {},
   "outputs": [
    {
     "data": {
      "text/html": [
       "<div>\n",
       "<style scoped>\n",
       "    .dataframe tbody tr th:only-of-type {\n",
       "        vertical-align: middle;\n",
       "    }\n",
       "\n",
       "    .dataframe tbody tr th {\n",
       "        vertical-align: top;\n",
       "    }\n",
       "\n",
       "    .dataframe thead th {\n",
       "        text-align: right;\n",
       "    }\n",
       "</style>\n",
       "<table border=\"1\" class=\"dataframe\">\n",
       "  <thead>\n",
       "    <tr style=\"text-align: right;\">\n",
       "      <th></th>\n",
       "      <th>index</th>\n",
       "      <th>PassengerId</th>\n",
       "      <th>Survived</th>\n",
       "      <th>Pclass</th>\n",
       "      <th>Name</th>\n",
       "      <th>Sex</th>\n",
       "      <th>Age</th>\n",
       "      <th>SibSp</th>\n",
       "      <th>Parch</th>\n",
       "      <th>Ticket</th>\n",
       "      <th>Fare</th>\n",
       "      <th>Cabin</th>\n",
       "      <th>Embarked</th>\n",
       "    </tr>\n",
       "  </thead>\n",
       "  <tbody>\n",
       "    <tr>\n",
       "      <th>0</th>\n",
       "      <td>0</td>\n",
       "      <td>1</td>\n",
       "      <td>0</td>\n",
       "      <td>3</td>\n",
       "      <td>Braund, Mr. Owen Harris</td>\n",
       "      <td>male</td>\n",
       "      <td>22.0</td>\n",
       "      <td>1</td>\n",
       "      <td>0</td>\n",
       "      <td>A/5 21171</td>\n",
       "      <td>7.2500</td>\n",
       "      <td>None</td>\n",
       "      <td>S</td>\n",
       "    </tr>\n",
       "    <tr>\n",
       "      <th>1</th>\n",
       "      <td>1</td>\n",
       "      <td>2</td>\n",
       "      <td>1</td>\n",
       "      <td>1</td>\n",
       "      <td>Cumings, Mrs. John Bradley (Florence Briggs Th...</td>\n",
       "      <td>female</td>\n",
       "      <td>38.0</td>\n",
       "      <td>1</td>\n",
       "      <td>0</td>\n",
       "      <td>PC 17599</td>\n",
       "      <td>71.2833</td>\n",
       "      <td>C85</td>\n",
       "      <td>C</td>\n",
       "    </tr>\n",
       "    <tr>\n",
       "      <th>2</th>\n",
       "      <td>2</td>\n",
       "      <td>3</td>\n",
       "      <td>1</td>\n",
       "      <td>3</td>\n",
       "      <td>Heikkinen, Miss. Laina</td>\n",
       "      <td>female</td>\n",
       "      <td>26.0</td>\n",
       "      <td>0</td>\n",
       "      <td>0</td>\n",
       "      <td>STON/O2. 3101282</td>\n",
       "      <td>7.9250</td>\n",
       "      <td>None</td>\n",
       "      <td>S</td>\n",
       "    </tr>\n",
       "    <tr>\n",
       "      <th>3</th>\n",
       "      <td>3</td>\n",
       "      <td>4</td>\n",
       "      <td>1</td>\n",
       "      <td>1</td>\n",
       "      <td>Futrelle, Mrs. Jacques Heath (Lily May Peel)</td>\n",
       "      <td>female</td>\n",
       "      <td>35.0</td>\n",
       "      <td>1</td>\n",
       "      <td>0</td>\n",
       "      <td>113803</td>\n",
       "      <td>53.1000</td>\n",
       "      <td>C123</td>\n",
       "      <td>S</td>\n",
       "    </tr>\n",
       "    <tr>\n",
       "      <th>4</th>\n",
       "      <td>4</td>\n",
       "      <td>5</td>\n",
       "      <td>0</td>\n",
       "      <td>3</td>\n",
       "      <td>Allen, Mr. William Henry</td>\n",
       "      <td>male</td>\n",
       "      <td>35.0</td>\n",
       "      <td>0</td>\n",
       "      <td>0</td>\n",
       "      <td>373450</td>\n",
       "      <td>8.0500</td>\n",
       "      <td>None</td>\n",
       "      <td>S</td>\n",
       "    </tr>\n",
       "  </tbody>\n",
       "</table>\n",
       "</div>"
      ],
      "text/plain": [
       "   index  PassengerId  Survived  Pclass  \\\n",
       "0      0            1         0       3   \n",
       "1      1            2         1       1   \n",
       "2      2            3         1       3   \n",
       "3      3            4         1       1   \n",
       "4      4            5         0       3   \n",
       "\n",
       "                                                Name     Sex   Age  SibSp  \\\n",
       "0                            Braund, Mr. Owen Harris    male  22.0      1   \n",
       "1  Cumings, Mrs. John Bradley (Florence Briggs Th...  female  38.0      1   \n",
       "2                             Heikkinen, Miss. Laina  female  26.0      0   \n",
       "3       Futrelle, Mrs. Jacques Heath (Lily May Peel)  female  35.0      1   \n",
       "4                           Allen, Mr. William Henry    male  35.0      0   \n",
       "\n",
       "   Parch            Ticket     Fare Cabin Embarked  \n",
       "0      0         A/5 21171   7.2500  None        S  \n",
       "1      0          PC 17599  71.2833   C85        C  \n",
       "2      0  STON/O2. 3101282   7.9250  None        S  \n",
       "3      0            113803  53.1000  C123        S  \n",
       "4      0            373450   8.0500  None        S  "
      ]
     },
     "execution_count": 54,
     "metadata": {},
     "output_type": "execute_result"
    }
   ],
   "source": [
    "titanic_dataframe.head()"
   ]
  },
  {
   "cell_type": "code",
   "execution_count": 59,
   "id": "2d1ad690",
   "metadata": {},
   "outputs": [
    {
     "data": {
      "text/html": [
       "<div>\n",
       "<style scoped>\n",
       "    .dataframe tbody tr th:only-of-type {\n",
       "        vertical-align: middle;\n",
       "    }\n",
       "\n",
       "    .dataframe tbody tr th {\n",
       "        vertical-align: top;\n",
       "    }\n",
       "\n",
       "    .dataframe thead th {\n",
       "        text-align: right;\n",
       "    }\n",
       "</style>\n",
       "<table border=\"1\" class=\"dataframe\">\n",
       "  <thead>\n",
       "    <tr style=\"text-align: right;\">\n",
       "      <th></th>\n",
       "      <th>Pclass</th>\n",
       "      <th>Age</th>\n",
       "      <th>Parch</th>\n",
       "    </tr>\n",
       "  </thead>\n",
       "  <tbody>\n",
       "    <tr>\n",
       "      <th>0</th>\n",
       "      <td>3</td>\n",
       "      <td>22.0</td>\n",
       "      <td>0</td>\n",
       "    </tr>\n",
       "    <tr>\n",
       "      <th>1</th>\n",
       "      <td>1</td>\n",
       "      <td>38.0</td>\n",
       "      <td>0</td>\n",
       "    </tr>\n",
       "    <tr>\n",
       "      <th>2</th>\n",
       "      <td>3</td>\n",
       "      <td>26.0</td>\n",
       "      <td>0</td>\n",
       "    </tr>\n",
       "  </tbody>\n",
       "</table>\n",
       "</div>"
      ],
      "text/plain": [
       "   Pclass   Age  Parch\n",
       "0       3  22.0      0\n",
       "1       1  38.0      0\n",
       "2       3  26.0      0"
      ]
     },
     "execution_count": 59,
     "metadata": {},
     "output_type": "execute_result"
    }
   ],
   "source": [
    "titanic_data.iloc[:3,  [2,5,7]]"
   ]
  },
  {
   "cell_type": "code",
   "execution_count": 1,
   "id": "da30ce29",
   "metadata": {},
   "outputs": [
    {
     "name": "stdout",
     "output_type": "stream",
     "text": [
      "     PassengerId  Survived  Pclass  \\\n",
      "0              1         0       3   \n",
      "1              2         1       1   \n",
      "2              3         1       3   \n",
      "3              4         1       1   \n",
      "4              5         0       3   \n",
      "..           ...       ...     ...   \n",
      "886          887         0       2   \n",
      "887          888         1       1   \n",
      "888          889         0       3   \n",
      "889          890         1       1   \n",
      "890          891         0       3   \n",
      "\n",
      "                                                  Name     Sex   Age  SibSp  \\\n",
      "0                              Braund, Mr. Owen Harris    male  22.0      1   \n",
      "1    Cumings, Mrs. John Bradley (Florence Briggs Th...  female  38.0      1   \n",
      "2                               Heikkinen, Miss. Laina  female  26.0      0   \n",
      "3         Futrelle, Mrs. Jacques Heath (Lily May Peel)  female  35.0      1   \n",
      "4                             Allen, Mr. William Henry    male  35.0      0   \n",
      "..                                                 ...     ...   ...    ...   \n",
      "886                              Montvila, Rev. Juozas    male  27.0      0   \n",
      "887                       Graham, Miss. Margaret Edith  female  19.0      0   \n",
      "888           Johnston, Miss. Catherine Helen \"Carrie\"  female   NaN      1   \n",
      "889                              Behr, Mr. Karl Howell    male  26.0      0   \n",
      "890                                Dooley, Mr. Patrick    male  32.0      0   \n",
      "\n",
      "     Parch            Ticket     Fare Cabin Embarked  \n",
      "0        0         A/5 21171   7.2500   NaN        S  \n",
      "1        0          PC 17599  71.2833   C85        C  \n",
      "2        0  STON/O2. 3101282   7.9250   NaN        S  \n",
      "3        0            113803  53.1000  C123        S  \n",
      "4        0            373450   8.0500   NaN        S  \n",
      "..     ...               ...      ...   ...      ...  \n",
      "886      0            211536  13.0000   NaN        S  \n",
      "887      0            112053  30.0000   B42        S  \n",
      "888      2        W./C. 6607  23.4500   NaN        S  \n",
      "889      0            111369  30.0000  C148        C  \n",
      "890      0            370376   7.7500   NaN        Q  \n",
      "\n",
      "[891 rows x 12 columns]\n",
      "INSERT INTO titanic_selected(PassengerId, Name) values ( 5, 'Allen, Mr. William Henry' ) \n",
      "error!\n",
      "[(1, None, None, 'Braund, Mr. Owen Harris', None, None), (2, None, None, 'Cumings, Mrs. John Bradley (Florence Briggs Thayer)', None, None), (3, None, None, 'Heikkinen, Miss. Laina', None, None), (4, None, None, 'Futrelle, Mrs. Jacques Heath (Lily May Peel)', None, None), (5, None, None, 'Allen, Mr. William Henry', None, None)]\n"
     ]
    }
   ],
   "source": [
    "# %reset -f #모든 변수들을 지우고 시작\n",
    "\n",
    "import pandas as pd \n",
    "import sqlite3\n",
    "\n",
    "titanic_data = pd.read_csv(\"./titanic.csv\" )\n",
    "# titanic_data = pd.DataFrame(titanic_data)\n",
    "\n",
    "print(titanic_data)\n",
    "conn = sqlite3.connect('chinook.db')\n",
    "cur = conn.cursor()\n",
    "\n",
    "strSQL = \"INSERT INTO titanic_selected\"\n",
    "strSQL = strSQL + \"(PassengerId, Name) values ( \"\n",
    "strSQL = strSQL + str(titanic_data[\"PassengerId\"][4]) + \", \"\n",
    "strSQL = strSQL +  \"'\" + str(titanic_data[\"Name\"][4]) + \"' ) \"\n",
    "\n",
    "print(strSQL)\n",
    "\n",
    "try:\n",
    "    cur.execute(strSQL)\n",
    "    conn.commit()\n",
    "    print('정상처리!')\n",
    "except:\n",
    "    print('error!')\n",
    "    conn.rollback()\n",
    "    \n",
    "strSQL = \"select * from titanic_selected \"\n",
    "cur.execute(strSQL)\n",
    "results = cur.fetchall()\n",
    "\n",
    "print(results)\n",
    "\n",
    "conn.close()\n",
    "\n"
   ]
  },
  {
   "cell_type": "markdown",
   "id": "896ecb5a",
   "metadata": {},
   "source": [
    "### DELETE"
   ]
  },
  {
   "cell_type": "code",
   "execution_count": 71,
   "id": "ec90fa52",
   "metadata": {},
   "outputs": [],
   "source": [
    "import sqlite3\n",
    "\n",
    "conn = sqlite3.connect('chinook.db')\n",
    "cur = conn.cursor()\n",
    "\n",
    "strSQL = \"delete from titanic_selected\"\n",
    "cur.execute(strSQL)\n",
    "conn.commit()\n",
    "\n",
    "conn.close()"
   ]
  },
  {
   "cell_type": "code",
   "execution_count": 7,
   "id": "ea5cc1a7",
   "metadata": {},
   "outputs": [],
   "source": [
    "import sqlite3\n",
    "\n",
    "conn = sqlite3.connect('chinook.db')\n",
    "cur = conn.cursor()\n",
    "\n",
    "strSQL = \"select * from titanic_selected\"\n",
    "titanic_dataframe = pd.read_sql(strSQL, conn)\n",
    "\n",
    "conn.close()"
   ]
  },
  {
   "cell_type": "code",
   "execution_count": 8,
   "id": "760261fc",
   "metadata": {},
   "outputs": [
    {
     "data": {
      "text/html": [
       "<div>\n",
       "<style scoped>\n",
       "    .dataframe tbody tr th:only-of-type {\n",
       "        vertical-align: middle;\n",
       "    }\n",
       "\n",
       "    .dataframe tbody tr th {\n",
       "        vertical-align: top;\n",
       "    }\n",
       "\n",
       "    .dataframe thead th {\n",
       "        text-align: right;\n",
       "    }\n",
       "</style>\n",
       "<table border=\"1\" class=\"dataframe\">\n",
       "  <thead>\n",
       "    <tr style=\"text-align: right;\">\n",
       "      <th></th>\n",
       "      <th>PassengerId</th>\n",
       "      <th>Survived</th>\n",
       "      <th>Pclass</th>\n",
       "      <th>Name</th>\n",
       "      <th>Sex</th>\n",
       "      <th>Age</th>\n",
       "    </tr>\n",
       "  </thead>\n",
       "  <tbody>\n",
       "  </tbody>\n",
       "</table>\n",
       "</div>"
      ],
      "text/plain": [
       "Empty DataFrame\n",
       "Columns: [PassengerId, Survived, Pclass, Name, Sex, Age]\n",
       "Index: []"
      ]
     },
     "execution_count": 8,
     "metadata": {},
     "output_type": "execute_result"
    }
   ],
   "source": [
    "titanic_dataframe"
   ]
  },
  {
   "cell_type": "markdown",
   "id": "3d109847",
   "metadata": {},
   "source": [
    "### 모든 ROW를 DB에 Import 하려면?\n",
    "### 한번에한 개씩 INSERT 구문을 실행하기 \n",
    "- 총 ROW 개수는?\n",
    "- For Loop \n"
   ]
  },
  {
   "cell_type": "code",
   "execution_count": 10,
   "id": "92118e0d",
   "metadata": {},
   "outputs": [
    {
     "data": {
      "text/plain": [
       "891"
      ]
     },
     "execution_count": 10,
     "metadata": {},
     "output_type": "execute_result"
    }
   ],
   "source": [
    "len(titanic_data[\"PassengerId\"])"
   ]
  },
  {
   "cell_type": "code",
   "execution_count": 12,
   "id": "3c27c0ae",
   "metadata": {},
   "outputs": [
    {
     "name": "stdout",
     "output_type": "stream",
     "text": [
      "<class 'pandas.core.frame.DataFrame'>\n",
      "RangeIndex: 891 entries, 0 to 890\n",
      "Data columns (total 12 columns):\n",
      " #   Column       Non-Null Count  Dtype  \n",
      "---  ------       --------------  -----  \n",
      " 0   PassengerId  891 non-null    int64  \n",
      " 1   Survived     891 non-null    int64  \n",
      " 2   Pclass       891 non-null    int64  \n",
      " 3   Name         891 non-null    object \n",
      " 4   Sex          891 non-null    object \n",
      " 5   Age          714 non-null    float64\n",
      " 6   SibSp        891 non-null    int64  \n",
      " 7   Parch        891 non-null    int64  \n",
      " 8   Ticket       891 non-null    object \n",
      " 9   Fare         891 non-null    float64\n",
      " 10  Cabin        204 non-null    object \n",
      " 11  Embarked     889 non-null    object \n",
      "dtypes: float64(2), int64(5), object(5)\n",
      "memory usage: 83.7+ KB\n"
     ]
    }
   ],
   "source": [
    "titanic_data.info()"
   ]
  },
  {
   "cell_type": "code",
   "execution_count": 13,
   "id": "0e1102da",
   "metadata": {},
   "outputs": [
    {
     "data": {
      "text/plain": [
       "Index(['PassengerId', 'Survived', 'Pclass', 'Name', 'Sex', 'Age', 'SibSp',\n",
       "       'Parch', 'Ticket', 'Fare', 'Cabin', 'Embarked'],\n",
       "      dtype='object')"
      ]
     },
     "execution_count": 13,
     "metadata": {},
     "output_type": "execute_result"
    }
   ],
   "source": [
    "titanic_data.columns"
   ]
  },
  {
   "cell_type": "code",
   "execution_count": 22,
   "id": "d4333c6b",
   "metadata": {},
   "outputs": [
    {
     "name": "stdout",
     "output_type": "stream",
     "text": [
      "     PassengerId  Survived  Pclass  \\\n",
      "0              1         0       3   \n",
      "1              2         1       1   \n",
      "2              3         1       3   \n",
      "3              4         1       1   \n",
      "4              5         0       3   \n",
      "..           ...       ...     ...   \n",
      "886          887         0       2   \n",
      "887          888         1       1   \n",
      "888          889         0       3   \n",
      "889          890         1       1   \n",
      "890          891         0       3   \n",
      "\n",
      "                                                  Name     Sex   Age  SibSp  \\\n",
      "0                              Braund, Mr. Owen Harris    male  22.0      1   \n",
      "1    Cumings, Mrs. John Bradley (Florence Briggs Th...  female  38.0      1   \n",
      "2                               Heikkinen, Miss. Laina  female  26.0      0   \n",
      "3         Futrelle, Mrs. Jacques Heath (Lily May Peel)  female  35.0      1   \n",
      "4                             Allen, Mr. William Henry    male  35.0      0   \n",
      "..                                                 ...     ...   ...    ...   \n",
      "886                              Montvila, Rev. Juozas    male  27.0      0   \n",
      "887                       Graham, Miss. Margaret Edith  female  19.0      0   \n",
      "888           Johnston, Miss. Catherine Helen \"Carrie\"  female   NaN      1   \n",
      "889                              Behr, Mr. Karl Howell    male  26.0      0   \n",
      "890                                Dooley, Mr. Patrick    male  32.0      0   \n",
      "\n",
      "     Parch            Ticket     Fare Cabin Embarked  \n",
      "0        0         A/5 21171   7.2500   NaN        S  \n",
      "1        0          PC 17599  71.2833   C85        C  \n",
      "2        0  STON/O2. 3101282   7.9250   NaN        S  \n",
      "3        0            113803  53.1000  C123        S  \n",
      "4        0            373450   8.0500   NaN        S  \n",
      "..     ...               ...      ...   ...      ...  \n",
      "886      0            211536  13.0000   NaN        S  \n",
      "887      0            112053  30.0000   B42        S  \n",
      "888      2        W./C. 6607  23.4500   NaN        S  \n",
      "889      0            111369  30.0000  C148        C  \n",
      "890      0            370376   7.7500   NaN        Q  \n",
      "\n",
      "[891 rows x 12 columns]\n",
      "PassengerId = 0 정상처리!\n",
      "PassengerId = 1 정상처리!\n",
      "PassengerId = 2 정상처리!\n",
      "PassengerId = 3 정상처리!\n",
      "PassengerId = 4 정상처리!\n"
     ]
    }
   ],
   "source": [
    "\n",
    "\n",
    "import pandas as pd \n",
    "import sqlite3\n",
    "\n",
    "titanic_data = pd.read_csv(\"./titanic.csv\" )\n",
    "# titanic_data = pd.DataFrame(titanic_data)\n",
    "\n",
    "print(titanic_data)\n",
    "conn = sqlite3.connect('chinook.db')\n",
    "cur = conn.cursor()\n",
    "\n",
    "\n",
    "for i in range(5): #range(len(titanic_data[\"PassengerId\"]))\n",
    "    strSQL = \"INSERT INTO titanic_selected\"\n",
    "    strSQL = strSQL + \"(PassengerId, Survived, Pclass, Name, Sex, Age) values ( \"\n",
    "    strSQL = strSQL + str(titanic_data[\"PassengerId\"][i]) + \", \"\n",
    "    strSQL = strSQL + str(titanic_data[\"Survived\"][i]) + \", \"\n",
    "    strSQL = strSQL + str(titanic_data[\"Pclass\"][i]) + \", \"\n",
    "    strSQL = strSQL + \"'\"  + str(titanic_data[\"Name\"][i]) + \"' , \"\n",
    "    strSQL = strSQL +  \"'\"  + str(titanic_data[\"Sex\"][i]) + \"' , \"\n",
    "    strSQL = strSQL + str(titanic_data[\"Age\"][i]) + \" ) \"\n",
    "\n",
    "#     print(strSQL)\n",
    "\n",
    "    try:\n",
    "        cur.execute(strSQL)\n",
    "        conn.commit()\n",
    "        print('PassengerId = ' + str(i) + ' 정상처리!')\n",
    "    except:\n",
    "        print('PassengerId = ' + str(i) + ' 오류!')\n",
    "        conn.rollback()\n",
    "\n",
    "        \n",
    "#sqlite로 보는 방법\n",
    "strSQL = \"select * from titanic_selected \"\n",
    "# cur.execute(strSQL)\n",
    "# results = cur.fetchall()\n",
    "# print(results)\n",
    "\n",
    "#판다스로 데이터 옮기기\n",
    "titanic_dataframe = pd.read_sql(strSQL, conn)\n",
    "\n",
    "conn.close()\n",
    "\n"
   ]
  },
  {
   "cell_type": "code",
   "execution_count": 20,
   "id": "1622f85b",
   "metadata": {},
   "outputs": [
    {
     "data": {
      "text/html": [
       "<div>\n",
       "<style scoped>\n",
       "    .dataframe tbody tr th:only-of-type {\n",
       "        vertical-align: middle;\n",
       "    }\n",
       "\n",
       "    .dataframe tbody tr th {\n",
       "        vertical-align: top;\n",
       "    }\n",
       "\n",
       "    .dataframe thead th {\n",
       "        text-align: right;\n",
       "    }\n",
       "</style>\n",
       "<table border=\"1\" class=\"dataframe\">\n",
       "  <thead>\n",
       "    <tr style=\"text-align: right;\">\n",
       "      <th></th>\n",
       "      <th>PassengerId</th>\n",
       "      <th>Survived</th>\n",
       "      <th>Pclass</th>\n",
       "      <th>Name</th>\n",
       "      <th>Sex</th>\n",
       "      <th>Age</th>\n",
       "    </tr>\n",
       "  </thead>\n",
       "  <tbody>\n",
       "    <tr>\n",
       "      <th>0</th>\n",
       "      <td>1</td>\n",
       "      <td>0</td>\n",
       "      <td>3</td>\n",
       "      <td>Braund, Mr. Owen Harris</td>\n",
       "      <td>male</td>\n",
       "      <td>22</td>\n",
       "    </tr>\n",
       "    <tr>\n",
       "      <th>1</th>\n",
       "      <td>2</td>\n",
       "      <td>1</td>\n",
       "      <td>1</td>\n",
       "      <td>Cumings, Mrs. John Bradley (Florence Briggs Th...</td>\n",
       "      <td>female</td>\n",
       "      <td>38</td>\n",
       "    </tr>\n",
       "    <tr>\n",
       "      <th>2</th>\n",
       "      <td>3</td>\n",
       "      <td>1</td>\n",
       "      <td>3</td>\n",
       "      <td>Heikkinen, Miss. Laina</td>\n",
       "      <td>female</td>\n",
       "      <td>26</td>\n",
       "    </tr>\n",
       "    <tr>\n",
       "      <th>3</th>\n",
       "      <td>4</td>\n",
       "      <td>1</td>\n",
       "      <td>1</td>\n",
       "      <td>Futrelle, Mrs. Jacques Heath (Lily May Peel)</td>\n",
       "      <td>female</td>\n",
       "      <td>35</td>\n",
       "    </tr>\n",
       "    <tr>\n",
       "      <th>4</th>\n",
       "      <td>5</td>\n",
       "      <td>0</td>\n",
       "      <td>3</td>\n",
       "      <td>Allen, Mr. William Henry</td>\n",
       "      <td>male</td>\n",
       "      <td>35</td>\n",
       "    </tr>\n",
       "  </tbody>\n",
       "</table>\n",
       "</div>"
      ],
      "text/plain": [
       "   PassengerId  Survived  Pclass  \\\n",
       "0            1         0       3   \n",
       "1            2         1       1   \n",
       "2            3         1       3   \n",
       "3            4         1       1   \n",
       "4            5         0       3   \n",
       "\n",
       "                                                Name     Sex  Age  \n",
       "0                            Braund, Mr. Owen Harris    male   22  \n",
       "1  Cumings, Mrs. John Bradley (Florence Briggs Th...  female   38  \n",
       "2                             Heikkinen, Miss. Laina  female   26  \n",
       "3       Futrelle, Mrs. Jacques Heath (Lily May Peel)  female   35  \n",
       "4                           Allen, Mr. William Henry    male   35  "
      ]
     },
     "execution_count": 20,
     "metadata": {},
     "output_type": "execute_result"
    }
   ],
   "source": [
    "titanic_dataframe"
   ]
  },
  {
   "cell_type": "code",
   "execution_count": 25,
   "id": "bf29b180",
   "metadata": {},
   "outputs": [
    {
     "name": "stdout",
     "output_type": "stream",
     "text": [
      "INSERT INTO titanic_selected ( PassengerId, Name ) VALUES ( 1, 'Braund, Mr. Owen Harris' ); \n",
      "INSERT INTO titanic_selected ( PassengerId, Name ) VALUES ( 2, 'Cumings, Mrs. John Bradley (Florence Briggs Thayer)' ); \n",
      "INSERT INTO titanic_selected ( PassengerId, Name ) VALUES ( 3, 'Heikkinen, Miss. Laina' ); \n",
      "INSERT INTO titanic_selected ( PassengerId, Name ) VALUES ( 4, 'Futrelle, Mrs. Jacques Heath (Lily May Peel)' ); \n",
      "INSERT INTO titanic_selected ( PassengerId, Name ) VALUES ( 5, 'Allen, Mr. William Henry' ); \n",
      "\n"
     ]
    }
   ],
   "source": [
    "import pandas as pd\n",
    "import sqlite3\n",
    "\n",
    "file_name = './titanic.csv'\n",
    "titanic_data = pd.read_csv(file_name)\n",
    "\n",
    "rowNum = titanic_data[\"PassengerId\"].count()\n",
    "rowNum = 5\n",
    "\n",
    "conn = sqlite3.connect('chinook.db')\n",
    "cur = conn.cursor()\n",
    "\n",
    "strSQL_all = \"\"\n",
    "\n",
    "for i in range(rowNum):\n",
    "    strSQL = \"INSERT INTO titanic_selected \"\n",
    "    strSQL = strSQL + \"( PassengerId, Name ) VALUES ( \"\n",
    "    strSQL = strSQL + str(titanic_data[\"PassengerId\"][i]) + \", \"\n",
    "    strSQL = strSQL + \"'\" + titanic_data[\"Name\"][i] + \"' ); \"\n",
    "    strSQL = strSQL + \"\\n\"\n",
    "    \n",
    "    strSQL_all = strSQL_all + strSQL\n",
    "    \n",
    "print(strSQL_all)\n",
    "\n",
    "# try:\n",
    "#     cur.executescript(strSQL_all)\n",
    "#     conn.commit()\n",
    "#     print('정상처리!')\n",
    "# except:\n",
    "#     conn.rollback()\n",
    "#     print('오류!')\n",
    "        \n",
    "\n",
    "# 데이터 확인        \n",
    "strSQL = \"SELECT * FROM  titanic_selected \"\n",
    "# cur.execute(strSQL)\n",
    "# results = cur.fetchall()\n",
    "# print(results)\n",
    "\n",
    "titanic_dataframe = pd.read_sql(strSQL, conn)\n",
    "\n",
    "conn.close()\n"
   ]
  },
  {
   "cell_type": "markdown",
   "id": "0851106a",
   "metadata": {},
   "source": [
    "### (Method 3) executemany 구문을 이용\n",
    "\n",
    "### 일단, 한 개의 Insert 구문을 실행시켜보자.\n",
    "\n",
    "* (Style #1) question mark style\n",
    "- str 혹은 int 타입 확인하고 \"?\"에 넣기"
   ]
  },
  {
   "cell_type": "code",
   "execution_count": 40,
   "id": "939e94e5",
   "metadata": {},
   "outputs": [
    {
     "name": "stdout",
     "output_type": "stream",
     "text": [
      "INSERT INTO titanic_selected ( PassengerId, Name ) VALUES (?, ?) \n",
      "[(11, None, None, 'Sandstrom, Miss. Marguerite Rut', None, None)]\n"
     ]
    }
   ],
   "source": [
    "%reset -f\n",
    "\n",
    "import pandas as pd\n",
    "import sqlite3\n",
    "\n",
    "file_name = './titanic.csv'\n",
    "titanic_data = pd.read_csv(file_name)\n",
    "\n",
    "conn = sqlite3.connect('chinook.db')\n",
    "cur = conn.cursor()\n",
    "\n",
    "# passID = titanic_data[\"PassengerId\"][0] #int type error\n",
    "passID = int(titanic_data[\"PassengerId\"][10])\n",
    "passName = titanic_data[\"Name\"][10]\n",
    "\n",
    "strSQL = \"INSERT INTO titanic_selected ( PassengerId, Name ) VALUES (?, ?) \"\n",
    "print(strSQL)\n",
    "\n",
    "cur.execute(strSQL, (passID, passName))\n",
    "conn.commit()\n",
    "\n",
    "strSQL = \"SELECT * FROM  titanic_selected \"\n",
    "cur.execute(strSQL)\n",
    "results = cur.fetchall()\n",
    "\n",
    "print(results)\n",
    "    \n",
    "conn.close()"
   ]
  },
  {
   "cell_type": "code",
   "execution_count": 33,
   "id": "69c1c387",
   "metadata": {},
   "outputs": [
    {
     "name": "stdout",
     "output_type": "stream",
     "text": [
      "<class 'numpy.int64'> <class 'str'>\n"
     ]
    }
   ],
   "source": [
    "print(type(passID),type(passName))"
   ]
  },
  {
   "cell_type": "markdown",
   "id": "901a44d2",
   "metadata": {},
   "source": [
    "### 일단, 한 개의 Insert 구문을 실행시켜보자.\n",
    "(Style #2) the named style"
   ]
  },
  {
   "cell_type": "code",
   "execution_count": 43,
   "id": "d130d599",
   "metadata": {},
   "outputs": [
    {
     "name": "stdout",
     "output_type": "stream",
     "text": [
      "INSERT INTO titanic_selected ( PassengerId, Name ) VALUES (:passID, :passName) \n"
     ]
    }
   ],
   "source": [
    "import pandas as pd\n",
    "import sqlite3\n",
    "\n",
    "file_name = './titanic.csv'\n",
    "titanic_data = pd.read_csv(file_name)\n",
    "\n",
    "conn = sqlite3.connect('chinook.db')\n",
    "cur = conn.cursor()\n",
    "\n",
    "# passID = titanic_data[\"PassengerId\"][0] #int type error\n",
    "passID = int(titanic_data[\"PassengerId\"][0])\n",
    "passName = titanic_data[\"Name\"][0]\n",
    "\n",
    "strSQL = \"INSERT INTO titanic_selected ( PassengerId, Name ) VALUES (:passID, :passName) \"\n",
    "print(strSQL)\n",
    "\n",
    "cur.execute(strSQL, {\"passID\" :passID, \"passName\" :passName})\n",
    "conn.commit()\n",
    "\n",
    "\n",
    "strSQL = \"SELECT * FROM titanic_selected\""
   ]
  },
  {
   "cell_type": "code",
   "execution_count": 44,
   "id": "63596409",
   "metadata": {},
   "outputs": [
    {
     "name": "stdout",
     "output_type": "stream",
     "text": [
      "INSERT INTO titanic_selected ( PassengerId, Name ) VALUES (:passID, :passName) \n",
      "INSERT INTO titanic_selected ( PassengerId, Name ) VALUES (:passID, :passName) \n",
      "INSERT INTO titanic_selected ( PassengerId, Name ) VALUES (:passID, :passName) \n"
     ]
    }
   ],
   "source": [
    "import pandas as pd\n",
    "import sqlite3\n",
    "\n",
    "file_name = './titanic.csv'\n",
    "titanic_data = pd.read_csv(file_name)\n",
    "\n",
    "conn = sqlite3.connect('chinook.db')\n",
    "cur = conn.cursor()\n",
    "\n",
    "for i in range(5,8):\n",
    "    passID = int(titanic_data[\"PassengerId\"][i])\n",
    "    passName = titanic_data[\"Name\"][i]\n",
    "\n",
    "    strSQL = \"INSERT INTO titanic_selected ( PassengerId, Name ) VALUES (:passID, :passName) \"\n",
    "    print(strSQL)\n",
    "\n",
    "    cur.execute(strSQL, {\"passID\" :passID, \"passName\" :passName})\n",
    "conn.commit()\n",
    "\n",
    "\n"
   ]
  },
  {
   "cell_type": "code",
   "execution_count": 72,
   "id": "2339273f",
   "metadata": {},
   "outputs": [
    {
     "name": "stdout",
     "output_type": "stream",
     "text": [
      "INSERT INTO titanic_selected ( PassengerId, Name )  VALUES (:passID, :passName) \n"
     ]
    }
   ],
   "source": [
    "import pandas as pd\n",
    "import sqlite3\n",
    "\n",
    "file_name = './titanic.csv'\n",
    "titanic_data = pd.read_csv(file_name)\n",
    "\n",
    "conn = sqlite3.connect('chinook.db')\n",
    "cur = conn.cursor()\n",
    "\n",
    "rowNum = titanic_data[\"PassengerId\"].count()\n",
    "rowNum = 5\n",
    "\n",
    "passData = []\n",
    "for i in range(rowNum):\n",
    "    passID = int(titanic_data[\"PassengerId\"][i])\n",
    "    passName = titanic_data[\"Name\"][i]\n",
    "    \n",
    "    passData.append([passID, passName])\n",
    "\n",
    "strSQL = \"INSERT INTO titanic_selected ( PassengerId, Name ) \"\n",
    "strSQL = strSQL + \" VALUES (:passID, :passName) \"\n",
    "print(strSQL)\n",
    "\n",
    "cur.executemany(strSQL, passData)\n",
    "conn.commit()\n",
    "\n",
    "# 데이터 확인        \n",
    "strSQL = \"SELECT * FROM  titanic_selected \"\n",
    "# cur.execute(strSQL)\n",
    "# results = cur.fetchall()\n",
    "# print(results)\n",
    "\n",
    "titanic_dataframe = pd.read_sql(strSQL, conn)\n",
    "    \n",
    "conn.close()"
   ]
  },
  {
   "cell_type": "code",
   "execution_count": 66,
   "id": "c8feeb18",
   "metadata": {},
   "outputs": [
    {
     "data": {
      "text/plain": [
       "891"
      ]
     },
     "execution_count": 66,
     "metadata": {},
     "output_type": "execute_result"
    }
   ],
   "source": [
    "len(titanic_data[\"PassengerId\"])"
   ]
  },
  {
   "cell_type": "code",
   "execution_count": 75,
   "id": "e26cea01",
   "metadata": {},
   "outputs": [
    {
     "data": {
      "text/plain": [
       "[[1, 'Braund, Mr. Owen Harris'],\n",
       " [2, 'Cumings, Mrs. John Bradley (Florence Briggs Thayer)'],\n",
       " [3, 'Heikkinen, Miss. Laina'],\n",
       " [4, 'Futrelle, Mrs. Jacques Heath (Lily May Peel)'],\n",
       " [5, 'Allen, Mr. William Henry']]"
      ]
     },
     "execution_count": 75,
     "metadata": {},
     "output_type": "execute_result"
    }
   ],
   "source": [
    "passData\n"
   ]
  },
  {
   "cell_type": "code",
   "execution_count": null,
   "id": "dc5bfb55",
   "metadata": {},
   "outputs": [],
   "source": []
  }
 ],
 "metadata": {
  "kernelspec": {
   "display_name": "Python 3",
   "language": "python",
   "name": "python3"
  },
  "language_info": {
   "codemirror_mode": {
    "name": "ipython",
    "version": 3
   },
   "file_extension": ".py",
   "mimetype": "text/x-python",
   "name": "python",
   "nbconvert_exporter": "python",
   "pygments_lexer": "ipython3",
   "version": "3.8.8"
  }
 },
 "nbformat": 4,
 "nbformat_minor": 5
}
