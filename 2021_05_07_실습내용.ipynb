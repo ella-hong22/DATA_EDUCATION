{
  "nbformat": 4,
  "nbformat_minor": 0,
  "metadata": {
    "colab": {
      "name": "2021_05_07_실습내용.ipynb",
      "provenance": [],
      "authorship_tag": "ABX9TyPsv5KB14cneoRBgMSl2ady",
      "include_colab_link": true
    },
    "kernelspec": {
      "name": "python3",
      "display_name": "Python 3"
    },
    "language_info": {
      "name": "python"
    }
  },
  "cells": [
    {
      "cell_type": "markdown",
      "metadata": {
        "id": "view-in-github",
        "colab_type": "text"
      },
      "source": [
        "<a href=\"https://colab.research.google.com/github/ella-hong22/DATA_EDUCATION/blob/main/2021_05_07_%EC%8B%A4%EC%8A%B5%EB%82%B4%EC%9A%A9.ipynb\" target=\"_parent\"><img src=\"https://colab.research.google.com/assets/colab-badge.svg\" alt=\"Open In Colab\"/></a>"
      ]
    },
    {
      "cell_type": "code",
      "metadata": {
        "id": "ffTm0o98IJS-",
        "colab": {
          "base_uri": "https://localhost:8080/"
        },
        "outputId": "88549a21-791d-49e7-c1c0-56dee3e00dde"
      },
      "source": [
        "temp =30\n",
        "if temp > 25:\n",
        "    weather = '더워요'\n",
        "else:\n",
        "    weather = '추워요'\n",
        "print(weather)"
      ],
      "execution_count": null,
      "outputs": [
        {
          "output_type": "stream",
          "text": [
            "더워요\n"
          ],
          "name": "stdout"
        }
      ]
    },
    {
      "cell_type": "code",
      "metadata": {
        "colab": {
          "base_uri": "https://localhost:8080/"
        },
        "id": "GeNxZvugLj1z",
        "outputId": "453b6942-4be4-4cd9-8ed8-0f03f8815539"
      },
      "source": [
        "#값을 설정할때 만 사용\n",
        "temp =30\n",
        "weather = '더워요' if temp > 25 else \"추워요.\"\n",
        "\n",
        "print(weather)"
      ],
      "execution_count": null,
      "outputs": [
        {
          "output_type": "stream",
          "text": [
            "더워요\n"
          ],
          "name": "stdout"
        }
      ]
    },
    {
      "cell_type": "code",
      "metadata": {
        "colab": {
          "base_uri": "https://localhost:8080/"
        },
        "id": "XM0iLgJzLu4x",
        "outputId": "34c7084c-d058-4740-d581-ddda2e4f8986"
      },
      "source": [
        "temp =30\n",
        "weather = '더워요' if temp > 25 else \"추워요.\"\n",
        "\n",
        "print(weather)\n",
        "print(1,2,3,4,\"더워요\" if temp >25 else \"추워요\")"
      ],
      "execution_count": null,
      "outputs": [
        {
          "output_type": "stream",
          "text": [
            "더워요\n",
            "1 2 3 4 더워요\n"
          ],
          "name": "stdout"
        }
      ]
    },
    {
      "cell_type": "code",
      "metadata": {
        "colab": {
          "base_uri": "https://localhost:8080/"
        },
        "id": "b8qSDqdBMkjL",
        "outputId": "008a3999-3c08-4924-abd4-c09c8e22a889"
      },
      "source": [
        "#for문 변수 2개 \n",
        "\n",
        "name = ['tom', 'jerry', '철수', '영희']\n",
        "age= [30, 33, 35, 32]\n",
        "\n",
        "for i, a in zip(name, age):\n",
        "    print(\"이름 : {}, 나이 : {}\".format(i,a))"
      ],
      "execution_count": null,
      "outputs": [
        {
          "output_type": "stream",
          "text": [
            "이름 : tom, 나이 : 30\n",
            "이름 : jerry, 나이 : 33\n",
            "이름 : 철수, 나이 : 35\n",
            "이름 : 영희, 나이 : 32\n"
          ],
          "name": "stdout"
        }
      ]
    },
    {
      "cell_type": "code",
      "metadata": {
        "colab": {
          "base_uri": "https://localhost:8080/"
        },
        "id": "jQpZPU-cNQre",
        "outputId": "3ac31f62-dac4-44e8-8fa2-c133851e7121"
      },
      "source": [
        "print(\"이름 : {0} = 나이 : {0}\".format(\"영희\", 32))"
      ],
      "execution_count": null,
      "outputs": [
        {
          "output_type": "stream",
          "text": [
            "이름 : 영희 = 나이 : 영희\n"
          ],
          "name": "stdout"
        }
      ]
    },
    {
      "cell_type": "code",
      "metadata": {
        "colab": {
          "base_uri": "https://localhost:8080/"
        },
        "id": "VF5xERc1OB-m",
        "outputId": "75799fdd-8e17-41cf-fb8f-c22ddfd92f0c"
      },
      "source": [
        "def print_name_and_age(name,age):\n",
        "    print(\"이름 = {}, 나이 = {}\".format(name,age))\n",
        "\n",
        "print_name_and_age(\"tom\", 30)"
      ],
      "execution_count": null,
      "outputs": [
        {
          "output_type": "stream",
          "text": [
            "이름 =tom, 나이 = 30\n"
          ],
          "name": "stdout"
        }
      ]
    },
    {
      "cell_type": "code",
      "metadata": {
        "colab": {
          "base_uri": "https://localhost:8080/"
        },
        "id": "Qyld4h1-Oq00",
        "outputId": "3bfdca56-33c5-4e44-acd5-3eb940dd1e85"
      },
      "source": [
        "def print_name_and_age(name,age):\n",
        "    print(\"이름  : {}, 나이 : {}\".format(name,age))\n",
        "    print(\"=========================================\")\n",
        "\n",
        "print_name_and_age(\"tom\", 30)"
      ],
      "execution_count": null,
      "outputs": [
        {
          "output_type": "stream",
          "text": [
            "이름  : tom, 나이 : 30\n",
            "\n"
          ],
          "name": "stdout"
        }
      ]
    },
    {
      "cell_type": "code",
      "metadata": {
        "colab": {
          "base_uri": "https://localhost:8080/"
        },
        "id": "NIu65-C2QGUG",
        "outputId": "861d9679-9314-4851-9600-7b67c172cf0c"
      },
      "source": [
        "def my_sum(a,b):\n",
        "    print(\"합 : \", a +b)\n",
        "\n",
        "my_sum(1,2)\n",
        "my_sum(3,-5)\n",
        "my_sum(5,2)"
      ],
      "execution_count": null,
      "outputs": [
        {
          "output_type": "stream",
          "text": [
            "합 :  3\n",
            "합 :  -2\n",
            "합 :  7\n"
          ],
          "name": "stdout"
        }
      ]
    },
    {
      "cell_type": "code",
      "metadata": {
        "colab": {
          "base_uri": "https://localhost:8080/"
        },
        "id": "HPHo4zdzWt_e",
        "outputId": "381d36ea-8c1c-409a-b77e-1d2b476297ec"
      },
      "source": [
        "def my_sum(a,b):\n",
        "    a = float(a)\n",
        "    b = float(b)\n",
        "    print(\"합 : \", a +b)\n",
        "\n",
        "my_sum(1,2)\n",
        "my_sum(3,-5)\n",
        "my_sum(5,2)\n",
        "my_sum(\"1\",2)\n",
        "my_sum(\"1\",\"2.1\")"
      ],
      "execution_count": null,
      "outputs": [
        {
          "output_type": "stream",
          "text": [
            "합 :  3.0\n",
            "합 :  -2.0\n",
            "합 :  7.0\n",
            "합 :  3.0\n",
            "합 :  3.1\n"
          ],
          "name": "stdout"
        }
      ]
    },
    {
      "cell_type": "code",
      "metadata": {
        "colab": {
          "base_uri": "https://localhost:8080/"
        },
        "id": "TVFbt5j3XMsW",
        "outputId": "c58a3a63-95b4-40ec-dbe7-ab29a1b07ce9"
      },
      "source": [
        "def my_sum(a,b):\n",
        "    a = float(a)\n",
        "    b = float(b)\n",
        "    return a + b \n",
        "\n",
        "s=my_sum(1,2)\n",
        "print(s)"
      ],
      "execution_count": null,
      "outputs": [
        {
          "output_type": "stream",
          "text": [
            "3.0\n"
          ],
          "name": "stdout"
        }
      ]
    },
    {
      "cell_type": "code",
      "metadata": {
        "colab": {
          "base_uri": "https://localhost:8080/"
        },
        "id": "P5B0qT13X7S6",
        "outputId": "a20108de-4366-482f-8396-2865cc8030c7"
      },
      "source": [
        "def div(a,b):\n",
        "    return int(a/b)\n",
        "    \n",
        "def mod(a,b):\n",
        "    return a % b\n",
        "\n",
        "a =9 \n",
        "b= 4\n",
        "print(\"{}나누기 {}의 몫은 {}이고 나머지는 {} 입니다.\".format(a, b, div(a,b), mod(a,b)))"
      ],
      "execution_count": null,
      "outputs": [
        {
          "output_type": "stream",
          "text": [
            "9나누기 4의 몫은 2이고 나머지는 1 입니다.\n"
          ],
          "name": "stdout"
        }
      ]
    },
    {
      "cell_type": "code",
      "metadata": {
        "colab": {
          "base_uri": "https://localhost:8080/"
        },
        "id": "0ZKdiVHSYrhx",
        "outputId": "e04b2412-2be3-4a3d-ebcc-993d0b65b916"
      },
      "source": [
        "def div(a,b):\n",
        "    r =a / b\n",
        "    d = int(r)\n",
        "    return d\n",
        "    \n",
        "def mod(a,b):\n",
        "    d  = div(a,b)\n",
        "    m = a -b*d\n",
        "    return m\n",
        "\n",
        "a =9 \n",
        "b= 4\n",
        "print(\"{}나누기 {}의 몫은 {}이고 나머지는 {} 입니다.\".format(a, b, div(a,b), mod(a,b)))"
      ],
      "execution_count": null,
      "outputs": [
        {
          "output_type": "stream",
          "text": [
            "9나누기 4의 몫은 2이고 나머지는 1 입니다.\n"
          ],
          "name": "stdout"
        }
      ]
    },
    {
      "cell_type": "code",
      "metadata": {
        "colab": {
          "base_uri": "https://localhost:8080/"
        },
        "id": "FTzYhErgZza2",
        "outputId": "3c175edb-98e1-4706-86c5-61ccb544b576"
      },
      "source": [
        "def div_and_mod(a,b):\n",
        "    d = int(a / b)\n",
        "    m= a-b*d\n",
        "    return d, m\n",
        "\n",
        "a=9\n",
        "b=4\n",
        "div,mod = div_and_mod(a,b)\n",
        "\n",
        "print(\"{}나누기 {}의 몫은 {}이고 나머지는 {} 입니다.\".format(a, b, div, mod))"
      ],
      "execution_count": null,
      "outputs": [
        {
          "output_type": "stream",
          "text": [
            "9나누기 4의 몫은 2이고 나머지는 1 입니다.\n"
          ],
          "name": "stdout"
        }
      ]
    },
    {
      "cell_type": "code",
      "metadata": {
        "colab": {
          "base_uri": "https://localhost:8080/"
        },
        "id": "rxcN5d9qbI4W",
        "outputId": "e9d1dc2e-2716-458b-fd1e-e52bf6dbcda8"
      },
      "source": [
        "def print_div_and_mod(a,b) : \n",
        "    div,mod = div_and_mod(a,b)\n",
        "    return print(\"{}나누기 {}의 몫은 {}이고 나머지는 {} 입니다.\".format(a, b,div, mod))\n",
        "\n",
        "print_div_and_mod(9,4)"
      ],
      "execution_count": null,
      "outputs": [
        {
          "output_type": "stream",
          "text": [
            "9나누기 4의 몫은 2이고 나머지는 1 입니다.\n"
          ],
          "name": "stdout"
        }
      ]
    },
    {
      "cell_type": "code",
      "metadata": {
        "colab": {
          "base_uri": "https://localhost:8080/"
        },
        "id": "Dy4Q-ltWb_RL",
        "outputId": "a2ace620-4c1d-4395-c706-ba1c29ee944c"
      },
      "source": [
        "def div_and_mod(a,b):\n",
        "    d = int(a / b)\n",
        "    m= a-b*d\n",
        "    return d, m\n",
        "\n",
        "def print_div_and_mod(a,b) : \n",
        "    a= int(a)\n",
        "    div,mod = div_and_mod(a,b)\n",
        "    return print(\"{}나누기 {}의 몫은 {}이고 나머지는 {} 입니다.\".format(a, b,div, mod))\n",
        "\n",
        "print_div_and_mod(\"9\",4)\n",
        "print_div_and_mod(9,4)"
      ],
      "execution_count": null,
      "outputs": [
        {
          "output_type": "stream",
          "text": [
            "9나누기 4의 몫은 2이고 나머지는 1 입니다.\n",
            "9나누기 4의 몫은 2이고 나머지는 1 입니다.\n"
          ],
          "name": "stdout"
        }
      ]
    },
    {
      "cell_type": "code",
      "metadata": {
        "colab": {
          "base_uri": "https://localhost:8080/"
        },
        "id": "RFB7fHbOdPj4",
        "outputId": "927e131d-0078-4cbf-e609-d18024b210a0"
      },
      "source": [
        "def find_number_type(a):\n",
        "    \n",
        "    if a % 2 == 0 :\n",
        "\n",
        "        number_type =  \"짝수\"          \n",
        "    else:\n",
        "        number_type = \"홀수\"\n",
        "    return number_type \n",
        "\n",
        "number_type = find_number_type(a)\n",
        "\n",
        "a= 2\n",
        "print(\"{}는 {}입니다.\".format(a, number_type))\n",
        "\n",
        "a= 1\n",
        "print(\"{}는 {}입니다.\".format(a,number_type))"
      ],
      "execution_count": null,
      "outputs": [
        {
          "output_type": "stream",
          "text": [
            "2는 홀수입니다.\n",
            "1는 홀수입니다.\n"
          ],
          "name": "stdout"
        }
      ]
    },
    {
      "cell_type": "code",
      "metadata": {
        "colab": {
          "base_uri": "https://localhost:8080/"
        },
        "id": "1vvjxzijhnWj",
        "outputId": "7561b7f1-c467-4e41-a4d2-5272ca06a958"
      },
      "source": [
        "def is_even(a):\n",
        "    return a %2 ==0\n",
        "\n",
        "# def find_number_type(a):\n",
        "#     number_type = \"짝수\" if is_even(a) else \"홀수\"         \n",
        "#     return number_type \n",
        "\n",
        "#위에와 비교해서 가장 나이스한 상태 \n",
        "def find_number_type(a):\n",
        "    return \"짝수\" if is_even(a) else \"홀수\"         \n",
        "      \n",
        "\n",
        "a= 2\n",
        "number_type = find_number_type(a)\n",
        "print(\"{}는 {}입니다.\".format(a, number_type))\n",
        "\n",
        "a= 1\n",
        "number_type = find_number_type(a)\n",
        "print(\"{}는 {}입니다.\".format(a,number_type))"
      ],
      "execution_count": null,
      "outputs": [
        {
          "output_type": "stream",
          "text": [
            "2는 짝수입니다.\n",
            "1는 홀수입니다.\n"
          ],
          "name": "stdout"
        }
      ]
    },
    {
      "cell_type": "code",
      "metadata": {
        "colab": {
          "base_uri": "https://localhost:8080/"
        },
        "id": "GMAmZ1TLjgKV",
        "outputId": "08dabead-b318-4257-9fe2-117593962190"
      },
      "source": [
        "def is_even(a):\n",
        "    return a %2 ==0\n",
        "\n",
        "def print_number_type(a):\n",
        "    number_type = \"짝수\" if is_even(a) else \"홀수\" \n",
        "    return print(\"{}는 {}입니다.\".format(a, number_type))        \n",
        "\n",
        "print_number_type(2)\n",
        "print_number_type(1)\n"
      ],
      "execution_count": null,
      "outputs": [
        {
          "output_type": "stream",
          "text": [
            "2는 짝수입니다.\n",
            "1는 홀수입니다.\n"
          ],
          "name": "stdout"
        }
      ]
    },
    {
      "cell_type": "code",
      "metadata": {
        "colab": {
          "base_uri": "https://localhost:8080/"
        },
        "id": "1cqfmcAslUVZ",
        "outputId": "173457fe-dbf9-4036-e6c1-312213b08109"
      },
      "source": [
        "def div(a,b):\n",
        "    d = int(a / b)\n",
        "    return d\n",
        "\n",
        "def assert_div(a,b,c):\n",
        "    if div(a,b) == c:  \n",
        "        result =  \"맞았습니다.\" \n",
        "    else:\n",
        "        result= \"틀렸습니다.\"   \n",
        "    return print(result)\n",
        "\n",
        "assert_div(9,4,2)\n",
        "assert_div(9,4,1)\n",
        "\n"
      ],
      "execution_count": null,
      "outputs": [
        {
          "output_type": "stream",
          "text": [
            "맞았습니다.\n",
            "틀렸습니다.\n"
          ],
          "name": "stdout"
        }
      ]
    },
    {
      "cell_type": "code",
      "metadata": {
        "colab": {
          "base_uri": "https://localhost:8080/"
        },
        "id": "ils2VWpVmw8U",
        "outputId": "df8d0fd6-0852-40e1-e7e8-eba2ee2bfbc9"
      },
      "source": [
        "def div(a,b):\n",
        "    d = int(a / b)\n",
        "    return d\n",
        "\n",
        "def assert_div(a,b, expected):\n",
        "    d = div(a,b)\n",
        "    if d != excepted  :\n",
        "        print(\"틀렸습니다\")\n",
        "\n",
        "assert_div(9,4,2)\n",
        "assert_div(9,4,1)"
      ],
      "execution_count": null,
      "outputs": [
        {
          "output_type": "stream",
          "text": [
            "틀렸습니다\n"
          ],
          "name": "stdout"
        }
      ]
    },
    {
      "cell_type": "code",
      "metadata": {
        "colab": {
          "base_uri": "https://localhost:8080/"
        },
        "id": "PZ9cVOHZnw0_",
        "outputId": "0354bedb-66f7-4cee-a708-b78722331026"
      },
      "source": [
        "def div(a,b):\n",
        "    d = int(a / b)\n",
        "    return d\n",
        "\n",
        "def assert_div(a,b, expected):\n",
        "    d = div(a,b)\n",
        "    if d == expected :\n",
        "        pass\n",
        "    else:\n",
        "        print(\"틀렸습니다\")\n",
        "\n",
        "assert_div(9,4,2)\n",
        "assert_div(9,4,1) #틀렸습니다. "
      ],
      "execution_count": null,
      "outputs": [
        {
          "output_type": "stream",
          "text": [
            "틀렸습니다\n"
          ],
          "name": "stdout"
        }
      ]
    },
    {
      "cell_type": "code",
      "metadata": {
        "colab": {
          "base_uri": "https://localhost:8080/"
        },
        "id": "8RheLZjaoCBO",
        "outputId": "4c2a5d9f-f00c-420e-9365-09afa468739a"
      },
      "source": [
        "def div(a,b):\n",
        "    d = int(a / b)\n",
        "    return d\n",
        "\n",
        "def mod(a,b):\n",
        "    \n",
        "    m= a % b\n",
        "    return m\n",
        "\n",
        "def assert_equlas(actual, expected):\n",
        "    if actual == expected :\n",
        "        pass\n",
        "    else:\n",
        "        print(\"결과값이 다릅니다. {}을 기대했는데 {} 입니다.\".format(actual,  expected))\n",
        "\n",
        "assert_equlas(div(9,4), 2)\n",
        "assert_equlas(div(8,2), 3) #결과값이 다릅니다. 3을 기대했는데 2입니다.  \n",
        "assert_equlas(mod(9,2), 1)\n",
        "assert_equlas(mod(5,2), 0)"
      ],
      "execution_count": null,
      "outputs": [
        {
          "output_type": "stream",
          "text": [
            "결과값이 다릅니다. 4을 기대했는데 3 입니다.\n",
            "결과값이 다릅니다. 1을 기대했는데 0 입니다.\n"
          ],
          "name": "stdout"
        }
      ]
    },
    {
      "cell_type": "code",
      "metadata": {
        "colab": {
          "base_uri": "https://localhost:8080/"
        },
        "id": "w_I_g4ZXAlyO",
        "outputId": "3ef9d144-c535-46ec-8cc9-6460f17921f8"
      },
      "source": [
        "\n",
        "def my_trunc(a):\n",
        "    return a\n",
        "\n",
        "def assert_equlas(actual, expected):\n",
        "    actual = actual\n",
        "    actual1 = int(actual)\n",
        "    if actual1 == expected :\n",
        "        pass\n",
        "    else:\n",
        "        print(\"{} 일때, 결과값이 다릅니다. {}을 기대했는데 {} 입니다.\".format(actual, actual1,  expected))\n",
        "\n",
        "\n",
        "assert_equlas(my_trunc(3.0) , 3.0) #test code \n",
        "assert_equlas(my_trunc(3.4) , 3.0)\n",
        "assert_equlas(my_trunc(3.9) , 3.0)\n",
        "assert_equlas(my_trunc(4.0) , 4.0)\n",
        "\n",
        "assert_equlas(my_trunc(-3.0) , -3.0)\n",
        "assert_equlas(my_trunc(-3.1) , -3.0)\n",
        "assert_equlas(my_trunc(-3.9) , -4.0)\n",
        "assert_equlas(my_trunc(-4.0) , -4.0)\n",
        "\n"
      ],
      "execution_count": null,
      "outputs": [
        {
          "output_type": "stream",
          "text": [
            "-3.9 일때, 결과값이 다릅니다. -3을 기대했는데 -4.0 입니다.\n"
          ],
          "name": "stdout"
        }
      ]
    },
    {
      "cell_type": "code",
      "metadata": {
        "colab": {
          "base_uri": "https://localhost:8080/"
        },
        "id": "-lPA-RCcGNVH",
        "outputId": "cd78d190-6475-4589-f6e9-2517486a041b"
      },
      "source": [
        "print(int(-2.5))"
      ],
      "execution_count": null,
      "outputs": [
        {
          "output_type": "stream",
          "text": [
            "-2\n"
          ],
          "name": "stdout"
        }
      ]
    },
    {
      "cell_type": "code",
      "metadata": {
        "id": "sIrczEcbG6Tj"
      },
      "source": [
        "def my_trunc(a):\n",
        "    mul = a if a>0 else -1 \n",
        "    abs_a = abs(a)\n",
        "    r = int(abs_a)\n",
        "    r = r*mul "
      ],
      "execution_count": null,
      "outputs": []
    },
    {
      "cell_type": "code",
      "metadata": {
        "id": "vRPDHmjcEWa1"
      },
      "source": [
        "def my_trunc(a):\n",
        "    mul = 1 if a>0 else +1 \n",
        "    abs_a = abs(a)\n",
        "    r = int(abs_a)\n",
        "    r = r*mul \n",
        "    \n",
        "    return r\n",
        "\n",
        "#이게 틀린지 아닌지 확인하는 방법\n",
        "assert my_trunc(3.0) == 3.0"
      ],
      "execution_count": null,
      "outputs": []
    },
    {
      "cell_type": "code",
      "metadata": {
        "colab": {
          "base_uri": "https://localhost:8080/"
        },
        "id": "G8Ck0nScO7rq",
        "outputId": "60e4cfab-a90b-44cd-cb7f-8d382184e6d8"
      },
      "source": [
        "#오늘은 7일입니다. \n",
        "#today is 7th. \n",
        "\n",
        "def print_day(a, b) :\n",
        "    if b == \"Korean\":\n",
        "        print(\"오늘은 {}일입니다\".format(a))\n",
        "    elif b == \"english\":\n",
        "        print(\"today is {}th\".format(a))\n",
        "    else : \n",
        "        print(\"오류입니다\")\n",
        "\n",
        "print_day(7,\"Korean\")\n",
        "print_day(7, \"english\")"
      ],
      "execution_count": null,
      "outputs": [
        {
          "output_type": "stream",
          "text": [
            "오늘은 7입니다\n",
            "today is 7th\n"
          ],
          "name": "stdout"
        }
      ]
    },
    {
      "cell_type": "code",
      "metadata": {
        "colab": {
          "base_uri": "https://localhost:8080/"
        },
        "id": "db_pRkfxVfzP",
        "outputId": "81d8d08e-0835-4685-962a-b09f4370ea9a"
      },
      "source": [
        "# language = default 값을 주면 오류가 나지 않는다.\n",
        "\n",
        "def print_day(day, language='Korean') :\n",
        "    if language == \"Korean\":\n",
        "        print(\"오늘은 {}일입니다\".format(day))\n",
        "    elif language == \"english\":\n",
        "        print(\"today is {}th\".format(day))\n",
        "    else : \n",
        "        print(\"오류입니다\")\n",
        "\n",
        "print_day(7,\"Korean\")\n",
        "print_day(7, \"english\")\n",
        "print_day(7)"
      ],
      "execution_count": null,
      "outputs": [
        {
          "output_type": "stream",
          "text": [
            "오늘은 7일입니다\n",
            "today is 7th\n",
            "오늘은 7일입니다\n"
          ],
          "name": "stdout"
        }
      ]
    },
    {
      "cell_type": "code",
      "metadata": {
        "colab": {
          "base_uri": "https://localhost:8080/",
          "height": 134
        },
        "id": "lNlw04R0WJSz",
        "outputId": "7472e1eb-1d83-4427-9870-2efa6be5448d"
      },
      "source": [
        "def my_func(a,b=1, c=2, d=3)\n",
        "    print(\"{}, {}, {}, {}.format(a,b,c,d))"
      ],
      "execution_count": null,
      "outputs": [
        {
          "output_type": "error",
          "ename": "SyntaxError",
          "evalue": "ignored",
          "traceback": [
            "\u001b[0;36m  File \u001b[0;32m\"<ipython-input-40-799d78fac5ee>\"\u001b[0;36m, line \u001b[0;32m1\u001b[0m\n\u001b[0;31m    def my_func(a,b=1, c=2, d=3)\u001b[0m\n\u001b[0m                                ^\u001b[0m\n\u001b[0;31mSyntaxError\u001b[0m\u001b[0;31m:\u001b[0m invalid syntax\n"
          ]
        }
      ]
    },
    {
      "cell_type": "code",
      "metadata": {
        "colab": {
          "base_uri": "https://localhost:8080/"
        },
        "id": "A6gOHY4Fcv67",
        "outputId": "fa763a3e-05f8-43c1-c549-91526f958095"
      },
      "source": [
        "for i in range(10) : \n",
        "    print(i)"
      ],
      "execution_count": null,
      "outputs": [
        {
          "output_type": "stream",
          "text": [
            "0\n",
            "1\n",
            "2\n",
            "3\n",
            "4\n",
            "5\n",
            "6\n",
            "7\n",
            "8\n",
            "9\n"
          ],
          "name": "stdout"
        }
      ]
    },
    {
      "cell_type": "code",
      "metadata": {
        "colab": {
          "base_uri": "https://localhost:8080/"
        },
        "id": "BpGM-s1MczeY",
        "outputId": "b5faa8bc-3b97-4261-c981-bae09f311e6a"
      },
      "source": [
        "for i in range(10) : \n",
        "    print(\"hello. HI\")\n"
      ],
      "execution_count": null,
      "outputs": [
        {
          "output_type": "stream",
          "text": [
            "hello. HI\n",
            "hello. HI\n",
            "hello. HI\n",
            "hello. HI\n",
            "hello. HI\n",
            "hello. HI\n",
            "hello. HI\n",
            "hello. HI\n",
            "hello. HI\n",
            "hello. HI\n"
          ],
          "name": "stdout"
        }
      ]
    },
    {
      "cell_type": "code",
      "metadata": {
        "id": "bG0kEURXfI0e"
      },
      "source": [
        "from selenium import webdriver"
      ],
      "execution_count": null,
      "outputs": []
    },
    {
      "cell_type": "code",
      "metadata": {
        "colab": {
          "base_uri": "https://localhost:8080/"
        },
        "id": "chyxckJyfpHo",
        "outputId": "0e10af34-42c2-44b9-8468-e717f5ba32eb"
      },
      "source": [
        "!pip install selenium"
      ],
      "execution_count": null,
      "outputs": [
        {
          "output_type": "stream",
          "text": [
            "Collecting selenium\n",
            "\u001b[?25l  Downloading https://files.pythonhosted.org/packages/80/d6/4294f0b4bce4de0abf13e17190289f9d0613b0a44e5dd6a7f5ca98459853/selenium-3.141.0-py2.py3-none-any.whl (904kB)\n",
            "\u001b[K     |████████████████████████████████| 911kB 7.3MB/s \n",
            "\u001b[?25hRequirement already satisfied: urllib3 in /usr/local/lib/python3.7/dist-packages (from selenium) (1.24.3)\n",
            "Installing collected packages: selenium\n",
            "Successfully installed selenium-3.141.0\n"
          ],
          "name": "stdout"
        }
      ]
    },
    {
      "cell_type": "code",
      "metadata": {
        "colab": {
          "base_uri": "https://localhost:8080/",
          "height": 439
        },
        "id": "1MwyZe3kfzbc",
        "outputId": "e1741ef8-f860-487e-dd9a-1800beb76b12"
      },
      "source": [
        "driver = webdriver.Chrome(executable_path= 'C:/Users/DMC CONET/chromedriver' )\n",
        "driver.get('http://naver.com')"
      ],
      "execution_count": null,
      "outputs": [
        {
          "output_type": "error",
          "ename": "WebDriverException",
          "evalue": "ignored",
          "traceback": [
            "\u001b[0;31m---------------------------------------------------------------------------\u001b[0m",
            "\u001b[0;31mFileNotFoundError\u001b[0m                         Traceback (most recent call last)",
            "\u001b[0;32m/usr/local/lib/python3.7/dist-packages/selenium/webdriver/common/service.py\u001b[0m in \u001b[0;36mstart\u001b[0;34m(self)\u001b[0m\n\u001b[1;32m     75\u001b[0m                                             \u001b[0mstderr\u001b[0m\u001b[0;34m=\u001b[0m\u001b[0mself\u001b[0m\u001b[0;34m.\u001b[0m\u001b[0mlog_file\u001b[0m\u001b[0;34m,\u001b[0m\u001b[0;34m\u001b[0m\u001b[0;34m\u001b[0m\u001b[0m\n\u001b[0;32m---> 76\u001b[0;31m                                             stdin=PIPE)\n\u001b[0m\u001b[1;32m     77\u001b[0m         \u001b[0;32mexcept\u001b[0m \u001b[0mTypeError\u001b[0m\u001b[0;34m:\u001b[0m\u001b[0;34m\u001b[0m\u001b[0;34m\u001b[0m\u001b[0m\n",
            "\u001b[0;32m/usr/lib/python3.7/subprocess.py\u001b[0m in \u001b[0;36m__init__\u001b[0;34m(self, args, bufsize, executable, stdin, stdout, stderr, preexec_fn, close_fds, shell, cwd, env, universal_newlines, startupinfo, creationflags, restore_signals, start_new_session, pass_fds, encoding, errors, text)\u001b[0m\n\u001b[1;32m    799\u001b[0m                                 \u001b[0merrread\u001b[0m\u001b[0;34m,\u001b[0m \u001b[0merrwrite\u001b[0m\u001b[0;34m,\u001b[0m\u001b[0;34m\u001b[0m\u001b[0;34m\u001b[0m\u001b[0m\n\u001b[0;32m--> 800\u001b[0;31m                                 restore_signals, start_new_session)\n\u001b[0m\u001b[1;32m    801\u001b[0m         \u001b[0;32mexcept\u001b[0m\u001b[0;34m:\u001b[0m\u001b[0;34m\u001b[0m\u001b[0;34m\u001b[0m\u001b[0m\n",
            "\u001b[0;32m/usr/lib/python3.7/subprocess.py\u001b[0m in \u001b[0;36m_execute_child\u001b[0;34m(self, args, executable, preexec_fn, close_fds, pass_fds, cwd, env, startupinfo, creationflags, shell, p2cread, p2cwrite, c2pread, c2pwrite, errread, errwrite, restore_signals, start_new_session)\u001b[0m\n\u001b[1;32m   1550\u001b[0m                             \u001b[0merr_msg\u001b[0m \u001b[0;34m+=\u001b[0m \u001b[0;34m': '\u001b[0m \u001b[0;34m+\u001b[0m \u001b[0mrepr\u001b[0m\u001b[0;34m(\u001b[0m\u001b[0merr_filename\u001b[0m\u001b[0;34m)\u001b[0m\u001b[0;34m\u001b[0m\u001b[0;34m\u001b[0m\u001b[0m\n\u001b[0;32m-> 1551\u001b[0;31m                     \u001b[0;32mraise\u001b[0m \u001b[0mchild_exception_type\u001b[0m\u001b[0;34m(\u001b[0m\u001b[0merrno_num\u001b[0m\u001b[0;34m,\u001b[0m \u001b[0merr_msg\u001b[0m\u001b[0;34m,\u001b[0m \u001b[0merr_filename\u001b[0m\u001b[0;34m)\u001b[0m\u001b[0;34m\u001b[0m\u001b[0;34m\u001b[0m\u001b[0m\n\u001b[0m\u001b[1;32m   1552\u001b[0m                 \u001b[0;32mraise\u001b[0m \u001b[0mchild_exception_type\u001b[0m\u001b[0;34m(\u001b[0m\u001b[0merr_msg\u001b[0m\u001b[0;34m)\u001b[0m\u001b[0;34m\u001b[0m\u001b[0;34m\u001b[0m\u001b[0m\n",
            "\u001b[0;31mFileNotFoundError\u001b[0m: [Errno 2] No such file or directory: 'C:/Users/DMC CONET/chromedriver': 'C:/Users/DMC CONET/chromedriver'",
            "\nDuring handling of the above exception, another exception occurred:\n",
            "\u001b[0;31mWebDriverException\u001b[0m                        Traceback (most recent call last)",
            "\u001b[0;32m<ipython-input-62-24fa45946b58>\u001b[0m in \u001b[0;36m<module>\u001b[0;34m()\u001b[0m\n\u001b[0;32m----> 1\u001b[0;31m \u001b[0mdriver\u001b[0m \u001b[0;34m=\u001b[0m \u001b[0mwebdriver\u001b[0m\u001b[0;34m.\u001b[0m\u001b[0mChrome\u001b[0m\u001b[0;34m(\u001b[0m\u001b[0mexecutable_path\u001b[0m\u001b[0;34m=\u001b[0m \u001b[0;34m'C:/Users/DMC CONET/chromedriver'\u001b[0m \u001b[0;34m)\u001b[0m\u001b[0;34m\u001b[0m\u001b[0;34m\u001b[0m\u001b[0m\n\u001b[0m\u001b[1;32m      2\u001b[0m \u001b[0mdriver\u001b[0m\u001b[0;34m.\u001b[0m\u001b[0mget\u001b[0m\u001b[0;34m(\u001b[0m\u001b[0;34m'http://naver.com'\u001b[0m\u001b[0;34m)\u001b[0m\u001b[0;34m\u001b[0m\u001b[0;34m\u001b[0m\u001b[0m\n",
            "\u001b[0;32m/usr/local/lib/python3.7/dist-packages/selenium/webdriver/chrome/webdriver.py\u001b[0m in \u001b[0;36m__init__\u001b[0;34m(self, executable_path, port, options, service_args, desired_capabilities, service_log_path, chrome_options, keep_alive)\u001b[0m\n\u001b[1;32m     71\u001b[0m             \u001b[0mservice_args\u001b[0m\u001b[0;34m=\u001b[0m\u001b[0mservice_args\u001b[0m\u001b[0;34m,\u001b[0m\u001b[0;34m\u001b[0m\u001b[0;34m\u001b[0m\u001b[0m\n\u001b[1;32m     72\u001b[0m             log_path=service_log_path)\n\u001b[0;32m---> 73\u001b[0;31m         \u001b[0mself\u001b[0m\u001b[0;34m.\u001b[0m\u001b[0mservice\u001b[0m\u001b[0;34m.\u001b[0m\u001b[0mstart\u001b[0m\u001b[0;34m(\u001b[0m\u001b[0;34m)\u001b[0m\u001b[0;34m\u001b[0m\u001b[0;34m\u001b[0m\u001b[0m\n\u001b[0m\u001b[1;32m     74\u001b[0m \u001b[0;34m\u001b[0m\u001b[0m\n\u001b[1;32m     75\u001b[0m         \u001b[0;32mtry\u001b[0m\u001b[0;34m:\u001b[0m\u001b[0;34m\u001b[0m\u001b[0;34m\u001b[0m\u001b[0m\n",
            "\u001b[0;32m/usr/local/lib/python3.7/dist-packages/selenium/webdriver/common/service.py\u001b[0m in \u001b[0;36mstart\u001b[0;34m(self)\u001b[0m\n\u001b[1;32m     81\u001b[0m                 raise WebDriverException(\n\u001b[1;32m     82\u001b[0m                     \"'%s' executable needs to be in PATH. %s\" % (\n\u001b[0;32m---> 83\u001b[0;31m                         os.path.basename(self.path), self.start_error_message)\n\u001b[0m\u001b[1;32m     84\u001b[0m                 )\n\u001b[1;32m     85\u001b[0m             \u001b[0;32melif\u001b[0m \u001b[0merr\u001b[0m\u001b[0;34m.\u001b[0m\u001b[0merrno\u001b[0m \u001b[0;34m==\u001b[0m \u001b[0merrno\u001b[0m\u001b[0;34m.\u001b[0m\u001b[0mEACCES\u001b[0m\u001b[0;34m:\u001b[0m\u001b[0;34m\u001b[0m\u001b[0;34m\u001b[0m\u001b[0m\n",
            "\u001b[0;31mWebDriverException\u001b[0m: Message: 'chromedriver' executable needs to be in PATH. Please see https://sites.google.com/a/chromium.org/chromedriver/home\n"
          ]
        }
      ]
    },
    {
      "cell_type": "code",
      "metadata": {
        "colab": {
          "base_uri": "https://localhost:8080/"
        },
        "id": "ryhhB5xYf_8Q",
        "outputId": "f89a3294-fc3b-4264-d5f6-6e6129e0edd3"
      },
      "source": [
        "for i in range(100):\n",
        "    if i % 2 == 0:\n",
        "        print(i)"
      ],
      "execution_count": null,
      "outputs": [
        {
          "output_type": "stream",
          "text": [
            "0\n",
            "2\n",
            "4\n",
            "6\n",
            "8\n",
            "10\n",
            "12\n",
            "14\n",
            "16\n",
            "18\n",
            "20\n",
            "22\n",
            "24\n",
            "26\n",
            "28\n",
            "30\n",
            "32\n",
            "34\n",
            "36\n",
            "38\n",
            "40\n",
            "42\n",
            "44\n",
            "46\n",
            "48\n",
            "50\n",
            "52\n",
            "54\n",
            "56\n",
            "58\n",
            "60\n",
            "62\n",
            "64\n",
            "66\n",
            "68\n",
            "70\n",
            "72\n",
            "74\n",
            "76\n",
            "78\n",
            "80\n",
            "82\n",
            "84\n",
            "86\n",
            "88\n",
            "90\n",
            "92\n",
            "94\n",
            "96\n",
            "98\n"
          ],
          "name": "stdout"
        }
      ]
    },
    {
      "cell_type": "code",
      "metadata": {
        "colab": {
          "base_uri": "https://localhost:8080/"
        },
        "id": "ETrRdMAJhDZs",
        "outputId": "12d230b9-7299-4adb-afe4-d1ca871ce6ac"
      },
      "source": [
        "!pip install selenium\n",
        "!apt-get update\n",
        "!apt install chromium-chromedriver\n",
        "\n",
        "from selenium import webdriver\n",
        "from urllib.request import urlopen\n",
        "from bs4 import BeautifulSoup as bs\n",
        "from urllib.parse import quote_plus\n",
        "from selenium.webdriver.common.keys import Keys\n",
        "import time\n",
        "\n",
        "url = 'https://search.naver.com/search.naver?where=image&sm=tab_jum&query='\n",
        "kword = input('검색어를 입력하세요 : ')\n",
        "base_url = url + quote_plus(kword)\n",
        "base_url\n",
        "\n",
        "chrome_options = webdriver.ChromeOptions()\n",
        "chrome_options.add_argument('--headless')\n",
        "chrome_options.add_argument('--no-sandbox')\n",
        "chrome_options.add_argument('--disable-dev-shm-usage')\n",
        "driver = webdriver.Chrome('chromedriver', chrome_options=chrome_options)\n",
        "driver.get(base_url)\n",
        "\n",
        "body = driver.find_element_by_css_selector('body')\n",
        "\n",
        "# 페이지 다운시켜서 더 많은 이미지가 나오게 한다\n",
        "for i in range(20):\n",
        "    body.send_keys(Keys.PAGE_DOWN)\n",
        "    time.sleep(1)\n",
        "\n",
        "imgs = driver.find_elements_by_css_selector('img._img')\n",
        "\n",
        "for idx, img in enumerate(imgs):\n",
        "    # print(idx,img.get_attribute('src'))\n",
        "    imgUrl = img.get_attribute('src')\n",
        "    imgName = '/content/drive/My Drive/Colab Notebooks/crawling/'+kword + str(idx)+'.jpg'\n",
        "    urllib.request.urlretrieve(imgUrl, imgName)"
      ],
      "execution_count": null,
      "outputs": [
        {
          "output_type": "stream",
          "text": [
            "Requirement already satisfied: selenium in /usr/local/lib/python3.7/dist-packages (3.141.0)\n",
            "Requirement already satisfied: urllib3 in /usr/local/lib/python3.7/dist-packages (from selenium) (1.24.3)\n",
            "Get:1 https://cloud.r-project.org/bin/linux/ubuntu bionic-cran40/ InRelease [3,626 B]\n",
            "Ign:2 https://developer.download.nvidia.com/compute/cuda/repos/ubuntu1804/x86_64  InRelease\n",
            "Ign:3 https://developer.download.nvidia.com/compute/machine-learning/repos/ubuntu1804/x86_64  InRelease\n",
            "Get:4 https://developer.download.nvidia.com/compute/cuda/repos/ubuntu1804/x86_64  Release [697 B]\n",
            "Hit:5 https://developer.download.nvidia.com/compute/machine-learning/repos/ubuntu1804/x86_64  Release\n",
            "Get:6 https://developer.download.nvidia.com/compute/cuda/repos/ubuntu1804/x86_64  Release.gpg [836 B]\n",
            "Get:7 http://ppa.launchpad.net/c2d4u.team/c2d4u4.0+/ubuntu bionic InRelease [15.9 kB]\n",
            "Hit:8 http://archive.ubuntu.com/ubuntu bionic InRelease\n",
            "Get:9 https://cloud.r-project.org/bin/linux/ubuntu bionic-cran40/ Packages [55.5 kB]\n",
            "Get:10 http://archive.ubuntu.com/ubuntu bionic-updates InRelease [88.7 kB]\n",
            "Get:11 http://security.ubuntu.com/ubuntu bionic-security InRelease [88.7 kB]\n",
            "Hit:13 http://ppa.launchpad.net/cran/libgit2/ubuntu bionic InRelease\n",
            "Ign:14 https://developer.download.nvidia.com/compute/cuda/repos/ubuntu1804/x86_64  Packages\n",
            "Get:14 https://developer.download.nvidia.com/compute/cuda/repos/ubuntu1804/x86_64  Packages [770 kB]\n",
            "Get:15 http://archive.ubuntu.com/ubuntu bionic-backports InRelease [74.6 kB]\n",
            "Get:16 http://ppa.launchpad.net/deadsnakes/ppa/ubuntu bionic InRelease [15.9 kB]\n",
            "Get:17 http://security.ubuntu.com/ubuntu bionic-security/universe amd64 Packages [1,410 kB]\n",
            "Get:18 http://ppa.launchpad.net/graphics-drivers/ppa/ubuntu bionic InRelease [21.3 kB]\n",
            "Get:19 http://security.ubuntu.com/ubuntu bionic-security/multiverse amd64 Packages [24.7 kB]\n",
            "Get:20 http://security.ubuntu.com/ubuntu bionic-security/restricted amd64 Packages [399 kB]\n",
            "Get:21 http://security.ubuntu.com/ubuntu bionic-security/main amd64 Packages [2,119 kB]\n",
            "Get:22 http://archive.ubuntu.com/ubuntu bionic-updates/main amd64 Packages [2,550 kB]\n",
            "Get:23 http://ppa.launchpad.net/c2d4u.team/c2d4u4.0+/ubuntu bionic/main Sources [1,759 kB]\n",
            "Get:24 http://archive.ubuntu.com/ubuntu bionic-updates/restricted amd64 Packages [429 kB]\n",
            "Get:25 http://archive.ubuntu.com/ubuntu bionic-updates/universe amd64 Packages [2,182 kB]\n",
            "Get:26 http://archive.ubuntu.com/ubuntu bionic-updates/multiverse amd64 Packages [31.6 kB]\n",
            "Get:27 http://ppa.launchpad.net/c2d4u.team/c2d4u4.0+/ubuntu bionic/main amd64 Packages [900 kB]\n",
            "Get:28 http://ppa.launchpad.net/deadsnakes/ppa/ubuntu bionic/main amd64 Packages [40.8 kB]\n",
            "Get:29 http://ppa.launchpad.net/graphics-drivers/ppa/ubuntu bionic/main amd64 Packages [47.2 kB]\n",
            "Fetched 13.0 MB in 5s (2,613 kB/s)\n",
            "Reading package lists... Done\n",
            "Reading package lists... Done\n",
            "Building dependency tree       \n",
            "Reading state information... Done\n",
            "The following package was automatically installed and is no longer required:\n",
            "  libnvidia-common-460\n",
            "Use 'apt autoremove' to remove it.\n",
            "The following additional packages will be installed:\n",
            "  chromium-browser chromium-browser-l10n chromium-codecs-ffmpeg-extra\n",
            "Suggested packages:\n",
            "  webaccounts-chromium-extension unity-chromium-extension\n",
            "The following NEW packages will be installed:\n",
            "  chromium-browser chromium-browser-l10n chromium-chromedriver\n",
            "  chromium-codecs-ffmpeg-extra\n",
            "0 upgraded, 4 newly installed, 0 to remove and 79 not upgraded.\n",
            "Need to get 86.6 MB of archives.\n",
            "After this operation, 300 MB of additional disk space will be used.\n",
            "Get:1 http://archive.ubuntu.com/ubuntu bionic-updates/universe amd64 chromium-codecs-ffmpeg-extra amd64 90.0.4430.72-0ubuntu0.18.04.1 [1,128 kB]\n",
            "Get:2 http://archive.ubuntu.com/ubuntu bionic-updates/universe amd64 chromium-browser amd64 90.0.4430.72-0ubuntu0.18.04.1 [76.9 MB]\n",
            "Get:3 http://archive.ubuntu.com/ubuntu bionic-updates/universe amd64 chromium-browser-l10n all 90.0.4430.72-0ubuntu0.18.04.1 [3,858 kB]\n",
            "Get:4 http://archive.ubuntu.com/ubuntu bionic-updates/universe amd64 chromium-chromedriver amd64 90.0.4430.72-0ubuntu0.18.04.1 [4,743 kB]\n",
            "Fetched 86.6 MB in 6s (15.7 MB/s)\n",
            "Selecting previously unselected package chromium-codecs-ffmpeg-extra.\n",
            "(Reading database ... 160690 files and directories currently installed.)\n",
            "Preparing to unpack .../chromium-codecs-ffmpeg-extra_90.0.4430.72-0ubuntu0.18.04.1_amd64.deb ...\n",
            "Unpacking chromium-codecs-ffmpeg-extra (90.0.4430.72-0ubuntu0.18.04.1) ...\n",
            "Selecting previously unselected package chromium-browser.\n",
            "Preparing to unpack .../chromium-browser_90.0.4430.72-0ubuntu0.18.04.1_amd64.deb ...\n",
            "Unpacking chromium-browser (90.0.4430.72-0ubuntu0.18.04.1) ...\n",
            "Selecting previously unselected package chromium-browser-l10n.\n",
            "Preparing to unpack .../chromium-browser-l10n_90.0.4430.72-0ubuntu0.18.04.1_all.deb ...\n",
            "Unpacking chromium-browser-l10n (90.0.4430.72-0ubuntu0.18.04.1) ...\n",
            "Selecting previously unselected package chromium-chromedriver.\n",
            "Preparing to unpack .../chromium-chromedriver_90.0.4430.72-0ubuntu0.18.04.1_amd64.deb ...\n",
            "Unpacking chromium-chromedriver (90.0.4430.72-0ubuntu0.18.04.1) ...\n",
            "Setting up chromium-codecs-ffmpeg-extra (90.0.4430.72-0ubuntu0.18.04.1) ...\n",
            "Setting up chromium-browser (90.0.4430.72-0ubuntu0.18.04.1) ...\n",
            "update-alternatives: using /usr/bin/chromium-browser to provide /usr/bin/x-www-browser (x-www-browser) in auto mode\n",
            "update-alternatives: using /usr/bin/chromium-browser to provide /usr/bin/gnome-www-browser (gnome-www-browser) in auto mode\n",
            "Setting up chromium-chromedriver (90.0.4430.72-0ubuntu0.18.04.1) ...\n",
            "Setting up chromium-browser-l10n (90.0.4430.72-0ubuntu0.18.04.1) ...\n",
            "Processing triggers for man-db (2.8.3-2ubuntu0.1) ...\n",
            "Processing triggers for hicolor-icon-theme (0.17-2) ...\n",
            "Processing triggers for mime-support (3.60ubuntu1) ...\n",
            "Processing triggers for libc-bin (2.27-3ubuntu1.2) ...\n",
            "/sbin/ldconfig.real: /usr/local/lib/python3.7/dist-packages/ideep4py/lib/libmkldnn.so.0 is not a symbolic link\n",
            "\n",
            "검색어를 입력하세요 : 아이유\n"
          ],
          "name": "stdout"
        },
        {
          "output_type": "stream",
          "text": [
            "/usr/local/lib/python3.7/dist-packages/ipykernel_launcher.py:21: DeprecationWarning: use options instead of chrome_options\n"
          ],
          "name": "stderr"
        }
      ]
    },
    {
      "cell_type": "code",
      "metadata": {
        "colab": {
          "base_uri": "https://localhost:8080/"
        },
        "id": "MaToyrMShFsy",
        "outputId": "1a17d615-97d5-4724-bf2b-08642de83e77"
      },
      "source": [
        "from selenium import webdriver\n",
        "\n",
        " \n",
        "\n",
        "chrome_options = webdriver.ChromeOptions()\n",
        "\n",
        "chrome_options.add_argument('--headless') #내부 창을 띄울 수 없으므로 설정\n",
        "\n",
        "chrome_options.add_argument('--no-sandbox')\n",
        "\n",
        "chrome_options.add_argument('--disable-dev-shm-usage')\n",
        "\n",
        "wd = webdriver.Chrome('chromedriver',chrome_options=chrome_options)\n",
        "\n",
        " \n",
        "\n",
        "wd.get(\"http://naver.com\")"
      ],
      "execution_count": null,
      "outputs": [
        {
          "output_type": "stream",
          "text": [
            "/usr/local/lib/python3.7/dist-packages/ipykernel_launcher.py:13: DeprecationWarning: use options instead of chrome_options\n",
            "  del sys.path[0]\n"
          ],
          "name": "stderr"
        }
      ]
    },
    {
      "cell_type": "code",
      "metadata": {
        "colab": {
          "base_uri": "https://localhost:8080/"
        },
        "id": "J6XKGT7phvuQ",
        "outputId": "2801b37c-bf80-493a-c767-a552d7d7cee8"
      },
      "source": [
        "!pip install Selenium\n",
        "\n",
        "!apt-get update # to update ubuntu to correctly run apt install\n",
        "\n",
        "!apt install chromium-chromedriver"
      ],
      "execution_count": null,
      "outputs": [
        {
          "output_type": "stream",
          "text": [
            "Requirement already satisfied: Selenium in /usr/local/lib/python3.7/dist-packages (3.141.0)\n",
            "Requirement already satisfied: urllib3 in /usr/local/lib/python3.7/dist-packages (from Selenium) (1.24.3)\n",
            "Hit:1 https://cloud.r-project.org/bin/linux/ubuntu bionic-cran40/ InRelease\n",
            "Ign:2 https://developer.download.nvidia.com/compute/cuda/repos/ubuntu1804/x86_64  InRelease\n",
            "Ign:3 https://developer.download.nvidia.com/compute/machine-learning/repos/ubuntu1804/x86_64  InRelease\n",
            "Hit:4 https://developer.download.nvidia.com/compute/cuda/repos/ubuntu1804/x86_64  Release\n",
            "Hit:5 https://developer.download.nvidia.com/compute/machine-learning/repos/ubuntu1804/x86_64  Release\n",
            "Hit:6 http://archive.ubuntu.com/ubuntu bionic InRelease\n",
            "Hit:7 http://security.ubuntu.com/ubuntu bionic-security InRelease\n",
            "Hit:8 http://ppa.launchpad.net/c2d4u.team/c2d4u4.0+/ubuntu bionic InRelease\n",
            "Hit:9 http://archive.ubuntu.com/ubuntu bionic-updates InRelease\n",
            "Hit:11 http://archive.ubuntu.com/ubuntu bionic-backports InRelease\n",
            "Hit:13 http://ppa.launchpad.net/cran/libgit2/ubuntu bionic InRelease\n",
            "Hit:14 http://ppa.launchpad.net/deadsnakes/ppa/ubuntu bionic InRelease\n",
            "Hit:15 http://ppa.launchpad.net/graphics-drivers/ppa/ubuntu bionic InRelease\n",
            "Reading package lists... Done\n",
            "Reading package lists... Done\n",
            "Building dependency tree       \n",
            "Reading state information... Done\n",
            "chromium-chromedriver is already the newest version (90.0.4430.72-0ubuntu0.18.04.1).\n",
            "The following package was automatically installed and is no longer required:\n",
            "  libnvidia-common-460\n",
            "Use 'apt autoremove' to remove it.\n",
            "0 upgraded, 0 newly installed, 0 to remove and 79 not upgraded.\n"
          ],
          "name": "stdout"
        }
      ]
    },
    {
      "cell_type": "code",
      "metadata": {
        "colab": {
          "base_uri": "https://localhost:8080/"
        },
        "id": "GxEY-wCMh3kA",
        "outputId": "2f566344-2f89-47a0-ba14-32e8289251c1"
      },
      "source": [
        "def div_and_mod(a, b) : \n",
        "    r = a / b\n",
        "    d = int(r)\n",
        "    m = a - b*d\n",
        "    return d, m\n",
        "\n",
        "\n",
        "for i in range(10):\n",
        "    b = i + 1\n",
        "    div, mod = div_and_mod(99, b)\n",
        "    \n",
        "    print(\"{} / {} : {}, {}\".format(99,b, div, mod))\n",
        "    "
      ],
      "execution_count": null,
      "outputs": [
        {
          "output_type": "stream",
          "text": [
            "99 / 1 : 99, 0\n",
            "99 / 2 : 49, 1\n",
            "99 / 3 : 33, 0\n",
            "99 / 4 : 24, 3\n",
            "99 / 5 : 19, 4\n",
            "99 / 6 : 16, 3\n",
            "99 / 7 : 14, 1\n",
            "99 / 8 : 12, 3\n",
            "99 / 9 : 11, 0\n",
            "99 / 10 : 9, 9\n"
          ],
          "name": "stdout"
        }
      ]
    },
    {
      "cell_type": "code",
      "metadata": {
        "colab": {
          "base_uri": "https://localhost:8080/"
        },
        "id": "fe61Z6vli2_W",
        "outputId": "c48ce6cb-35fb-4c01-ebd0-6ba6199ffb94"
      },
      "source": [
        "for i in range(20):\n",
        "    if i % 2 !=0 :\n",
        "        print(i)"
      ],
      "execution_count": null,
      "outputs": [
        {
          "output_type": "stream",
          "text": [
            "1\n",
            "3\n",
            "5\n",
            "7\n",
            "9\n",
            "11\n",
            "13\n",
            "15\n",
            "17\n",
            "19\n"
          ],
          "name": "stdout"
        }
      ]
    },
    {
      "cell_type": "code",
      "metadata": {
        "colab": {
          "base_uri": "https://localhost:8080/"
        },
        "id": "854Prx7VljI6",
        "outputId": "69234a16-f3d7-49ed-b998-8f5653e9776e"
      },
      "source": [
        "for i in range(10):\n",
        "        print(i*2+1)"
      ],
      "execution_count": null,
      "outputs": [
        {
          "output_type": "stream",
          "text": [
            "1\n",
            "3\n",
            "5\n",
            "7\n",
            "9\n",
            "11\n",
            "13\n",
            "15\n",
            "17\n",
            "19\n"
          ],
          "name": "stdout"
        }
      ]
    },
    {
      "cell_type": "code",
      "metadata": {
        "colab": {
          "base_uri": "https://localhost:8080/"
        },
        "id": "1z74M5BiqcFV",
        "outputId": "65e868f3-7970-45bc-cf78-8f90fc0ae4e7"
      },
      "source": [
        "a=0\n",
        "for i in range(99):\n",
        "     \n",
        "    a =  a + (i+1)\n",
        "print(a)"
      ],
      "execution_count": null,
      "outputs": [
        {
          "output_type": "stream",
          "text": [
            "4950\n"
          ],
          "name": "stdout"
        }
      ]
    },
    {
      "cell_type": "code",
      "metadata": {
        "colab": {
          "base_uri": "https://localhost:8080/"
        },
        "id": "SivcpChlqxgc",
        "outputId": "7d8aa90a-a4f4-4801-8da3-2ce9cedde639"
      },
      "source": [
        "a=0\n",
        "for i in range(100):\n",
        "     \n",
        "    a =  a + (i)\n",
        "print(a)"
      ],
      "execution_count": null,
      "outputs": [
        {
          "output_type": "stream",
          "text": [
            "4950\n"
          ],
          "name": "stdout"
        }
      ]
    },
    {
      "cell_type": "code",
      "metadata": {
        "colab": {
          "base_uri": "https://localhost:8080/"
        },
        "id": "yVhHbEWBuW0j",
        "outputId": "cb0f1d73-ba0b-4bbf-dee4-203939db2a1a"
      },
      "source": [
        "s = 0 \n",
        "for i in range(2,99,2):\n",
        "    s = s + i\n",
        "print(s)\n"
      ],
      "execution_count": null,
      "outputs": [
        {
          "output_type": "stream",
          "text": [
            "2450\n"
          ],
          "name": "stdout"
        }
      ]
    },
    {
      "cell_type": "code",
      "metadata": {
        "colab": {
          "base_uri": "https://localhost:8080/"
        },
        "id": "ltrPh8_wvRfB",
        "outputId": "9fa2f90e-aa6b-4ec9-ee89-19454a789c50"
      },
      "source": [
        "s = 0 \n",
        "for i in range(4,1001,3):\n",
        "    s = s + i\n",
        "print(s)"
      ],
      "execution_count": null,
      "outputs": [
        {
          "output_type": "stream",
          "text": [
            "167166\n"
          ],
          "name": "stdout"
        }
      ]
    },
    {
      "cell_type": "code",
      "metadata": {
        "colab": {
          "base_uri": "https://localhost:8080/"
        },
        "id": "PzlO3wDQxIPp",
        "outputId": "a64a48a6-81e3-490f-daed-bc6e2d6216cb"
      },
      "source": [
        "#12~127까지 홀수의 총 합은 ? \n",
        "s = 0 \n",
        "for i in range(12,128,2):\n",
        "    s = s + (i+1)\n",
        "print(s)"
      ],
      "execution_count": null,
      "outputs": [
        {
          "output_type": "stream",
          "text": [
            "4060\n"
          ],
          "name": "stdout"
        }
      ]
    },
    {
      "cell_type": "code",
      "metadata": {
        "colab": {
          "base_uri": "https://localhost:8080/"
        },
        "id": "Jg-fBDuByR3J",
        "outputId": "e917f017-69d3-45c4-f084-363304ec46a9"
      },
      "source": [
        ""
      ],
      "execution_count": null,
      "outputs": [
        {
          "output_type": "stream",
          "text": [
            "4060\n",
            "1380\n"
          ],
          "name": "stdout"
        }
      ]
    },
    {
      "cell_type": "code",
      "metadata": {
        "colab": {
          "base_uri": "https://localhost:8080/"
        },
        "id": "jUYVfCxFzGot",
        "outputId": "20ece24d-aab7-43e6-91c8-09aa83ea6ae0"
      },
      "source": [
        "## 12~127까지 홀수의 총 합과 3의 배수의 총합은? \n",
        "odd_summ =0 \n",
        "three_multi_sum = 0\n",
        "\n",
        "for i in range(12,128,2):\n",
        "    odd_summ =  odd_summ +(i+1)\n",
        "\n",
        "for i in range(12,128,3):\n",
        "    three_multi_sum =  three_multi_sum +(i)\n",
        "    \n",
        "print(odd_summ)\n",
        "print(three_multi_sum)"
      ],
      "execution_count": null,
      "outputs": [
        {
          "output_type": "stream",
          "text": [
            "4060\n",
            "2691\n"
          ],
          "name": "stdout"
        }
      ]
    },
    {
      "cell_type": "code",
      "metadata": {
        "colab": {
          "base_uri": "https://localhost:8080/"
        },
        "id": "p-tWu_Aj2bNu",
        "outputId": "cba571f1-7c37-406b-83e0-c7923468c574"
      },
      "source": [
        "odd_summ =0 \n",
        "three_multi_sum = 0\n",
        "\n",
        "for i in range(12,128):\n",
        "    if i%2 == 1:\n",
        "        odd_summ += i\n",
        "\n",
        "    if i % 3 == 0 :\n",
        "        three_multi_sum +=  i\n",
        "    \n",
        "print(odd_summ)\n",
        "print(three_multi_sum)"
      ],
      "execution_count": null,
      "outputs": [
        {
          "output_type": "stream",
          "text": [
            "4060\n",
            "2691\n"
          ],
          "name": "stdout"
        }
      ]
    },
    {
      "cell_type": "code",
      "metadata": {
        "colab": {
          "base_uri": "https://localhost:8080/",
          "height": 222
        },
        "id": "jUCNBdgb3dnZ",
        "outputId": "fc65d4e5-0908-4876-8112-f27b563a1a05"
      },
      "source": [
        "a = 3\n",
        "\n",
        "# \"a = 3 : ***\"\n",
        "S= \"\"\n",
        "for i in range(3):\n",
        "\n",
        "    s = s + \"*\"\n",
        "print(\"\")"
      ],
      "execution_count": null,
      "outputs": [
        {
          "output_type": "error",
          "ename": "TypeError",
          "evalue": "ignored",
          "traceback": [
            "\u001b[0;31m---------------------------------------------------------------------------\u001b[0m",
            "\u001b[0;31mTypeError\u001b[0m                                 Traceback (most recent call last)",
            "\u001b[0;32m<ipython-input-111-f690eb418c78>\u001b[0m in \u001b[0;36m<module>\u001b[0;34m()\u001b[0m\n\u001b[1;32m      5\u001b[0m \u001b[0;32mfor\u001b[0m \u001b[0mi\u001b[0m \u001b[0;32min\u001b[0m \u001b[0mrange\u001b[0m\u001b[0;34m(\u001b[0m\u001b[0;36m3\u001b[0m\u001b[0;34m)\u001b[0m\u001b[0;34m:\u001b[0m\u001b[0;34m\u001b[0m\u001b[0;34m\u001b[0m\u001b[0m\n\u001b[1;32m      6\u001b[0m \u001b[0;34m\u001b[0m\u001b[0m\n\u001b[0;32m----> 7\u001b[0;31m     \u001b[0ms\u001b[0m \u001b[0;34m=\u001b[0m \u001b[0ms\u001b[0m \u001b[0;34m+\u001b[0m \u001b[0;34m\"*\"\u001b[0m\u001b[0;34m\u001b[0m\u001b[0;34m\u001b[0m\u001b[0m\n\u001b[0m\u001b[1;32m      8\u001b[0m \u001b[0mprint\u001b[0m\u001b[0;34m(\u001b[0m\u001b[0ms\u001b[0m\u001b[0;34m)\u001b[0m\u001b[0;34m\u001b[0m\u001b[0;34m\u001b[0m\u001b[0m\n",
            "\u001b[0;31mTypeError\u001b[0m: unsupported operand type(s) for +: 'int' and 'str'"
          ]
        }
      ]
    },
    {
      "cell_type": "code",
      "metadata": {
        "colab": {
          "base_uri": "https://localhost:8080/"
        },
        "id": "ey75O-hY4j8L",
        "outputId": "1faf2747-209b-472c-941f-ec94b9e16f59"
      },
      "source": [
        "\n",
        "s= \"\" #변수의 초기화 \n",
        "for a in range(1,10):\n",
        "\n",
        "    s = s + \"*\"\n",
        "    print(\"a = {} : {}\".format(a,s))"
      ],
      "execution_count": null,
      "outputs": [
        {
          "output_type": "stream",
          "text": [
            "a = 1 : *\n",
            "a = 2 : **\n",
            "a = 3 : ***\n",
            "a = 4 : ****\n",
            "a = 5 : *****\n",
            "a = 6 : ******\n",
            "a = 7 : *******\n",
            "a = 8 : ********\n",
            "a = 9 : *********\n"
          ],
          "name": "stdout"
        }
      ]
    },
    {
      "cell_type": "code",
      "metadata": {
        "colab": {
          "base_uri": "https://localhost:8080/"
        },
        "id": "fZCrkwR046ky",
        "outputId": "bea9b8e0-6976-4e66-fa7c-7be4d2a5ca90"
      },
      "source": [
        "s= \"\" #변수의 초기화 \n",
        "for a in range(1,10):\n",
        "\n",
        "    s = s + \"*\"\n",
        "    print(\"{}\".format(s))"
      ],
      "execution_count": null,
      "outputs": [
        {
          "output_type": "stream",
          "text": [
            "*\n",
            "**\n",
            "***\n",
            "****\n",
            "*****\n",
            "******\n",
            "*******\n",
            "********\n",
            "*********\n"
          ],
          "name": "stdout"
        }
      ]
    },
    {
      "cell_type": "code",
      "metadata": {
        "id": "pkRIdik2-dEs"
      },
      "source": [
        "for i in range(1,10):\n",
        "\n",
        "    s = s + \"*\"\n",
        "    print(\"{}\".format(s))"
      ],
      "execution_count": null,
      "outputs": []
    },
    {
      "cell_type": "code",
      "metadata": {
        "colab": {
          "base_uri": "https://localhost:8080/"
        },
        "id": "llQ7Pkco7r0-",
        "outputId": "ef0029f5-6396-43fd-b6e7-df75d65e2c16"
      },
      "source": [
        "#for 구문이 2개가 아니기 때문에 무시되어야 한다. \n",
        "# for a in range(5,0,-1):\n",
        "\n",
        "#     s = \"*\"* a\n",
        "#     print(\"{}\".format(s))\n",
        "\n",
        "\n",
        "\n",
        "for i in range(5,0,-1):\n",
        "    s= \"\"\n",
        "    for j in range(i):\n",
        "        s = s +\"*\"\n",
        "    print(s)"
      ],
      "execution_count": null,
      "outputs": [
        {
          "output_type": "stream",
          "text": [
            "*****\n",
            "****\n",
            "***\n",
            "**\n",
            "*\n"
          ],
          "name": "stdout"
        }
      ]
    },
    {
      "cell_type": "code",
      "metadata": {
        "colab": {
          "base_uri": "https://localhost:8080/"
        },
        "id": "beVgk6oj8iu6",
        "outputId": "5a44ea02-6e4b-41d6-f99e-d120254a6382"
      },
      "source": [
        "def print_star_of_length(length):\n",
        "    s= \"\"\n",
        "    for j in range(length):\n",
        "        s = s +\"*\"\n",
        "    print(s)\n",
        "\n",
        "for i in range(5,0,-1):\n",
        "    print_star_of_length(i)\n",
        "\n"
      ],
      "execution_count": null,
      "outputs": [
        {
          "output_type": "stream",
          "text": [
            "*****\n",
            "****\n",
            "***\n",
            "**\n",
            "*\n"
          ],
          "name": "stdout"
        }
      ]
    },
    {
      "cell_type": "code",
      "metadata": {
        "id": "WGwQ2Th6AmcD"
      },
      "source": [
        ""
      ],
      "execution_count": null,
      "outputs": []
    }
  ]
}