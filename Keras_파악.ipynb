{
  "nbformat": 4,
  "nbformat_minor": 0,
  "metadata": {
    "colab": {
      "name": "Keras 파악.ipynb",
      "provenance": [],
      "toc_visible": true,
      "authorship_tag": "ABX9TyM/Zlz7ocZCtKxB0lxWze2W",
      "include_colab_link": true
    },
    "kernelspec": {
      "name": "python3",
      "display_name": "Python 3"
    },
    "language_info": {
      "name": "python"
    }
  },
  "cells": [
    {
      "cell_type": "markdown",
      "metadata": {
        "id": "view-in-github",
        "colab_type": "text"
      },
      "source": [
        "<a href=\"https://colab.research.google.com/github/ella-hong22/DATA_EDUCATION/blob/main/Keras_%ED%8C%8C%EC%95%85.ipynb\" target=\"_parent\"><img src=\"https://colab.research.google.com/assets/colab-badge.svg\" alt=\"Open In Colab\"/></a>"
      ]
    },
    {
      "cell_type": "code",
      "metadata": {
        "colab": {
          "base_uri": "https://localhost:8080/"
        },
        "id": "iRDNTdEDU1al",
        "outputId": "cafe705b-de4c-4231-a296-bbfc03189fbe"
      },
      "source": [
        "%tensorflow_version 1.x\n",
        "import tensorflow\n",
        "print(tensorflow.__version__)"
      ],
      "execution_count": 1,
      "outputs": [
        {
          "output_type": "stream",
          "text": [
            "TensorFlow 1.x selected.\n",
            "1.15.2\n"
          ],
          "name": "stdout"
        }
      ]
    },
    {
      "cell_type": "markdown",
      "metadata": {
        "id": "GBGgUJybVIfI"
      },
      "source": [
        "# 모듈 임포팅"
      ]
    },
    {
      "cell_type": "code",
      "metadata": {
        "id": "E2GS_46_VEM3"
      },
      "source": [
        "import numpy as np\n",
        "import pandas as pd\n",
        "import matplotlib.pyplot as plt\n",
        "\n",
        "import tensorflow as tf\n",
        "from tensorflow import keras\n",
        "\n",
        "import time"
      ],
      "execution_count": 3,
      "outputs": []
    },
    {
      "cell_type": "code",
      "metadata": {
        "id": "9V8KehUUVGx4"
      },
      "source": [
        "from tensorflow.keras import optimizers\n",
        "from tensorflow.keras.layers import Dense"
      ],
      "execution_count": 4,
      "outputs": []
    },
    {
      "cell_type": "markdown",
      "metadata": {
        "id": "DMfAqQ6dVNrm"
      },
      "source": [
        "# Keras DNN 최소 코드\n",
        "\n",
        "## 데이터 준비\n",
        "1차원 데이터 x와 x**2의 1차원 데이타 y"
      ]
    },
    {
      "cell_type": "code",
      "metadata": {
        "colab": {
          "base_uri": "https://localhost:8080/",
          "height": 283
        },
        "id": "gwVmHjzXVMq2",
        "outputId": "4766b311-46ee-43c1-c02f-7036661081a6"
      },
      "source": [
        "import numpy as np\n",
        "\n",
        "x = np.arange(-1,1,0.01)\n",
        "y = x**2\n",
        "\n",
        "plt.scatter(x,y)"
      ],
      "execution_count": 5,
      "outputs": [
        {
          "output_type": "execute_result",
          "data": {
            "text/plain": [
              "<matplotlib.collections.PathCollection at 0x7f261f57cc10>"
            ]
          },
          "metadata": {
            "tags": []
          },
          "execution_count": 5
        },
        {
          "output_type": "display_data",
          "data": {
            "image/png": "[encoded data removed]",
            "text/plain": [
              "<Figure size 432x288 with 1 Axes>"
            ]
          },
          "metadata": {
            "tags": [],
            "needs_background": "light"
          }
        }
      ]
    },
    {
      "cell_type": "code",
      "metadata": {
        "colab": {
          "base_uri": "https://localhost:8080/"
        },
        "id": "Hld1gyyIVVCM",
        "outputId": "55fa7c4a-5d52-4601-d495-b8a0c1d63bb5"
      },
      "source": [
        "print(len(x))\n",
        "print(x.shape)"
      ],
      "execution_count": 6,
      "outputs": [
        {
          "output_type": "stream",
          "text": [
            "200\n",
            "(200,)\n"
          ],
          "name": "stdout"
        }
      ]
    },
    {
      "cell_type": "markdown",
      "metadata": {
        "id": "JtDtsqHZVXlQ"
      },
      "source": [
        "## 최소 코드\n",
        "아래의 코드는 최소 코드."
      ]
    },
    {
      "cell_type": "code",
      "metadata": {
        "id": "bTQAJA1UVWfW"
      },
      "source": [
        "import numpy as np\n",
        "import matplotlib.pyplot as plt\n",
        "\n",
        "from tensorflow import keras\n",
        "from tensorflow.keras import optimizers\n",
        "from tensorflow.keras.layers import Dense, Input\n",
        "\n",
        "import time"
      ],
      "execution_count": 7,
      "outputs": []
    },
    {
      "cell_type": "code",
      "metadata": {
        "colab": {
          "base_uri": "https://localhost:8080/",
          "height": 265
        },
        "id": "73y0JZ5KWA7d",
        "outputId": "eadbaf7e-b2c8-42b7-8511-73622af84890"
      },
      "source": [
        "# 모델 구조 정의\n",
        "model = keras.Sequential()\n",
        "model.add(Input(1))\n",
        "model.add(Dense(10, activation='tanh'))\n",
        "model.add(Dense(10, activation='tanh'))\n",
        "model.add(Dense(1))\n",
        "\n",
        "\n",
        "\n",
        "# 컴파일 : 모델 + optimizer + loss\n",
        "model.compile(optimizer=\"SGD\", loss=\"mse\") #mse = 예상값 - 실제값의 차이의 평균 \n",
        "\n",
        "\n",
        "# 학습\n",
        "model.fit(x, y, epochs=10000, verbose=0, batch_size=20) #epochs = 1000은 모든 데이터를 1000번 학습 \n",
        "\n",
        "\n",
        "# 예측\n",
        "y_ = model.predict(x)\n",
        "\n",
        "\n",
        "# 결과 그래프로 보기\n",
        "plt.scatter(x,y) # 정답\n",
        "plt.scatter(x,y_,color='r') # 결과\n",
        "plt.show()"
      ],
      "execution_count": 10,
      "outputs": [
        {
          "output_type": "display_data",
          "data": {
            "image/png": "[encoded data removed]",
            "text/plain": [
              "<Figure size 432x288 with 1 Axes>"
            ]
          },
          "metadata": {
            "tags": [],
            "needs_background": "light"
          }
        }
      ]
    },
    {
      "cell_type": "markdown",
      "metadata": {
        "id": "-9lH7E8KYasm"
      },
      "source": [
        "# Keras DNN 최소 코드에 기본 정도만 추가\n",
        "최소는 아니고, 이정도는 매번 사용하는 코드"
      ]
    },
    {
      "cell_type": "markdown",
      "metadata": {
        "id": "qagBz5Z4YeCe"
      },
      "source": [
        "## model.evaluate() - 성능 평가하기"
      ]
    },
    {
      "cell_type": "code",
      "metadata": {
        "colab": {
          "base_uri": "https://localhost:8080/",
          "height": 357
        },
        "id": "uD3OBOwsWt-9",
        "outputId": "1803f775-9ef1-4b77-8fd5-3aeb69a71d74"
      },
      "source": [
        "from tensorflow.keras import optimizers\n",
        "from tensorflow.keras.layers import Dense\n",
        "\n",
        "\n",
        "model = keras.Sequential()\n",
        "#model.add(Input(1))\n",
        "model.add(Dense(10, activation='tanh', input_shape=(1,) )) #???\n",
        "model.add(Dense(10, activation='tanh' ))\n",
        "model.add(Dense(1))\n",
        "\n",
        "\n",
        "#model.compile(optimizer=\"SGD\", loss=\"mse\")\n",
        "# model.compile(optimizer=\"SGD\", loss=\"mse\", metrics=[\"mse\"]) \n",
        "model.compile(optimizer=\"SGD\", loss=\"mae\", metrics=[\"mae\"])\n",
        "\n",
        "\n",
        "model.fit(x, y, epochs=1000, verbose=0, batch_size=20)\n",
        "\n",
        "loss, mse = model.evaluate(x, y) # ADD\n",
        "print(\"loss=\",loss) # ADD\n",
        "print(\"mse=\",mse) # ADD\n",
        "\n",
        "\n",
        "y_ = model.predict(x)\n",
        "\n",
        "\n",
        "plt.scatter(x,y)\n",
        "\n",
        "#선생님과 출력값이 나르게 나타난다. 그럴수 있다. "
      ],
      "execution_count": 13,
      "outputs": [
        {
          "output_type": "stream",
          "text": [
            "200/200 [==============================] - 0s 203us/sample - loss: 0.0182 - mean_absolute_error: 0.0182\n",
            "loss= 0.018249965459108352\n",
            "mse= 0.018249964\n"
          ],
          "name": "stdout"
        },
        {
          "output_type": "execute_result",
          "data": {
            "text/plain": [
              "<matplotlib.collections.PathCollection at 0x7f2614c88310>"
            ]
          },
          "metadata": {
            "tags": []
          },
          "execution_count": 13
        },
        {
          "output_type": "display_data",
          "data": {
            "image/png": "[encoded data removed]",
            "text/plain": [
              "<Figure size 432x288 with 1 Axes>"
            ]
          },
          "metadata": {
            "tags": [],
            "needs_background": "light"
          }
        }
      ]
    },
    {
      "cell_type": "markdown",
      "metadata": {
        "id": "noODw89RZutu"
      },
      "source": [
        "## 테스트셋으로 평가하기\n",
        "데이터를 train과 test으로 나누어 준비한다."
      ]
    },
    {
      "cell_type": "code",
      "metadata": {
        "colab": {
          "base_uri": "https://localhost:8080/"
        },
        "id": "9haUSnM0cYJ7",
        "outputId": "fbb3c1e2-4dc3-4f52-d14e-1a1981e722ef"
      },
      "source": [
        "print(x.shape[0])"
      ],
      "execution_count": 15,
      "outputs": [
        {
          "output_type": "stream",
          "text": [
            "200\n"
          ],
          "name": "stdout"
        }
      ]
    },
    {
      "cell_type": "code",
      "metadata": {
        "colab": {
          "base_uri": "https://localhost:8080/",
          "height": 265
        },
        "id": "_uah5mWnZNVV",
        "outputId": "230aeadd-7213-47c5-d051-933d210020d7"
      },
      "source": [
        "x = np.arange(-1,1,0.01)\n",
        "np.random.shuffle(x)\n",
        "y = x**2\n",
        "\n",
        "split_index = int(x.shape[0]*0.6)\n",
        "\n",
        "train_x, test_x = x[:split_index], x[split_index:] # 7:3 8:2 비율 \n",
        "train_y, test_y = y[:split_index], y[split_index:]\n",
        "\n",
        "plt.scatter(train_x,train_y)\n",
        "plt.scatter(test_x,test_y)\n",
        "plt.show()"
      ],
      "execution_count": 14,
      "outputs": [
        {
          "output_type": "display_data",
          "data": {
            "image/png": "[encoded data removed]",
            "text/plain": [
              "<Figure size 432x288 with 1 Axes>"
            ]
          },
          "metadata": {
            "tags": [],
            "needs_background": "light"
          }
        }
      ]
    },
    {
      "cell_type": "code",
      "metadata": {
        "colab": {
          "base_uri": "https://localhost:8080/",
          "height": 339
        },
        "id": "KlGH7HK6Z4E1",
        "outputId": "e1b36f1e-4569-4c7d-a7ab-370cd59e78ac"
      },
      "source": [
        "model = keras.Sequential()\n",
        "model.add(Dense(10, activation='tanh', input_shape=(1,)))\n",
        "model.add(Dense(10, activation='tanh'))\n",
        "model.add(Dense(1))\n",
        "\n",
        "\n",
        "model.compile(optimizer=\"SGD\", loss=\"mse\", metrics=[\"mse\"])\n",
        "\n",
        "\n",
        "# model.fit(x, y, epochs=1000, verbose=0, batch_size=20)\n",
        "model.fit(train_x, train_y, epochs=1000, verbose=0, batch_size=20)\n",
        "\n",
        "\n",
        "# loss, mse = model.evaluate(x, y)\n",
        "loss, mse = model.evaluate(test_x, test_y)\n",
        "print(\"loss=\",loss)\n",
        "print(\"mse=\",mse)\n",
        "\n",
        "\n",
        "# y_ = model.predict(x)\n",
        "y_ = model.predict(test_x)\n",
        "\n",
        "# plt.scatter(x,y)\n",
        "plt.scatter(test_x,test_y)\n",
        "# plt.scatter(x,y_,color='r')\n",
        "plt.scatter(test_x,y_,color='r')\n",
        "plt.show()"
      ],
      "execution_count": 16,
      "outputs": [
        {
          "output_type": "stream",
          "text": [
            "80/80 [==============================] - 0s 513us/sample - loss: 0.0022 - mean_squared_error: 0.0022\n",
            "loss= 0.0022469503339380024\n",
            "mse= 0.0022469503\n"
          ],
          "name": "stdout"
        },
        {
          "output_type": "display_data",
          "data": {
            "image/png": "[encoded data removed]",
            "text/plain": [
              "<Figure size 432x288 with 1 Axes>"
            ]
          },
          "metadata": {
            "tags": [],
            "needs_background": "light"
          }
        }
      ]
    },
    {
      "cell_type": "markdown",
      "metadata": {
        "id": "V0_BAzr6de8Z"
      },
      "source": [
        "train_x, train_y로 학습하였고, evaluate()와 predict()에는 test_x, test_y를 사용하였다.\n",
        "\n",
        "그려진 그림을 보면 test_x의 점사이에 빈 간격이 보인다. 그 간격이 train_x에 해당한다."
      ]
    },
    {
      "cell_type": "markdown",
      "metadata": {
        "id": "vQEl2TQRkE6E"
      },
      "source": [
        "##Base Model 결과 저장\n",
        "이후 비교를 위해 그래프를 저장해 둔다."
      ]
    },
    {
      "cell_type": "code",
      "metadata": {
        "id": "ljQES-98dZ50"
      },
      "source": [
        ""
      ],
      "execution_count": null,
      "outputs": []
    }
  ]
}