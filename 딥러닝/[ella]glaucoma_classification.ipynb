{
 "cells": [
  {
   "cell_type": "code",
   "execution_count": null,
   "id": "94ddfec5",
   "metadata": {},
   "outputs": [],
   "source": [
    "%tensorflow_version 1.x"
   ]
  },
  {
   "cell_type": "code",
   "execution_count": 1,
   "id": "db3c871d",
   "metadata": {},
   "outputs": [],
   "source": [
    "import os\n",
    "\n",
    "import matplotlib.pyplot as plt\n",
    "import numpy as np\n",
    "\n",
    "from tensorflow.keras import optimizers\n",
    "from tensorflow.keras import models\n",
    "from tensorflow.keras import layers\n",
    "from tensorflow.keras import optimizers\n",
    "from tensorflow.keras.models import Sequential\n",
    "from tensorflow.keras.layers import Dropout, Flatten, Dense\n",
    "from tensorflow.keras.models import Model\n",
    "from tensorflow.keras.preprocessing.image import ImageDataGenerator\n",
    "from tensorflow.keras.preprocessing.image import load_img\n",
    "from tensorflow.keras.preprocessing.image import img_to_array\n",
    "\n",
    "from tensorflow.keras.applications import vgg16\n",
    "from tensorflow.keras.applications import VGG16"
   ]
  },
  {
   "cell_type": "code",
   "execution_count": 2,
   "id": "a09a492e",
   "metadata": {},
   "outputs": [
    {
     "name": "stdout",
     "output_type": "stream",
     "text": [
      "Found 771 images belonging to 3 classes.\n",
      "Found 773 images belonging to 3 classes.\n"
     ]
    },
    {
     "name": "stderr",
     "output_type": "stream",
     "text": [
      "C:\\Users\\DMC CONET\\AppData\\Roaming\\Python\\Python38\\site-packages\\tensorflow\\python\\keras\\engine\\training.py:1940: UserWarning: `Model.fit_generator` is deprecated and will be removed in a future version. Please use `Model.fit`, which supports generators.\n",
      "  warnings.warn('`Model.fit_generator` is deprecated and '\n"
     ]
    },
    {
     "name": "stdout",
     "output_type": "stream",
     "text": [
      "Epoch 1/10\n",
      "12/12 [==============================] - 36s 1s/step - loss: 80.1667 - acc: 0.5707 - val_loss: 32.4436 - val_acc: 0.5679\n",
      "Epoch 2/10\n",
      "12/12 [==============================] - 12s 1s/step - loss: 10.6955 - acc: 0.7419 - val_loss: 19.1334 - val_acc: 0.5343\n",
      "Epoch 3/10\n",
      "12/12 [==============================] - 12s 1s/step - loss: 6.4507 - acc: 0.7536 - val_loss: 4.9200 - val_acc: 0.6624\n",
      "Epoch 4/10\n",
      "12/12 [==============================] - 13s 1s/step - loss: 2.6058 - acc: 0.8119 - val_loss: 2.7265 - val_acc: 0.6546\n",
      "Epoch 5/10\n",
      "12/12 [==============================] - 12s 1s/step - loss: 1.6571 - acc: 0.7756 - val_loss: 2.5263 - val_acc: 0.6960\n",
      "Epoch 6/10\n",
      "12/12 [==============================] - 13s 1s/step - loss: 1.1744 - acc: 0.8029 - val_loss: 1.3191 - val_acc: 0.6455\n",
      "Epoch 7/10\n",
      "12/12 [==============================] - 12s 1s/step - loss: 1.0699 - acc: 0.8132 - val_loss: 1.0879 - val_acc: 0.6792\n",
      "Epoch 8/10\n",
      "12/12 [==============================] - 12s 1s/step - loss: 1.2332 - acc: 0.8067 - val_loss: 2.5753 - val_acc: 0.6300\n",
      "Epoch 9/10\n",
      "12/12 [==============================] - 14s 1s/step - loss: 1.0151 - acc: 0.8223 - val_loss: 1.3704 - val_acc: 0.6080\n",
      "Epoch 10/10\n",
      "12/12 [==============================] - 13s 1s/step - loss: 0.7240 - acc: 0.8054 - val_loss: 1.6212 - val_acc: 0.5239\n"
     ]
    },
    {
     "name": "stderr",
     "output_type": "stream",
     "text": [
      "C:\\Users\\DMC CONET\\AppData\\Roaming\\Python\\Python38\\site-packages\\tensorflow\\python\\keras\\engine\\training.py:1973: UserWarning: `Model.evaluate_generator` is deprecated and will be removed in a future version. Please use `Model.evaluate`, which supports generators.\n",
      "  warnings.warn('`Model.evaluate_generator` is deprecated and '\n"
     ]
    },
    {
     "name": "stdout",
     "output_type": "stream",
     "text": [
      "loss= 1.6212124824523926\n",
      "acc= 0.5239327549934387\n"
     ]
    },
    {
     "name": "stderr",
     "output_type": "stream",
     "text": [
      "C:\\Users\\DMC CONET\\AppData\\Roaming\\Python\\Python38\\site-packages\\tensorflow\\python\\keras\\engine\\training.py:2001: UserWarning: `Model.predict_generator` is deprecated and will be removed in a future version. Please use `Model.predict`, which supports generators.\n",
      "  warnings.warn('`Model.predict_generator` is deprecated and '\n"
     ]
    },
    {
     "name": "stdout",
     "output_type": "stream",
     "text": [
      "predicted category index = 1\n",
      "predicted category name = early\n"
     ]
    }
   ],
   "source": [
    "conv_layers = VGG16(weights='imagenet', include_top=False, input_shape=(224, 224, 3))\n",
    "conv_layers.trainable = False\n",
    "\n",
    "model = models.Sequential()\n",
    "\n",
    "model.add(conv_layers)\n",
    "model.add(layers.Flatten())\n",
    "model.add(layers.Dense(1024, activation='relu'))\n",
    "model.add(layers.Dropout(0.5))\n",
    "model.add(layers.Dense(3, activation='softmax')) #ADD\n",
    "\n",
    "model.compile(loss='sparse_categorical_crossentropy', optimizer=\"RMSprop\", metrics=['acc'])\n",
    "\n",
    "\n",
    "train_data_generator = ImageDataGenerator(\n",
    "      rotation_range=10,\n",
    "      width_shift_range=0.1,\n",
    "      height_shift_range=0.1,\n",
    "      horizontal_flip=True,\n",
    "      vertical_flip=False,\n",
    "      preprocessing_function=vgg16.preprocess_input\n",
    ").flow_from_directory(\n",
    "      \"data/train\", #ADD\n",
    "      target_size=(224,224),\n",
    "      batch_size=64,\n",
    "      class_mode='sparse'\n",
    ")\n",
    "\n",
    "test_data_generator = ImageDataGenerator(\n",
    "      preprocessing_function=vgg16.preprocess_input\n",
    ").flow_from_directory(\n",
    "      \"data/test\",#ADD \n",
    "      target_size=(224,224),\n",
    "      batch_size=64,\n",
    "      class_mode='sparse'\n",
    ")\n",
    "\n",
    "\n",
    "model.fit_generator(\n",
    "      train_data_generator,\n",
    "      validation_data=test_data_generator,\n",
    "      steps_per_epoch=train_data_generator.samples/64,  \n",
    "      validation_steps=test_data_generator.samples/64,      \n",
    "      epochs=10\n",
    ")\n",
    "\n",
    "loss, acc = model.evaluate_generator(\n",
    "      test_data_generator,\n",
    "      steps=test_data_generator.samples/64\n",
    ")\n",
    "print(\"loss=\", loss)\n",
    "print(\"acc=\", acc)\n",
    "\n",
    "y_ = model.predict_generator(\n",
    "      test_data_generator,\n",
    "      steps=test_data_generator.samples/64\n",
    ")\n",
    "\n",
    "custom_labels = list(test_data_generator.class_indices.keys()) # ADDED\n",
    "predicted = np.argmax(y_, axis=1)\n",
    "print(\"predicted category index =\", predicted[0])\n",
    "print(\"predicted category name =\", custom_labels[predicted[0]])\n"
   ]
  },
  {
   "cell_type": "code",
   "execution_count": 3,
   "id": "6c79943d",
   "metadata": {},
   "outputs": [],
   "source": [
    "from tensorflow.keras.callbacks import ModelCheckpoint, EarlyStopping, ReduceLROnPlateau\n",
    "from tensorflow.keras.callbacks import Callback\n",
    "\n",
    "from IPython.display import clear_output\n",
    "\n",
    "class PlotLosses(Callback):\n",
    "\n",
    "    def on_train_begin(self, logs={}):\n",
    "\n",
    "        self.i = 0\n",
    "        self.x = []\n",
    "        self.losses = []\n",
    "        self.val_losses = []\n",
    "\n",
    "        self.fig = plt.figure()\n",
    "\n",
    "        self.logs = []\n",
    "\n",
    "    def on_epoch_end(self, epoch, logs={}):\n",
    "\n",
    "        self.logs.append(logs)\n",
    "        self.x.append(self.i)\n",
    "        self.losses.append(logs.get('loss'))\n",
    "        self.val_losses.append(logs.get('val_loss'))\n",
    "        self.i += 1\n",
    "\n",
    "        clear_output(wait=True)\n",
    "        # plt.plot(self.x, self.losses, label=\"loss\")\n",
    "        plt.plot(self.x, self.losses, label=\"loss\",  color='y')\n",
    "        plt.plot(self.x, self.val_losses, label=\"val_loss\")\n",
    "        plt.legend()\n",
    "        plt.show();\n",
    "        print(\"loss = \", self.losses[-1], \", val_loss = \", self.val_losses[-1])\n"
   ]
  },
  {
   "cell_type": "code",
   "execution_count": null,
   "id": "dcd6dd28",
   "metadata": {},
   "outputs": [],
   "source": [
    "model_check_point = ModelCheckpoint('best_model.h5', monitor='val_loss', mode='min', save_best_only=True)\n",
    "plot_losses = PlotLosses()\n",
    "early_stopping = EarlyStopping(monitor='val_loss', mode='min', verbose=1, patience=50)\n",
    "reduce_lr = ReduceLROnPlateau(monitor='val_loss', factor=0.2, patience=5, min_lr=0.001)"
   ]
  },
  {
   "cell_type": "markdown",
   "id": "8a0a864f",
   "metadata": {},
   "source": [
    "## collback 적용\n"
   ]
  },
  {
   "cell_type": "code",
   "execution_count": 4,
   "id": "ee1788a8",
   "metadata": {},
   "outputs": [
    {
     "data": {
      "image/png": "[encoded data removed]",
      "text/plain": [
       "<Figure size 432x288 with 1 Axes>"
      ]
     },
     "metadata": {
      "needs_background": "light"
     },
     "output_type": "display_data"
    },
    {
     "name": "stdout",
     "output_type": "stream",
     "text": [
      "loss =  0.8417606949806213 , val_loss =  1.332733392715454\n"
     ]
    },
    {
     "name": "stderr",
     "output_type": "stream",
     "text": [
      "C:\\Users\\DMC CONET\\AppData\\Roaming\\Python\\Python38\\site-packages\\tensorflow\\python\\keras\\engine\\training.py:1973: UserWarning: `Model.evaluate_generator` is deprecated and will be removed in a future version. Please use `Model.evaluate`, which supports generators.\n",
      "  warnings.warn('`Model.evaluate_generator` is deprecated and '\n"
     ]
    },
    {
     "name": "stdout",
     "output_type": "stream",
     "text": [
      "loss= 1.332733392715454\n",
      "acc= 0.6261319518089294\n"
     ]
    },
    {
     "name": "stderr",
     "output_type": "stream",
     "text": [
      "C:\\Users\\DMC CONET\\AppData\\Roaming\\Python\\Python38\\site-packages\\tensorflow\\python\\keras\\engine\\training.py:2001: UserWarning: `Model.predict_generator` is deprecated and will be removed in a future version. Please use `Model.predict`, which supports generators.\n",
      "  warnings.warn('`Model.predict_generator` is deprecated and '\n"
     ]
    },
    {
     "name": "stdout",
     "output_type": "stream",
     "text": [
      "predicted category index = 2\n",
      "predicted category name = normal\n"
     ]
    }
   ],
   "source": [
    "conv_layers = VGG16(weights='imagenet', include_top=False, input_shape=(224, 224, 3))\n",
    "conv_layers.trainable = False\n",
    "\n",
    "model = models.Sequential()\n",
    "\n",
    "model.add(conv_layers)\n",
    "model.add(layers.Flatten())\n",
    "model.add(layers.Dense(1024, activation='relu'))\n",
    "model.add(layers.Dropout(0.5))\n",
    "model.add(layers.Dense(3, activation='softmax')) #ADD\n",
    "\n",
    "model.compile(loss='sparse_categorical_crossentropy', optimizer=\"RMSprop\", metrics=['acc'])\n",
    "\n",
    "model_check_point = ModelCheckpoint('best_model.h5', monitor='val_loss', mode='min', save_best_only=True)\n",
    "plot_losses = PlotLosses()\n",
    "early_stopping = EarlyStopping(monitor='val_loss', mode='min', verbose=1, patience=30)\n",
    "reduce_lr = ReduceLROnPlateau(monitor='val_loss', factor=0.2, patience=5, min_lr=0.001)\n",
    "\n",
    "callbacks = [model_check_point, plot_losses, early_stopping, reduce_lr]\n",
    "\n",
    "\n",
    "train_data_generator = ImageDataGenerator(\n",
    "      rotation_range=10,\n",
    "      width_shift_range=0.1,\n",
    "      height_shift_range=0.1,\n",
    "      horizontal_flip=True,\n",
    "      vertical_flip=False,\n",
    "      preprocessing_function=vgg16.preprocess_input\n",
    ").flow_from_directory(\n",
    "      \"data/train\", #ADD\n",
    "      target_size=(224,224),\n",
    "      batch_size=64,\n",
    "      class_mode='sparse'\n",
    ")\n",
    "\n",
    "test_data_generator = ImageDataGenerator(\n",
    "      preprocessing_function=vgg16.preprocess_input\n",
    ").flow_from_directory(\n",
    "      \"data/test\",#ADD \n",
    "      target_size=(224,224),\n",
    "      batch_size=64,\n",
    "      class_mode='sparse'\n",
    ")\n",
    "\n",
    "\n",
    "model.fit_generator(\n",
    "      train_data_generator,\n",
    "      validation_data=test_data_generator,\n",
    "      steps_per_epoch=train_data_generator.samples/64,  \n",
    "      validation_steps=test_data_generator.samples/64,      \n",
    "      epochs=10,\n",
    "      callbacks=callbacks\n",
    ")\n",
    "\n",
    "loss, acc = model.evaluate_generator(\n",
    "      test_data_generator,\n",
    "      steps=test_data_generator.samples/64\n",
    ")\n",
    "print(\"loss=\", loss)\n",
    "print(\"acc=\", acc)\n",
    "\n",
    "y_ = model.predict_generator(\n",
    "      test_data_generator,\n",
    "      steps=test_data_generator.samples/64\n",
    ")\n",
    "\n",
    "custom_labels = list(test_data_generator.class_indices.keys()) # ADDED\n",
    "predicted = np.argmax(y_, axis=1)\n",
    "print(\"predicted category index =\", predicted[0])\n",
    "print(\"predicted category name =\", custom_labels[predicted[0]])"
   ]
  },
  {
   "cell_type": "code",
   "execution_count": 7,
   "id": "3ef5d4ca",
   "metadata": {},
   "outputs": [
    {
     "data": {
      "image/png": "[encoded data removed]",
      "text/plain": [
       "<Figure size 432x288 with 1 Axes>"
      ]
     },
     "metadata": {
      "needs_background": "light"
     },
     "output_type": "display_data"
    },
    {
     "name": "stdout",
     "output_type": "stream",
     "text": [
      "loss =  0.7807751893997192 , val_loss =  0.7589390277862549\n",
      "loss= 0.7589390277862549\n",
      "acc= 0.6300129294395447\n",
      "predicted category index = 0\n",
      "predicted category name = advanced\n"
     ]
    }
   ],
   "source": [
    "import os\n",
    "\n",
    "import matplotlib.pyplot as plt\n",
    "import numpy as np\n",
    "\n",
    "from tensorflow.keras import optimizers\n",
    "from tensorflow.keras import models\n",
    "from tensorflow.keras import layers\n",
    "from tensorflow.keras import optimizers\n",
    "from tensorflow.keras.models import Sequential\n",
    "from tensorflow.keras.layers import Dropout, Flatten, Dense\n",
    "from tensorflow.keras.models import Model\n",
    "from tensorflow.keras.preprocessing.image import ImageDataGenerator\n",
    "from tensorflow.keras.preprocessing.image import load_img\n",
    "from tensorflow.keras.preprocessing.image import img_to_array\n",
    "\n",
    "# from tensorflow.keras.applications import vgg16\n",
    "# from tensorflow.keras.applications import VGG16\n",
    "\n",
    "from tensorflow.keras.applications.densenet import DenseNet121\n",
    "from tensorflow.keras.applications import densenet\n",
    "\n",
    "conv_layers = DenseNet121(weights='imagenet', include_top=False, input_shape=(224, 224, 3))\n",
    "conv_layers.trainable = False\n",
    "\n",
    "model = models.Sequential()\n",
    "\n",
    "model.add(conv_layers)\n",
    "model.add(layers.Flatten())\n",
    "model.add(layers.Dense(1024, activation='relu'))\n",
    "model.add(layers.Dropout(0.5))\n",
    "model.add(layers.Dense(3, activation='softmax')) #ADD\n",
    "\n",
    "model.compile(loss='sparse_categorical_crossentropy', optimizer=\"RMSprop\", metrics=['acc'])\n",
    "\n",
    "\n",
    "train_data_generator = ImageDataGenerator(\n",
    "      rotation_range=10,\n",
    "      width_shift_range=0.1,\n",
    "      height_shift_range=0.1,\n",
    "      horizontal_flip=True,\n",
    "      vertical_flip=False,\n",
    "      preprocessing_function=densenet.preprocess_input\n",
    ").flow_from_directory(\n",
    "      \"data/train\", #ADD\n",
    "      target_size=(224,224),\n",
    "      batch_size=64,\n",
    "      class_mode='sparse'\n",
    ")\n",
    "\n",
    "test_data_generator = ImageDataGenerator(\n",
    "      preprocessing_function=densenet.preprocess_input\n",
    ").flow_from_directory(\n",
    "      \"data/test\",#ADD \n",
    "      target_size=(224,224),\n",
    "      batch_size=64,\n",
    "      class_mode='sparse'\n",
    ")\n",
    "\n",
    "\n",
    "model.fit_generator(\n",
    "      train_data_generator,\n",
    "      validation_data=test_data_generator,\n",
    "      steps_per_epoch=train_data_generator.samples/64,  \n",
    "      validation_steps=test_data_generator.samples/64,      \n",
    "      epochs=10,\n",
    "      callbacks=callbacks\n",
    ")\n",
    "\n",
    "loss, acc = model.evaluate_generator(\n",
    "      test_data_generator,\n",
    "      steps=test_data_generator.samples/64\n",
    ")\n",
    "print(\"loss=\", loss)\n",
    "print(\"acc=\", acc)\n",
    "\n",
    "y_ = model.predict_generator(\n",
    "      test_data_generator,\n",
    "      steps=test_data_generator.samples/64\n",
    ")\n",
    "\n",
    "custom_labels = list(test_data_generator.class_indices.keys()) # ADDED\n",
    "predicted = np.argmax(y_, axis=1)\n",
    "print(\"predicted category index =\", predicted[0])\n",
    "print(\"predicted category name =\", custom_labels[predicted[0]])"
   ]
  },
  {
   "cell_type": "code",
   "execution_count": 8,
   "id": "5224c5ea",
   "metadata": {},
   "outputs": [
    {
     "name": "stdout",
     "output_type": "stream",
     "text": [
      "2.5.0\n"
     ]
    }
   ],
   "source": [
    "import tensorflow as tf\n",
    "print(tf.__version__)"
   ]
  },
  {
   "cell_type": "code",
   "execution_count": null,
   "id": "7c5eaf1f",
   "metadata": {},
   "outputs": [],
   "source": []
  }
 ],
 "metadata": {
  "kernelspec": {
   "display_name": "Python 3",
   "language": "python",
   "name": "python3"
  },
  "language_info": {
   "codemirror_mode": {
    "name": "ipython",
    "version": 3
   },
   "file_extension": ".py",
   "mimetype": "text/x-python",
   "name": "python",
   "nbconvert_exporter": "python",
   "pygments_lexer": "ipython3",
   "version": "3.8.8"
  }
 },
 "nbformat": 4,
 "nbformat_minor": 5
}
