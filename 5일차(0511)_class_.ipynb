{
  "nbformat": 4,
  "nbformat_minor": 0,
  "metadata": {
    "colab": {
      "name": "5일차(0511)_class .ipynb",
      "provenance": [],
      "toc_visible": true,
      "authorship_tag": "ABX9TyNl7UL+xlhLkn//6uUnK0O9",
      "include_colab_link": true
    },
    "kernelspec": {
      "name": "python3",
      "display_name": "Python 3"
    },
    "language_info": {
      "name": "python"
    }
  },
  "cells": [
    {
      "cell_type": "markdown",
      "metadata": {
        "id": "view-in-github",
        "colab_type": "text"
      },
      "source": [
        "<a href=\"https://colab.research.google.com/github/ella-hong22/DATA_EDUCATION/blob/main/5%EC%9D%BC%EC%B0%A8(0511)_class_.ipynb\" target=\"_parent\"><img src=\"https://colab.research.google.com/assets/colab-badge.svg\" alt=\"Open In Colab\"/></a>"
      ]
    },
    {
      "cell_type": "code",
      "metadata": {
        "id": "I4irNw94uAE6"
      },
      "source": [
        ""
      ],
      "execution_count": null,
      "outputs": []
    },
    {
      "cell_type": "markdown",
      "metadata": {
        "id": "8EYKk0cZu3o3"
      },
      "source": [
        "딕션너리 "
      ]
    },
    {
      "cell_type": "code",
      "metadata": {
        "id": "48bwBnUhu59Q"
      },
      "source": [
        "name_and_age ={'tom' : 30, 'jerry' : 32 ,'철수' : 25, \"영희\" : 27 }"
      ],
      "execution_count": null,
      "outputs": []
    },
    {
      "cell_type": "code",
      "metadata": {
        "colab": {
          "base_uri": "https://localhost:8080/"
        },
        "id": "IvesRiZvvFFZ",
        "outputId": "ed0ef034-213b-4bf7-8425-f9f955c07235"
      },
      "source": [
        "print(name_and_age)"
      ],
      "execution_count": null,
      "outputs": [
        {
          "output_type": "stream",
          "text": [
            "{'tom': 30, 'jerry': 32, '철수': 25, '영희': 27}\n"
          ],
          "name": "stdout"
        }
      ]
    },
    {
      "cell_type": "code",
      "metadata": {
        "colab": {
          "base_uri": "https://localhost:8080/"
        },
        "id": "bm1pJkQsvHW1",
        "outputId": "5cc93f24-4590-4a0c-ab17-facd530336e3"
      },
      "source": [
        "print(name_and_age[\"tom\"])\n",
        "print(name_and_age[\"철수\"])"
      ],
      "execution_count": null,
      "outputs": [
        {
          "output_type": "stream",
          "text": [
            "30\n",
            "25\n"
          ],
          "name": "stdout"
        }
      ]
    },
    {
      "cell_type": "code",
      "metadata": {
        "id": "5i5xwyObvK5d"
      },
      "source": [
        "d = {\n",
        "    'tom' : 30, \n",
        "    'jerry' : 32,\n",
        "    '철수' : 25, \n",
        "    \"영희\" : 27 \n",
        "    }"
      ],
      "execution_count": null,
      "outputs": []
    },
    {
      "cell_type": "code",
      "metadata": {
        "id": "DbqKv6P5vsFZ",
        "colab": {
          "base_uri": "https://localhost:8080/"
        },
        "outputId": "eb76e693-9f7e-40d4-bc61-bf35e737e7cc"
      },
      "source": [
        "d[\"bob\"] = 33\n",
        "print(d)"
      ],
      "execution_count": null,
      "outputs": [
        {
          "output_type": "stream",
          "text": [
            "{'tom': 30, 'jerry': 32, '철수': 25, '영희': 27, 'bob': 33}\n"
          ],
          "name": "stdout"
        }
      ]
    },
    {
      "cell_type": "code",
      "metadata": {
        "colab": {
          "base_uri": "https://localhost:8080/"
        },
        "id": "R_0wtGaqvx5w",
        "outputId": "0f872c71-60bb-4df9-b605-f0ed5779b6f9"
      },
      "source": [
        "print(d.keys())\n"
      ],
      "execution_count": null,
      "outputs": [
        {
          "output_type": "stream",
          "text": [
            "dict_keys(['tom', 'jerry', '철수', '영희', 'bob'])\n"
          ],
          "name": "stdout"
        }
      ]
    },
    {
      "cell_type": "code",
      "metadata": {
        "id": "UJQbXsH2wF6B",
        "colab": {
          "base_uri": "https://localhost:8080/"
        },
        "outputId": "c21b17f4-16a4-4765-9225-434cd991eb60"
      },
      "source": [
        "print(d.values())"
      ],
      "execution_count": null,
      "outputs": [
        {
          "output_type": "stream",
          "text": [
            "dict_values([30, 32, 25, 27, 33])\n"
          ],
          "name": "stdout"
        }
      ]
    },
    {
      "cell_type": "code",
      "metadata": {
        "colab": {
          "base_uri": "https://localhost:8080/"
        },
        "id": "_cBvVZUGw4OF",
        "outputId": "30088ebb-a6aa-4d86-a2cb-20806d166bf3"
      },
      "source": [
        "print(d.items())"
      ],
      "execution_count": null,
      "outputs": [
        {
          "output_type": "stream",
          "text": [
            "dict_items([('tom', 30), ('jerry', 32), ('철수', 25), ('영희', 27), ('bob', 33)])\n"
          ],
          "name": "stdout"
        }
      ]
    },
    {
      "cell_type": "code",
      "metadata": {
        "colab": {
          "base_uri": "https://localhost:8080/"
        },
        "id": "6cB9KLzCw5cy",
        "outputId": "6313b16c-53de-41e5-e3f2-ac679d40bf53"
      },
      "source": [
        "list = []\n",
        "for k in d.values() :\n",
        "    print(k)\n",
        "    list.append(k)\n"
      ],
      "execution_count": null,
      "outputs": [
        {
          "output_type": "stream",
          "text": [
            "30\n",
            "32\n",
            "25\n",
            "27\n",
            "33\n"
          ],
          "name": "stdout"
        }
      ]
    },
    {
      "cell_type": "code",
      "metadata": {
        "colab": {
          "base_uri": "https://localhost:8080/"
        },
        "id": "SH15Qy9Xxu1J",
        "outputId": "8b37ac67-a96e-449e-ede7-f872eca3253a"
      },
      "source": [
        "list"
      ],
      "execution_count": null,
      "outputs": [
        {
          "output_type": "execute_result",
          "data": {
            "text/plain": [
              "[30, 32, 25, 27, 33]"
            ]
          },
          "metadata": {
            "tags": []
          },
          "execution_count": 35
        }
      ]
    },
    {
      "cell_type": "code",
      "metadata": {
        "id": "Tzn8uLsRx6fZ",
        "colab": {
          "base_uri": "https://localhost:8080/"
        },
        "outputId": "ac0f17b1-dd3a-4bac-e07f-e6863558b01d"
      },
      "source": [
        "for k,v in d.items():\n",
        "    print(\"{}의 나이는 {}입니다.\".format(k,v))"
      ],
      "execution_count": null,
      "outputs": [
        {
          "output_type": "stream",
          "text": [
            "tom의 나이는 30입니다.\n",
            "jerry의 나이는 32입니다.\n",
            "철수의 나이는 25입니다.\n",
            "영희의 나이는 27입니다.\n",
            "bob의 나이는 33입니다.\n"
          ],
          "name": "stdout"
        }
      ]
    },
    {
      "cell_type": "code",
      "metadata": {
        "colab": {
          "base_uri": "https://localhost:8080/"
        },
        "id": "rOnkf4fLyjQq",
        "outputId": "c8a5e95a-d3c6-4522-c245-505fc2345015"
      },
      "source": [
        "for k in d.keys():\n",
        "    print(\"{}의 나이는 {}입니다.\".format(k,d[k]))"
      ],
      "execution_count": null,
      "outputs": [
        {
          "output_type": "stream",
          "text": [
            "tom의 나이는 30입니다.\n",
            "jerry의 나이는 32입니다.\n",
            "철수의 나이는 25입니다.\n",
            "영희의 나이는 27입니다.\n",
            "bob의 나이는 33입니다.\n"
          ],
          "name": "stdout"
        }
      ]
    },
    {
      "cell_type": "code",
      "metadata": {
        "colab": {
          "base_uri": "https://localhost:8080/"
        },
        "id": "EV3pM2FczFft",
        "outputId": "cea7308e-9c88-4dc5-cda6-0291fc225719"
      },
      "source": [
        "names = [\"tom\",\"철수\"]\n",
        "ages = [] \n",
        "\n",
        "for k in names:\n",
        "    age = d[k]\n",
        "    ages.append(age)\n",
        "\n",
        "for i in range(len(names)):\n",
        "    print(\"이름 : {}, 나이: {}\".format(names[i],ages[i]))"
      ],
      "execution_count": null,
      "outputs": [
        {
          "output_type": "stream",
          "text": [
            "이름 : tom, 나이: 30\n",
            "이름 : 철수, 나이: 25\n"
          ],
          "name": "stdout"
        }
      ]
    },
    {
      "cell_type": "code",
      "metadata": {
        "colab": {
          "base_uri": "https://localhost:8080/"
        },
        "id": "fB6c66EM0y30",
        "outputId": "15d4318b-b904-4a57-84a5-77956930ed31"
      },
      "source": [
        "names = [\"Tom\",\"철수\"]\n",
        "ages = [] \n",
        "\n",
        "for k in names:\n",
        "    k = k.lower()\n",
        "    age = d[k]\n",
        "    ages.append(age)\n",
        "\n",
        "for i in range(len(names)):\n",
        "    print(\"이름 : {}, 나이: {}\".format(names[i],ages[i]))"
      ],
      "execution_count": null,
      "outputs": [
        {
          "output_type": "stream",
          "text": [
            "이름 : Tom, 나이: 30\n",
            "이름 : 철수, 나이: 25\n"
          ],
          "name": "stdout"
        }
      ]
    },
    {
      "cell_type": "code",
      "metadata": {
        "colab": {
          "base_uri": "https://localhost:8080/"
        },
        "id": "LuHzY3Fj2GKt",
        "outputId": "3b79ffd7-f2d9-41f8-cd86-e5083b778a28"
      },
      "source": [
        "d = {\n",
        "    ' Tom' : 30, \n",
        "    'JERRY' : 32,\n",
        "    '철수 ' : 25, \n",
        "    \"영희\" : 27 \n",
        "    }\n",
        "\n",
        "clean_d = []\n",
        "\n",
        "for i in d.keys():\n",
        "    k = i.strip().lower()\n",
        "    clean_d.append(k)\n",
        "print(clean_d)"
      ],
      "execution_count": null,
      "outputs": [
        {
          "output_type": "stream",
          "text": [
            "['tom', 'jerry', '철수', '영희']\n"
          ],
          "name": "stdout"
        }
      ]
    },
    {
      "cell_type": "code",
      "metadata": {
        "colab": {
          "base_uri": "https://localhost:8080/"
        },
        "id": "hpEmjnTh4zc4",
        "outputId": "6514835f-2604-4cc2-9020-0db77df1aac0"
      },
      "source": [
        "d = {\n",
        "    ' Tom' : 30, \n",
        "    'JERRY' : 32,\n",
        "    '철수 ' : 25, \n",
        "    \"영희\" : 27 \n",
        "    }\n",
        "clean_d = {}\n",
        "for name, age in d.items():\n",
        "    cleaned_name = name.strip().lower()\n",
        "    clean_d[cleaned_name] = age\n",
        "\n",
        "names = [\"tom\",\"철수\"]\n",
        "\n",
        "for name in names:\n",
        "    age = clean_d[name]\n",
        "    ages.append(age)\n",
        "\n",
        "for i in range(len(names)):\n",
        "    print(\"이름 : {}, 나이: {}\".format(names[i],ages[i]))\n"
      ],
      "execution_count": null,
      "outputs": [
        {
          "output_type": "stream",
          "text": [
            "이름 : tom, 나이: 30\n",
            "이름 : 철수, 나이: 25\n"
          ],
          "name": "stdout"
        }
      ]
    },
    {
      "cell_type": "code",
      "metadata": {
        "id": "7MPv8InI41H6"
      },
      "source": [
        "d = {\n",
        "    'tom' : 30, \n",
        "    'jerry' : 32,\n",
        "    '철수 ' : 25, \n",
        "    \"영희\" : 27 \n",
        "    }"
      ],
      "execution_count": null,
      "outputs": []
    },
    {
      "cell_type": "code",
      "metadata": {
        "colab": {
          "base_uri": "https://localhost:8080/"
        },
        "id": "0cw2AjHf5bO9",
        "outputId": "61871254-28fd-480f-b73e-0127b10ba117"
      },
      "source": [
        "l = []\n",
        "for i in d.keys():\n",
        "    l.append(i)\n",
        "print(l[:2])"
      ],
      "execution_count": null,
      "outputs": [
        {
          "output_type": "stream",
          "text": [
            "tom\n",
            "jerry\n",
            "철수 \n",
            "영희\n",
            "['tom', 'jerry']\n"
          ],
          "name": "stdout"
        }
      ]
    },
    {
      "cell_type": "code",
      "metadata": {
        "colab": {
          "base_uri": "https://localhost:8080/"
        },
        "id": "dQ7KD35R5wE1",
        "outputId": "54de092f-3590-47c3-e54e-ef99aa141ba4"
      },
      "source": [
        "#1-3\n",
        "l = []\n",
        "for k,v in d.items():\n",
        "    if v > 30:\n",
        "     l.append(k)\n",
        "print(l)"
      ],
      "execution_count": null,
      "outputs": [
        {
          "output_type": "stream",
          "text": [
            "['jerry']\n"
          ],
          "name": "stdout"
        }
      ]
    },
    {
      "cell_type": "code",
      "metadata": {
        "colab": {
          "base_uri": "https://localhost:8080/"
        },
        "id": "cC7V7u4f_pVJ",
        "outputId": "473bcfe6-04b7-4dd4-b3ca-dccd0f51d574"
      },
      "source": [
        "#중복 x \n",
        "s = {1,2,3}\n",
        "print(s)\n",
        "print(len(s))"
      ],
      "execution_count": null,
      "outputs": [
        {
          "output_type": "stream",
          "text": [
            "{1, 2, 3}\n",
            "3\n"
          ],
          "name": "stdout"
        }
      ]
    },
    {
      "cell_type": "code",
      "metadata": {
        "colab": {
          "base_uri": "https://localhost:8080/"
        },
        "id": "vMyX5YYKATlC",
        "outputId": "5e02bd4f-ae23-44be-8b71-e1de25907413"
      },
      "source": [
        "ㅣ = [1,2,3,1,2,3]\n",
        "ㅣ2 = [1,2,3]\n",
        "l3  = []\n",
        "for k in range(len(l)):\n",
        "    try:\n",
        "        if not k in l:\n",
        "            l3.append(k)\n",
        "            \n",
        "    except:\n",
        "        break"
      ],
      "execution_count": null,
      "outputs": [
        {
          "output_type": "stream",
          "text": [
            "0\n",
            "0\n"
          ],
          "name": "stdout"
        }
      ]
    },
    {
      "cell_type": "code",
      "metadata": {
        "id": "HXDB6_biBlZj"
      },
      "source": [
        "#error\n",
        "for k in range(len(l)):\n",
        "\n",
        "    target = l[i]\n",
        "\n",
        "    for j in range(len(l2)):\n",
        "        if l2[j] ==target:\n",
        "            break\n",
        "    try:\n",
        "        if not k in l:\n",
        "            l3.append(k)\n",
        "            \n",
        "    except:\n",
        "        break"
      ],
      "execution_count": null,
      "outputs": []
    },
    {
      "cell_type": "code",
      "metadata": {
        "colab": {
          "base_uri": "https://localhost:8080/"
        },
        "id": "yt9hHVicCrEI",
        "outputId": "1bc4065c-1788-46c6-d711-b49479742b71"
      },
      "source": [
        "#어려움 ㄷㄷ\n",
        "l = [1,2,3,1,2,3]\n",
        "l2 = []\n",
        "\n",
        "def contains(l, target):\n",
        "    for i in range(len(l)):\n",
        "        if l[i] == target: return True\n",
        "    return False\n",
        "\n",
        "for i in range(len(l)):\n",
        "    if contains(l2, l[i]) : continue\n",
        "    l2.append(l[i])\n",
        "\n",
        "print(l2)"
      ],
      "execution_count": null,
      "outputs": [
        {
          "output_type": "stream",
          "text": [
            "[1, 2, 3]\n"
          ],
          "name": "stdout"
        }
      ]
    },
    {
      "cell_type": "code",
      "metadata": {
        "colab": {
          "base_uri": "https://localhost:8080/"
        },
        "id": "e0QnSXTODJmi",
        "outputId": "48b388d3-d8b8-4a30-f699-2c9fa9d02077"
      },
      "source": [
        "#제거하기 \n",
        "s = {1,2,3}\n",
        "\n",
        "s.discard(1)\n",
        "print(s)\n",
        "\n",
        "s.discard(2)\n",
        "print(s)"
      ],
      "execution_count": null,
      "outputs": [
        {
          "output_type": "stream",
          "text": [
            "{2, 3}\n",
            "{3}\n"
          ],
          "name": "stdout"
        }
      ]
    },
    {
      "cell_type": "code",
      "metadata": {
        "colab": {
          "base_uri": "https://localhost:8080/"
        },
        "id": "Mxmn73uoEB3q",
        "outputId": "b5abdd27-f35a-4416-e275-5c1557383ae5"
      },
      "source": [
        "s = { 1,2,3 }\n",
        "l = list(s)\n",
        "print(l)\n",
        "\n",
        "s = [ 1,2,3 ]\n",
        "l = set(s)\n",
        "print(l)"
      ],
      "execution_count": null,
      "outputs": [
        {
          "output_type": "stream",
          "text": [
            "{1, 2, 3}\n"
          ],
          "name": "stdout"
        }
      ]
    },
    {
      "cell_type": "code",
      "metadata": {
        "colab": {
          "base_uri": "https://localhost:8080/",
          "height": 239
        },
        "id": "59TH6BxrEZOm",
        "outputId": "c1f18f97-4254-450a-e1c1-07121670df3f"
      },
      "source": [
        "l = [1,2,3,1,2,3]\n",
        "\n",
        "s = set(l)\n",
        "l2 = list(s)\n",
        "\n",
        "print(s)\n"
      ],
      "execution_count": null,
      "outputs": [
        {
          "output_type": "error",
          "ename": "TypeError",
          "evalue": "ignored",
          "traceback": [
            "\u001b[0;31m---------------------------------------------------------------------------\u001b[0m",
            "\u001b[0;31mTypeError\u001b[0m                                 Traceback (most recent call last)",
            "\u001b[0;32m<ipython-input-111-b0a159d87848>\u001b[0m in \u001b[0;36m<module>\u001b[0;34m()\u001b[0m\n\u001b[1;32m      2\u001b[0m \u001b[0;34m\u001b[0m\u001b[0m\n\u001b[1;32m      3\u001b[0m \u001b[0ms\u001b[0m \u001b[0;34m=\u001b[0m \u001b[0mset\u001b[0m\u001b[0;34m(\u001b[0m\u001b[0ml\u001b[0m\u001b[0;34m)\u001b[0m\u001b[0;34m\u001b[0m\u001b[0;34m\u001b[0m\u001b[0m\n\u001b[0;32m----> 4\u001b[0;31m \u001b[0ml2\u001b[0m \u001b[0;34m=\u001b[0m \u001b[0mlist\u001b[0m\u001b[0;34m(\u001b[0m\u001b[0ms\u001b[0m\u001b[0;34m)\u001b[0m\u001b[0;34m\u001b[0m\u001b[0;34m\u001b[0m\u001b[0m\n\u001b[0m\u001b[1;32m      5\u001b[0m \u001b[0;34m\u001b[0m\u001b[0m\n\u001b[1;32m      6\u001b[0m \u001b[0mprint\u001b[0m\u001b[0;34m(\u001b[0m\u001b[0ms\u001b[0m\u001b[0;34m)\u001b[0m\u001b[0;34m\u001b[0m\u001b[0;34m\u001b[0m\u001b[0m\n",
            "\u001b[0;31mTypeError\u001b[0m: 'list' object is not callable"
          ]
        }
      ]
    },
    {
      "cell_type": "code",
      "metadata": {
        "colab": {
          "base_uri": "https://localhost:8080/"
        },
        "id": "J9HrXZ9pEn02",
        "outputId": "366d87e2-e4e7-4f61-aafc-d66ac9388462"
      },
      "source": [
        "#교집합 = '&', 합집합 = \"|\" \n",
        "s= {1,2,3}\n",
        "s2 = {4,5,6}\n",
        "\n",
        "s= s|s2\n",
        "print(s)\n",
        "\n",
        "s = s&s2\n",
        "print(s)\n"
      ],
      "execution_count": null,
      "outputs": [
        {
          "output_type": "stream",
          "text": [
            "{1, 2, 3, 4, 5, 6}\n",
            "{4, 5, 6}\n"
          ],
          "name": "stdout"
        }
      ]
    },
    {
      "cell_type": "code",
      "metadata": {
        "colab": {
          "base_uri": "https://localhost:8080/"
        },
        "id": "pamHPWwsIKO4",
        "outputId": "1a9dc0c6-1ea3-4199-9a1f-ecfff0e14524"
      },
      "source": [
        "l1 = [1,2,3]\n",
        "l2 = [4,5,6]\n",
        "\n",
        "s1 = set(l1)\n",
        "s2 = set(l2)\n",
        "\n",
        "u = s1|s2\n",
        "u= list( set(l1) | set(l2) )\n",
        "print(t)"
      ],
      "execution_count": null,
      "outputs": [
        {
          "output_type": "stream",
          "text": [
            "{1, 2, 3, 4, 5, 6}\n"
          ],
          "name": "stdout"
        }
      ]
    },
    {
      "cell_type": "code",
      "metadata": {
        "colab": {
          "base_uri": "https://localhost:8080/",
          "height": 239
        },
        "id": "5qJRJUDwIwO-",
        "outputId": "9aefc22c-cdd2-46fc-8211-0b95ed175816"
      },
      "source": [
        "d1 = {'tom' : 30, 'jerry' : 32 ,'철수' : 25, \"영희\" : 27 }\n",
        "d2 = {'tom' : 30 ,'철수' : 25, \"bob\" :33 }\n",
        "\n",
        "d1_names = set(d1.keys())\n",
        "d2_names = set(d2.keys())\n",
        "all_names = list(d1_names | d2_names )\n",
        "\n",
        "print(all_names)"
      ],
      "execution_count": null,
      "outputs": [
        {
          "output_type": "error",
          "ename": "TypeError",
          "evalue": "ignored",
          "traceback": [
            "\u001b[0;31m---------------------------------------------------------------------------\u001b[0m",
            "\u001b[0;31mTypeError\u001b[0m                                 Traceback (most recent call last)",
            "\u001b[0;32m<ipython-input-129-56c48a34404e>\u001b[0m in \u001b[0;36m<module>\u001b[0;34m()\u001b[0m\n\u001b[1;32m      4\u001b[0m \u001b[0md1_names\u001b[0m \u001b[0;34m=\u001b[0m \u001b[0mset\u001b[0m\u001b[0;34m(\u001b[0m\u001b[0md1\u001b[0m\u001b[0;34m.\u001b[0m\u001b[0mkeys\u001b[0m\u001b[0;34m(\u001b[0m\u001b[0;34m)\u001b[0m\u001b[0;34m)\u001b[0m\u001b[0;34m\u001b[0m\u001b[0;34m\u001b[0m\u001b[0m\n\u001b[1;32m      5\u001b[0m \u001b[0md2_names\u001b[0m \u001b[0;34m=\u001b[0m \u001b[0mset\u001b[0m\u001b[0;34m(\u001b[0m\u001b[0md2\u001b[0m\u001b[0;34m.\u001b[0m\u001b[0mkeys\u001b[0m\u001b[0;34m(\u001b[0m\u001b[0;34m)\u001b[0m\u001b[0;34m)\u001b[0m\u001b[0;34m\u001b[0m\u001b[0;34m\u001b[0m\u001b[0m\n\u001b[0;32m----> 6\u001b[0;31m \u001b[0mall_names\u001b[0m \u001b[0;34m=\u001b[0m \u001b[0mlist\u001b[0m\u001b[0;34m(\u001b[0m\u001b[0md1_names\u001b[0m \u001b[0;34m|\u001b[0m \u001b[0md2_names\u001b[0m \u001b[0;34m)\u001b[0m\u001b[0;34m\u001b[0m\u001b[0;34m\u001b[0m\u001b[0m\n\u001b[0m\u001b[1;32m      7\u001b[0m \u001b[0;34m\u001b[0m\u001b[0m\n\u001b[1;32m      8\u001b[0m \u001b[0mprint\u001b[0m\u001b[0;34m(\u001b[0m\u001b[0mall_names\u001b[0m\u001b[0;34m)\u001b[0m\u001b[0;34m\u001b[0m\u001b[0;34m\u001b[0m\u001b[0m\n",
            "\u001b[0;31mTypeError\u001b[0m: 'list' object is not callable"
          ]
        }
      ]
    },
    {
      "cell_type": "code",
      "metadata": {
        "colab": {
          "base_uri": "https://localhost:8080/"
        },
        "id": "sU07AR3yKrWV",
        "outputId": "9c95c517-b86c-4bd8-b9f9-176c11ab6f6a"
      },
      "source": [
        "d3 ={}\n",
        "\n",
        "\n",
        "for k,v in d1.items():\n",
        "    print(k)\n",
        "    \n",
        "    # if k in d2.keys != True:\n"
      ],
      "execution_count": null,
      "outputs": [
        {
          "output_type": "stream",
          "text": [
            "tom\n",
            "<built-in method keys of dict object at 0x7f8c7a3b5a50>\n",
            "jerry\n",
            "<built-in method keys of dict object at 0x7f8c7a3b5a50>\n",
            "철수\n",
            "<built-in method keys of dict object at 0x7f8c7a3b5a50>\n",
            "영희\n",
            "<built-in method keys of dict object at 0x7f8c7a3b5a50>\n",
            "bob\n",
            "<built-in method keys of dict object at 0x7f8c7a3b5a50>\n"
          ],
          "name": "stdout"
        }
      ]
    },
    {
      "cell_type": "code",
      "metadata": {
        "colab": {
          "base_uri": "https://localhost:8080/"
        },
        "id": "GLyXGZ_rLoKj",
        "outputId": "82f436a7-a11d-4f78-d763-1c7135b2cb52"
      },
      "source": [
        "l = [1,1,2,2,2,3,4,4,5,5,3,4,5]\n",
        "\n",
        "#1-1\n",
        "for i in range(min(l), max(l)+1):\n",
        "    print(\"{} : {}\".format(i,l.count(i)))\n",
        "\n"
      ],
      "execution_count": null,
      "outputs": [
        {
          "output_type": "stream",
          "text": [
            "1 : 2\n",
            "2 : 3\n",
            "3 : 2\n",
            "4 : 3\n",
            "5 : 3\n"
          ],
          "name": "stdout"
        }
      ]
    },
    {
      "cell_type": "code",
      "metadata": {
        "colab": {
          "base_uri": "https://localhost:8080/"
        },
        "id": "9GwnFKE5l9EU",
        "outputId": "95d8169b-58c8-4729-e5ab-0477cc4f9448"
      },
      "source": [
        "#1-2 다시 코드 보기 \n",
        "\n",
        "l = [2,1,1,2,3,2,2,3,4,5,4,5,4,5]\n",
        "\n",
        "count_map = {}\n",
        "for i in l:\n",
        "    if i in count_map:\n",
        "        count= count_map[i]\n",
        "        print(count)\n",
        "    else:\n",
        "        count = 0\n",
        "    count +=1\n",
        "    count_map[i] = count\n",
        "    print(count_map)\n",
        "\n",
        "# print(count_map)\n",
        "\n",
        "# keys = list(count_map.keys())\n",
        "\n",
        "# keys.sort()\n",
        "\n",
        "# for i in keys:\n",
        "#     print(\"{} : {}\".format(i, count_map[i]))"
      ],
      "execution_count": null,
      "outputs": [
        {
          "output_type": "stream",
          "text": [
            "{2: 1}\n",
            "{2: 1, 1: 1}\n",
            "1\n",
            "{2: 1, 1: 2}\n",
            "1\n",
            "{2: 2, 1: 2}\n",
            "{2: 2, 1: 2, 3: 1}\n",
            "2\n",
            "{2: 3, 1: 2, 3: 1}\n",
            "3\n",
            "{2: 4, 1: 2, 3: 1}\n",
            "1\n",
            "{2: 4, 1: 2, 3: 2}\n",
            "{2: 4, 1: 2, 3: 2, 4: 1}\n",
            "{2: 4, 1: 2, 3: 2, 4: 1, 5: 1}\n",
            "1\n",
            "{2: 4, 1: 2, 3: 2, 4: 2, 5: 1}\n",
            "1\n",
            "{2: 4, 1: 2, 3: 2, 4: 2, 5: 2}\n",
            "2\n",
            "{2: 4, 1: 2, 3: 2, 4: 3, 5: 2}\n",
            "2\n",
            "{2: 4, 1: 2, 3: 2, 4: 3, 5: 3}\n"
          ],
          "name": "stdout"
        }
      ]
    },
    {
      "cell_type": "code",
      "metadata": {
        "id": "_pJDUYm4mGyW"
      },
      "source": [
        "#file IO \n",
        "f = open(\"greeting.txt\", \"w\")\n",
        "f.write(\"hello\")\n",
        "f.write(\"hi\\n\")\n",
        "f.write(\"halo\\n\")\n",
        "f.close()"
      ],
      "execution_count": null,
      "outputs": []
    },
    {
      "cell_type": "code",
      "metadata": {
        "colab": {
          "base_uri": "https://localhost:8080/"
        },
        "id": "DEDJeUdlmzP2",
        "outputId": "a09d2eb2-c05f-4460-dcd6-32d0b95888fa"
      },
      "source": [
        "!ls -al\n"
      ],
      "execution_count": null,
      "outputs": [
        {
          "output_type": "stream",
          "text": [
            "total 20\n",
            "drwxr-xr-x 1 root root 4096 May 11 04:22 .\n",
            "drwxr-xr-x 1 root root 4096 May 11 03:54 ..\n",
            "drwxr-xr-x 4 root root 4096 May  6 13:43 .config\n",
            "-rw-r--r-- 1 root root   14 May 11 04:22 greeting.txt\n",
            "drwxr-xr-x 1 root root 4096 May  6 13:44 sample_data\n"
          ],
          "name": "stdout"
        }
      ]
    },
    {
      "cell_type": "markdown",
      "metadata": {
        "id": "4TRmLvWPqPY1"
      },
      "source": [
        "# 새 섹션"
      ]
    },
    {
      "cell_type": "code",
      "metadata": {
        "id": "HKjsTYwkpwqL"
      },
      "source": [
        "f1 = open(\"doc1.txt\")\n",
        "f2 = open(\"doc2.txt\")\n",
        "f3 = open(\"doc3.txt\")\n"
      ],
      "execution_count": null,
      "outputs": []
    },
    {
      "cell_type": "code",
      "metadata": {
        "colab": {
          "base_uri": "https://localhost:8080/"
        },
        "id": "rtvpLolYsbNy",
        "outputId": "3af10939-f88b-4620-dfc0-490befc89a03"
      },
      "source": [
        "f = open(\"greeting.txt\", \"r\")\n",
        "line = f.readline()\n",
        "f.close()\n",
        "print(line)"
      ],
      "execution_count": null,
      "outputs": [
        {
          "output_type": "stream",
          "text": [
            "hellohi\n",
            "\n"
          ],
          "name": "stdout"
        }
      ]
    },
    {
      "cell_type": "code",
      "metadata": {
        "colab": {
          "base_uri": "https://localhost:8080/"
        },
        "id": "3C5vImcOsmNO",
        "outputId": "c200250b-c40f-402b-ff67-a58aa9f9a823"
      },
      "source": [
        "f = open(\"greeting.txt\", \"r\")\n",
        "lines = f.readlines() #list\n",
        "f.close()\n",
        "print(lines)"
      ],
      "execution_count": null,
      "outputs": [
        {
          "output_type": "stream",
          "text": [
            "['hellohi\\n', 'halo\\n']\n"
          ],
          "name": "stdout"
        }
      ]
    },
    {
      "cell_type": "code",
      "metadata": {
        "id": "xoznhhNUthbK"
      },
      "source": [
        "names = [\"tom\", \"jerry\",\"철수\",\"영희\"]\n",
        "\n",
        "#2-1 틀림 \n",
        "f = open(\"name.txt\", \"w\")\n",
        "for name in names:\n",
        "    # f = open(\"name.txt\", \"w\")\n",
        "    f.write(name+\"\\n\")\n",
        "f.close()"
      ],
      "execution_count": null,
      "outputs": []
    },
    {
      "cell_type": "code",
      "metadata": {
        "colab": {
          "base_uri": "https://localhost:8080/"
        },
        "id": "_T5HojgEuP-C",
        "outputId": "58fc2a80-92ac-497d-b87e-7dd8fa188057"
      },
      "source": [
        "#2-2\n",
        "f = open(\"name.txt\", \"r\")\n",
        "raw_lines = f.readlines() #list\n",
        "f.close()\n",
        "print(lines)\n",
        "\n",
        "names = []\n",
        "for line in raw_lines:\n",
        "    names.append(line[:-1]) #replace \n",
        "print(names)\n"
      ],
      "execution_count": null,
      "outputs": [
        {
          "output_type": "stream",
          "text": [
            "['tom', 'jerry', '철수', '영희', [], [], [], [], [], [], [], []]\n",
            "['tom', 'jerry', '철수', '영희']\n"
          ],
          "name": "stdout"
        }
      ]
    },
    {
      "cell_type": "code",
      "metadata": {
        "colab": {
          "base_uri": "https://localhost:8080/"
        },
        "id": "ucBOUxCcv2pt",
        "outputId": "b4f1217e-2493-4ed5-9c69-75c68874d883"
      },
      "source": [
        "#2-3 join 사용 \n",
        "\n",
        "names = [\"tom\", \"jerry\",\"철수\",\"영희\"]\n",
        "\n",
        "line = \",\".join(names)\n",
        "f = open(\"name.txt\", \"w\")\n",
        "f.write(line)\n",
        "f.close()\n",
        "print(line)\n",
        "\n",
        "\n",
        "\n",
        "f = open(\"name.txt\", \"r\")\n",
        "raw_lines = f.readlines() #list\n",
        "f.close()\n",
        "\n",
        "\n",
        "names = raw_lines[0].split(\",\")\n",
        "print(names)"
      ],
      "execution_count": null,
      "outputs": [
        {
          "output_type": "stream",
          "text": [
            "tom,jerry,철수,영희\n",
            "['tom', 'jerry', '철수', '영희']\n"
          ],
          "name": "stdout"
        }
      ]
    },
    {
      "cell_type": "code",
      "metadata": {
        "colab": {
          "base_uri": "https://localhost:8080/"
        },
        "id": "RBNVTWaFxo4Z",
        "outputId": "660a430b-274b-4aed-818a-51ad1f68744b"
      },
      "source": [
        "f = open(\"name.txt\", \"a\")\n",
        "f.write(\"tom\\n\")\n",
        "f.write(\"jerry\\n\")\n",
        "f.close()\n",
        "\n",
        "#읽기\n",
        "!cat name.txt"
      ],
      "execution_count": null,
      "outputs": [
        {
          "output_type": "stream",
          "text": [
            "tom,jerry,철수,영희tom\n",
            "tom\n",
            "jerry\n"
          ],
          "name": "stdout"
        }
      ]
    },
    {
      "cell_type": "code",
      "metadata": {
        "colab": {
          "base_uri": "https://localhost:8080/"
        },
        "id": "_kJxlazz2fhc",
        "outputId": "3a751610-425d-4eed-84c8-da30e2ac777e"
      },
      "source": [
        "def show_file(file_name):\n",
        "    f = open(\"{}\".format(file_name), \"r\")\n",
        "    raw_lines = f.readlines() #list\n",
        "    f.close() \n",
        "    for line in raw_lines: #\\n를 안보이게 하기 위해서 for 문을 돌린다. \n",
        "        print(line, end =\"\")\n",
        "\n",
        "show_file(\"name.txt\")"
      ],
      "execution_count": null,
      "outputs": [
        {
          "output_type": "stream",
          "text": [
            "tom,jerry,철수,영희tom\n",
            "tom\n",
            "jerry\n"
          ],
          "name": "stdout"
        }
      ]
    },
    {
      "cell_type": "code",
      "metadata": {
        "colab": {
          "base_uri": "https://localhost:8080/"
        },
        "id": "uFRD9HBl3gv1",
        "outputId": "3defeffe-0c5c-4bc1-a942-929f6cf7d695"
      },
      "source": [
        "#읽기\n",
        "!cat name.txt"
      ],
      "execution_count": null,
      "outputs": [
        {
          "output_type": "stream",
          "text": [
            "tom\n",
            "jerry\n"
          ],
          "name": "stdout"
        }
      ]
    },
    {
      "cell_type": "code",
      "metadata": {
        "colab": {
          "base_uri": "https://localhost:8080/"
        },
        "id": "I6H2L1GZ4JZg",
        "outputId": "53721e64-9de5-4278-d1e7-8c38183a5aa2"
      },
      "source": [
        "#quiz1\n",
        "f = open(\"name.txt\", \"r\")\n",
        "raw_lines = f.readlines() \n",
        "f.close() \n",
        "for line in raw_lines: #\\n를 안보이게 하기 위해서 for 문을 돌린다. \n",
        "    print(line.upper(), end =\"\")"
      ],
      "execution_count": null,
      "outputs": [
        {
          "output_type": "stream",
          "text": [
            "TOM\n",
            "JERRY\n"
          ],
          "name": "stdout"
        }
      ]
    },
    {
      "cell_type": "code",
      "metadata": {
        "colab": {
          "base_uri": "https://localhost:8080/"
        },
        "id": "RrnuL9k24OkM",
        "outputId": "be3c8697-ac1e-4b3b-92a3-efaca26ec100"
      },
      "source": [
        "#quiz 2 \"사용자 입력을 받아, name.txt\"에 저장. 그리고 파일 내용 출력하여 확인\n",
        "\n",
        "\n",
        "def show_file(file_name):\n",
        "    f = open(\"{}\".format(file_name), \"r\")\n",
        "    raw_lines = f.readlines() #list\n",
        "    f.close() \n",
        "    for line in raw_lines: #\\n를 안보이게 하기 위해서 for 문을 돌린다. \n",
        "        print(line, end =\"\")\n",
        "\n",
        "\n",
        "txt = input() \n",
        "f = open(\"name.txt\", \"w\")\n",
        "f.write(txt+\"\\n\")\n",
        "f.close()\n",
        "\n",
        "txt = input() \n",
        "f = open(\"name.txt\", \"a\")\n",
        "f.write(txt+\"\\n\")\n",
        "f.close()\n",
        "\n",
        "show_file(\"name.txt\")\n",
        "\n",
        "\n"
      ],
      "execution_count": 118,
      "outputs": [
        {
          "output_type": "stream",
          "text": [
            "tom\n",
            "jerry\n",
            "tom\n",
            "jerry\n"
          ],
          "name": "stdout"
        }
      ]
    },
    {
      "cell_type": "code",
      "metadata": {
        "id": "jmpnSQvA5LCo",
        "colab": {
          "base_uri": "https://localhost:8080/"
        },
        "outputId": "42ccde5c-2993-4f65-bc18-6bc31a8333f3"
      },
      "source": [
        "#Quiz 이름을 입력하고 name.txt에 추가(\"a\"). 그리고 파일 내용 확인. 이를 계속 반복 .exit 입력되면 종료 \n",
        "#me\n",
        "def show_file(file_name):\n",
        "    f = open(\"{}\".format(file_name), \"r\")\n",
        "    raw_lines = f.readlines() #list\n",
        "    f.close() \n",
        "    names = raw_lines[0].split(\",\")\n",
        "    # print(names)\n",
        "    for line in names: #\\n를 안보이게 하기 위해서 for 문을 돌린다. \n",
        "        print(line)\n",
        "\n",
        "names = []\n",
        "while True : \n",
        "    txt = input() \n",
        "     \n",
        "    if txt == \"exit\": break\n",
        "\n",
        "    else:\n",
        "        names.append(txt)\n",
        "\n",
        "        line = \",\".join(names)\n",
        "        f = open(\"name.txt\", \"w\")\n",
        "        f.write(line)\n",
        "        f.close()\n",
        "        show_file(\"name.txt\")\n"
      ],
      "execution_count": 143,
      "outputs": [
        {
          "output_type": "stream",
          "text": [
            "tom\n",
            "tome\n",
            "jerytom\n",
            "\n",
            "exit\n"
          ],
          "name": "stdout"
        }
      ]
    },
    {
      "cell_type": "code",
      "metadata": {
        "colab": {
          "base_uri": "https://localhost:8080/"
        },
        "id": "TmTYScb79Rtl",
        "outputId": "6d5a5ecc-ab4b-4ac2-930d-7b6c6bc555e4"
      },
      "source": [
        "#Techer\n",
        "\n",
        "def show_file(file_name):\n",
        "    f = open(file_name, \"r\")\n",
        "    lines = f.readlines() #list\n",
        "    f.close() \n",
        "    for line in lines: #\\n를 안보이게 하기 위해서 for 문을 돌린다. \n",
        "        print(line, end = \"\")\n",
        "\n",
        "def write_to_file(file_name, value):\n",
        "    f = open(file_name, \"a\")\n",
        "    f.write(value + \"\\n\")\n",
        "    f.close()\n",
        "\n",
        "File_name = \"name.txt\"\n",
        "while True : \n",
        "    i = input()   \n",
        "    if i == \"exit\": break\n",
        "    write_to_file(File_name, i)\n",
        "    show_file(File_name)\n",
        "\n"
      ],
      "execution_count": 141,
      "outputs": [
        {
          "output_type": "stream",
          "text": [
            "tom\n",
            "tome,jerytom\n",
            "jerrr\n",
            "tom\n",
            "jerry\n",
            "hi\n",
            "huhu\n",
            "tom\n",
            "jrry\n",
            "tom\n",
            "exit\n"
          ],
          "name": "stdout"
        }
      ]
    },
    {
      "cell_type": "code",
      "metadata": {
        "colab": {
          "base_uri": "https://localhost:8080/"
        },
        "id": "t1dVA5cVB7Pp",
        "outputId": "0bbf0c66-f838-4da5-b6c7-66ff9dc82186"
      },
      "source": [
        "#문제 \n",
        "def show_file(file_name):\n",
        "    f = open(file_name, \"r\")\n",
        "    lines = f.readlines() #list\n",
        "    f.close() \n",
        "    for line in lines: #\\n를 안보이게 하기 위해서 for 문을 돌린다. \n",
        "        print(line, end = \"\")\n",
        "\n",
        "f = open(\"source.txt\", \"w\")\n",
        "f.write(\"\"\"2,3\n",
        "4,5\n",
        "7,1\"\"\")\n",
        "f.close()\n",
        "\n",
        "show_file(\"source.txt\")\n",
        "\n",
        "\n"
      ],
      "execution_count": 157,
      "outputs": [
        {
          "output_type": "stream",
          "text": [
            "2,3\n",
            "4,5\n",
            "7,1"
          ],
          "name": "stdout"
        }
      ]
    },
    {
      "cell_type": "code",
      "metadata": {
        "colab": {
          "base_uri": "https://localhost:8080/"
        },
        "id": "cSeIWkGrFGjZ",
        "outputId": "0656ef81-a0f6-45fd-df0c-caba1087eac3"
      },
      "source": [
        "#T solution_1\n",
        "f = open(\"source.txt\", \"r\")\n",
        "lines = f.readlines() #list\n",
        "f.close() \n",
        "\n",
        "new_lines = []\n",
        "for line in lines:\n",
        "    if line.endswith(\"\\n\"):\n",
        "        line = line[:-1]\n",
        "    print(line)\n",
        "\n",
        "    values = line.split(\",\")\n",
        "    answer = int(values[0]) + int(values[1])\n",
        "    new_line = \",\".join([values[0], values[1], str(answer)])\n",
        "    new_lines.append(new_line)\n",
        "\n",
        "print(new_lines)\n",
        "\n",
        "f = open(\"sum.txt\", 'w')\n",
        "for line in new_lines:\n",
        "    f.write(line + \"\\n\")\n",
        "f.close()\n",
        "\n",
        "show_file(\"sum.txt\")"
      ],
      "execution_count": 156,
      "outputs": [
        {
          "output_type": "stream",
          "text": [
            "2,3\n",
            "4,5\n",
            "7,1\n",
            "['2,3,5', '4,5,9', '7,1,8']\n",
            "2,3,5\n",
            "4,5,9\n",
            "7,1,8\n"
          ],
          "name": "stdout"
        }
      ]
    },
    {
      "cell_type": "code",
      "metadata": {
        "id": "ivwkJQtOHkSO"
      },
      "source": [
        "#T solution_2 \"def 함수를 최대한 활용한 코드\"\n",
        "\n",
        "#문제 파일읽기ㅣ \n",
        "f = open(\"source.txt\", \"r\")\n",
        "lines = f.readlines() #list\n",
        "f.close() \n",
        "\n",
        "def clean_line(line):\n",
        "    if line.endswith(\"\\n\"):\n",
        "        line = line[:-1]\n",
        "    return line\n",
        "\n",
        "\n",
        "def calculate_line(line):\n",
        "    values = line.split(\",\")\n",
        "    v1, v2 = int(values[0]),int(values[1])\n",
        "    answer = v1 + v2 \n",
        "    new_values = [v1, v2 ,answer]\n",
        "    new_line = \",\".join(new_values)\n",
        "    new_lines.append(new_line)\n",
        "\n",
        "new_lines = []\n",
        "for line in lines:\n",
        "    if line.endswith(\"\\n\"):\n",
        "        line = line[:-1]\n",
        "    print(line)\n",
        "\n",
        "    values = line.split(\",\")\n",
        "    v1, v2 = int(values[0]),int(values[1])\n",
        "    answer = v1 + v2 \n",
        "    new_values = [v1, v2 ,answer]\n",
        "    new_line = \",\".join(new_values)\n",
        "    new_lines.append(new_line)\n",
        "\n",
        "print(new_lines)\n",
        "\n",
        "f = open(\"sum.txt\", 'w')\n",
        "for line in new_lines:\n",
        "    f.write(line + \"\\n\")\n",
        "f.close()\n",
        "\n",
        "show_file(\"sum.txt\")"
      ],
      "execution_count": null,
      "outputs": []
    },
    {
      "cell_type": "code",
      "metadata": {
        "id": "PIORNeosQGyr"
      },
      "source": [
        "#파일을 줄단위로 읽어서 리스트를 얻는다. \n",
        "lines = read_line(\"source.txt\")\n",
        "\n",
        "#줄단위로 계산해서 리스트를 얻는다.\n",
        "calculated_lines = calculated_lines(lines)\n",
        "\n",
        "#리스트를 파일로 저장한다. \n",
        "write_to_file(\"sum.txt\", calculated_lines)\n",
        "\n",
        "#파일 내용을 출력한다. \n",
        "show_file(\"sum.txt\")"
      ],
      "execution_count": null,
      "outputs": []
    },
    {
      "cell_type": "markdown",
      "metadata": {
        "id": "855LJfwVUGvZ"
      },
      "source": [
        "##Quiz \n",
        "\n",
        "'''\n",
        "tom \n",
        "jerrry\n",
        "철수\n",
        "영희\n",
        "'''\n",
        "\n",
        "'''\n",
        "\"Tom의 나이는? \" 30 \n",
        "\"Tom의 나이는? \" 30 \n",
        "'''\n",
        "\n",
        "화면에 출력\n",
        "'''\n",
        "tom.30\n",
        "jerry,33\n",
        "철수\n",
        "'''\n",
        "\n",
        "\n"
      ]
    },
    {
      "cell_type": "code",
      "metadata": {
        "colab": {
          "base_uri": "https://localhost:8080/"
        },
        "id": "KapVkCozTgFO",
        "outputId": "9e42fac5-41a9-413f-9bec-dfdb090478e2"
      },
      "source": [
        "#task.1 source.txt에서 파일을 읽어서 다음 리스트를 구하기 \n",
        "names = [\"Tom\", \"Jerry\", \"철수\" ,\"영희\"]\n",
        "\n",
        "#tasy2 for 루프를 돌면서 input으로 age를 받고 다음 dict를 만들기\n",
        "age_map ={'Tom': 30, 'Jerry': 1, '철수': 32, '영희': 3}\n",
        "#tast3 for 루프를 돌면서 다음 문자열을 만들기\n",
        "out_lines = ['Tom , 30', 'Jerry , 33', '철수 , 25', '영희 , 23']\n",
        "#tast4 for 루프를 돌면서 리스트 항목을 출력하기 \n",
        "Tom , 30\n",
        "Jerry , 33\n",
        "철수 , 25\n",
        "영희 , 23\n",
        "\n",
        "#tast4-2  for 루프를 돌면서 리스트를  name_and_age.txt에 출력하기 \n",
        "\n"
      ],
      "execution_count": 162,
      "outputs": [
        {
          "output_type": "stream",
          "text": [
            "Tom의 나이는 : ?30\n",
            "Jerry의 나이는 : ?1\n",
            "철수의 나이는 : ?32\n",
            "영희의 나이는 : ?3\n",
            "[30, 1, 32, 3]\n"
          ],
          "name": "stdout"
        }
      ]
    },
    {
      "cell_type": "code",
      "metadata": {
        "colab": {
          "base_uri": "https://localhost:8080/"
        },
        "id": "tj0kksPKWOrg",
        "outputId": "34b71d6a-d7a2-4f5b-b766-792eb5ef90c2"
      },
      "source": [
        "#tast2\n",
        "\n",
        "names = ['Tom', 'Jerry', '철수' ,'영희']\n",
        "\n",
        "age_map = {}\n",
        "for i in names:\n",
        "    age = input(\"{}의 나이는 : ?\".format(name))\n",
        "    \n",
        "    ages.append(int(age))\n",
        "\n",
        "print(age_map)"
      ],
      "execution_count": 163,
      "outputs": [
        {
          "output_type": "stream",
          "text": [
            "{'Tom': 30, 'Jerry': 1, '철수': 32, '영희': 3}\n"
          ],
          "name": "stdout"
        }
      ]
    },
    {
      "cell_type": "code",
      "metadata": {
        "colab": {
          "base_uri": "https://localhost:8080/"
        },
        "id": "A__O0y9QXOJr",
        "outputId": "22e661ad-a8d0-4890-c388-5d4fd6460469"
      },
      "source": [
        "#task.3\n",
        "\n",
        "age_map = {\"Tom\" : 30, \"Jerry\" : 33, '철수': 25, '영희': 23}\n",
        "\n",
        "out_lines = []\n",
        "for key, value in age_map.items():\n",
        "    # out_lines.append(str(key) + \",\" + str(value))\n",
        "    out_lines.append(\"{},{}\".format(key,value))\n",
        "\n",
        "print(out_lines)"
      ],
      "execution_count": 167,
      "outputs": [
        {
          "output_type": "stream",
          "text": [
            "['Tom , 30', 'Jerry , 33', '철수 , 25', '영희 , 23']\n"
          ],
          "name": "stdout"
        }
      ]
    },
    {
      "cell_type": "code",
      "metadata": {
        "colab": {
          "base_uri": "https://localhost:8080/"
        },
        "id": "yZRtr5m8YMU4",
        "outputId": "fb242021-3e3b-4378-c645-80851520cc24"
      },
      "source": [
        "#task.4\n",
        "for a_line in out_lines:\n",
        "    print(a_line)"
      ],
      "execution_count": 168,
      "outputs": [
        {
          "output_type": "stream",
          "text": [
            "Tom , 30\n",
            "Jerry , 33\n",
            "철수 , 25\n",
            "영희 , 23\n"
          ],
          "name": "stdout"
        }
      ]
    },
    {
      "cell_type": "code",
      "metadata": {
        "colab": {
          "base_uri": "https://localhost:8080/"
        },
        "id": "gW-XAwkLa-UP",
        "outputId": "c81c5655-b082-405a-85f3-992b6b31ec1d"
      },
      "source": [
        "#tast4-2  for 루프를 돌면서 리스트를  name_and_age.txt에 저장하기\n",
        "\n",
        "# print(out_lines)\n",
        " f = open(\"name_and_age.txt\", \"a\")\n",
        "for a_line in out_lines:\n",
        "    f.write(a_line+ \"\\n\")\n",
        "f.close()\n",
        "\n",
        "show_file(\"name_and_age.txt\")"
      ],
      "execution_count": 171,
      "outputs": [
        {
          "output_type": "stream",
          "text": [
            "Tom , 30\n",
            "Jerry , 33\n",
            "철수 , 25\n",
            "영희 , 23\n"
          ],
          "name": "stdout"
        }
      ]
    },
    {
      "cell_type": "code",
      "metadata": {
        "id": "brOggUBVdCnh"
      },
      "source": [
        "file_name = \"name_and_age.txt\"\n",
        "def write_to_file(file_name, value):\n",
        "    f = open(file_name, \"a\")\n",
        "    f.write(value + \"\\n\")\n",
        "    f.close()\n"
      ],
      "execution_count": null,
      "outputs": []
    },
    {
      "cell_type": "code",
      "metadata": {
        "colab": {
          "base_uri": "https://localhost:8080/",
          "height": 186
        },
        "id": "7fGeSz2zfilV",
        "outputId": "7f444262-1d03-432e-92d5-1834fd669645"
      },
      "source": [
        ""
      ],
      "execution_count": 175,
      "outputs": [
        {
          "output_type": "error",
          "ename": "AttributeError",
          "evalue": "ignored",
          "traceback": [
            "\u001b[0;31m---------------------------------------------------------------------------\u001b[0m",
            "\u001b[0;31mAttributeError\u001b[0m                            Traceback (most recent call last)",
            "\u001b[0;32m<ipython-input-175-709bf6542ee7>\u001b[0m in \u001b[0;36m<module>\u001b[0;34m()\u001b[0m\n\u001b[1;32m      1\u001b[0m \u001b[0mi\u001b[0m\u001b[0;34m=\u001b[0m \u001b[0;34m(\u001b[0m\u001b[0;36m1\u001b[0m\u001b[0;34m,\u001b[0m\u001b[0;36m2\u001b[0m\u001b[0;34m,\u001b[0m\u001b[0;36m3\u001b[0m\u001b[0;34m)\u001b[0m\u001b[0;34m\u001b[0m\u001b[0;34m\u001b[0m\u001b[0m\n\u001b[0;32m----> 2\u001b[0;31m \u001b[0mi\u001b[0m\u001b[0;34m.\u001b[0m\u001b[0mmean\u001b[0m\u001b[0;34m(\u001b[0m\u001b[0;34m)\u001b[0m\u001b[0;34m\u001b[0m\u001b[0;34m\u001b[0m\u001b[0m\n\u001b[0m",
            "\u001b[0;31mAttributeError\u001b[0m: 'tuple' object has no attribute 'mean'"
          ]
        }
      ]
    },
    {
      "cell_type": "code",
      "metadata": {
        "id": "dsddl04Qfii4"
      },
      "source": [
        ""
      ],
      "execution_count": null,
      "outputs": []
    },
    {
      "cell_type": "code",
      "metadata": {
        "id": "TrUCRRJWficZ"
      },
      "source": [
        ""
      ],
      "execution_count": null,
      "outputs": []
    },
    {
      "cell_type": "code",
      "metadata": {
        "id": "IHU83WiEfiRh"
      },
      "source": [
        ""
      ],
      "execution_count": null,
      "outputs": []
    }
  ]
}